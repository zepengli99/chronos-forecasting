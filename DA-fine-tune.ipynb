{
 "cells": [
  {
   "cell_type": "code",
   "execution_count": null,
   "metadata": {
    "id": "aXe2asWcIFeA"
   },
   "outputs": [],
   "source": [
    "!pip install --force-reinstall \"chronos-forecasting[training] @ git+https://github.com/zepengli99/chronos-forecasting.git\""
   ]
  },
  {
   "cell_type": "code",
   "execution_count": 1,
   "metadata": {
    "colab": {
     "base_uri": "https://localhost:8080/"
    },
    "executionInfo": {
     "elapsed": 140481,
     "status": "ok",
     "timestamp": 1738955621487,
     "user": {
      "displayName": "Zepeng Li",
      "userId": "04563086650751250217"
     },
     "user_tz": -60
    },
    "id": "GldJKDorRDkC",
    "outputId": "09fb9abe-a428-422c-dcfc-4ab7f5033c56"
   },
   "outputs": [
    {
     "name": "stdout",
     "output_type": "stream",
     "text": [
      "Collecting chronos-forecasting@ git+https://github.com/zepengli99/chronos-forecasting.git (from chronos-forecasting[training]@ git+https://github.com/zepengli99/chronos-forecasting.git)\n",
      "  Cloning https://github.com/zepengli99/chronos-forecasting.git to /tmp/pip-install-bpku11uv/chronos-forecasting_4fd4765ed3134d0f8046ba9dff115dac\n",
      "  Running command git clone --filter=blob:none --quiet https://github.com/zepengli99/chronos-forecasting.git /tmp/pip-install-bpku11uv/chronos-forecasting_4fd4765ed3134d0f8046ba9dff115dac\n",
      "  Resolved https://github.com/zepengli99/chronos-forecasting.git to commit 57d052e96a17dbfee5df957ec8bdfc47beb581ef\n",
      "  Installing build dependencies ... \u001b[?25l\u001b[?25hdone\n",
      "  Getting requirements to build wheel ... \u001b[?25l\u001b[?25hdone\n",
      "  Preparing metadata (pyproject.toml) ... \u001b[?25l\u001b[?25hdone\n",
      "Collecting accelerate<1,>=0.32 (from chronos-forecasting@ git+https://github.com/zepengli99/chronos-forecasting.git->chronos-forecasting[training]@ git+https://github.com/zepengli99/chronos-forecasting.git)\n",
      "  Downloading accelerate-0.34.2-py3-none-any.whl.metadata (19 kB)\n",
      "Requirement already satisfied: torch<2.6,>=2.0 in /usr/local/lib/python3.11/dist-packages (from chronos-forecasting@ git+https://github.com/zepengli99/chronos-forecasting.git->chronos-forecasting[training]@ git+https://github.com/zepengli99/chronos-forecasting.git) (2.5.1+cu124)\n",
      "Collecting transformers<4.48,>=4.30 (from chronos-forecasting@ git+https://github.com/zepengli99/chronos-forecasting.git->chronos-forecasting[training]@ git+https://github.com/zepengli99/chronos-forecasting.git)\n",
      "  Downloading transformers-4.47.1-py3-none-any.whl.metadata (44 kB)\n",
      "\u001b[2K     \u001b[90m━━━━━━━━━━━━━━━━━━━━━━━━━━━━━━━━━━━━━━━━\u001b[0m \u001b[32m44.1/44.1 kB\u001b[0m \u001b[31m2.6 MB/s\u001b[0m eta \u001b[36m0:00:00\u001b[0m\n",
      "\u001b[?25hCollecting datasets~=2.18 (from chronos-forecasting@ git+https://github.com/zepengli99/chronos-forecasting.git->chronos-forecasting[training]@ git+https://github.com/zepengli99/chronos-forecasting.git)\n",
      "  Downloading datasets-2.21.0-py3-none-any.whl.metadata (21 kB)\n",
      "Collecting gluonts~=0.15 (from gluonts[pro]~=0.15; extra == \"training\"->chronos-forecasting@ git+https://github.com/zepengli99/chronos-forecasting.git->chronos-forecasting[training]@ git+https://github.com/zepengli99/chronos-forecasting.git)\n",
      "  Downloading gluonts-0.16.0-py3-none-any.whl.metadata (9.8 kB)\n",
      "Requirement already satisfied: joblib in /usr/local/lib/python3.11/dist-packages (from chronos-forecasting@ git+https://github.com/zepengli99/chronos-forecasting.git->chronos-forecasting[training]@ git+https://github.com/zepengli99/chronos-forecasting.git) (1.4.2)\n",
      "Requirement already satisfied: numpy~=1.21 in /usr/local/lib/python3.11/dist-packages (from chronos-forecasting@ git+https://github.com/zepengli99/chronos-forecasting.git->chronos-forecasting[training]@ git+https://github.com/zepengli99/chronos-forecasting.git) (1.26.4)\n",
      "Requirement already satisfied: scikit-learn in /usr/local/lib/python3.11/dist-packages (from chronos-forecasting@ git+https://github.com/zepengli99/chronos-forecasting.git->chronos-forecasting[training]@ git+https://github.com/zepengli99/chronos-forecasting.git) (1.6.1)\n",
      "Requirement already satisfied: tensorboard in /usr/local/lib/python3.11/dist-packages (from chronos-forecasting@ git+https://github.com/zepengli99/chronos-forecasting.git->chronos-forecasting[training]@ git+https://github.com/zepengli99/chronos-forecasting.git) (2.18.0)\n",
      "Requirement already satisfied: typer in /usr/local/lib/python3.11/dist-packages (from chronos-forecasting@ git+https://github.com/zepengli99/chronos-forecasting.git->chronos-forecasting[training]@ git+https://github.com/zepengli99/chronos-forecasting.git) (0.15.1)\n",
      "Collecting typer-config (from chronos-forecasting@ git+https://github.com/zepengli99/chronos-forecasting.git->chronos-forecasting[training]@ git+https://github.com/zepengli99/chronos-forecasting.git)\n",
      "  Downloading typer_config-1.4.2-py3-none-any.whl.metadata (4.3 kB)\n",
      "Requirement already satisfied: packaging>=20.0 in /usr/local/lib/python3.11/dist-packages (from accelerate<1,>=0.32->chronos-forecasting@ git+https://github.com/zepengli99/chronos-forecasting.git->chronos-forecasting[training]@ git+https://github.com/zepengli99/chronos-forecasting.git) (24.2)\n",
      "Requirement already satisfied: psutil in /usr/local/lib/python3.11/dist-packages (from accelerate<1,>=0.32->chronos-forecasting@ git+https://github.com/zepengli99/chronos-forecasting.git->chronos-forecasting[training]@ git+https://github.com/zepengli99/chronos-forecasting.git) (5.9.5)\n",
      "Requirement already satisfied: pyyaml in /usr/local/lib/python3.11/dist-packages (from accelerate<1,>=0.32->chronos-forecasting@ git+https://github.com/zepengli99/chronos-forecasting.git->chronos-forecasting[training]@ git+https://github.com/zepengli99/chronos-forecasting.git) (6.0.2)\n",
      "Requirement already satisfied: huggingface-hub>=0.21.0 in /usr/local/lib/python3.11/dist-packages (from accelerate<1,>=0.32->chronos-forecasting@ git+https://github.com/zepengli99/chronos-forecasting.git->chronos-forecasting[training]@ git+https://github.com/zepengli99/chronos-forecasting.git) (0.28.1)\n",
      "Requirement already satisfied: safetensors>=0.4.3 in /usr/local/lib/python3.11/dist-packages (from accelerate<1,>=0.32->chronos-forecasting@ git+https://github.com/zepengli99/chronos-forecasting.git->chronos-forecasting[training]@ git+https://github.com/zepengli99/chronos-forecasting.git) (0.5.2)\n",
      "Requirement already satisfied: filelock in /usr/local/lib/python3.11/dist-packages (from datasets~=2.18->chronos-forecasting@ git+https://github.com/zepengli99/chronos-forecasting.git->chronos-forecasting[training]@ git+https://github.com/zepengli99/chronos-forecasting.git) (3.17.0)\n",
      "Requirement already satisfied: pyarrow>=15.0.0 in /usr/local/lib/python3.11/dist-packages (from datasets~=2.18->chronos-forecasting@ git+https://github.com/zepengli99/chronos-forecasting.git->chronos-forecasting[training]@ git+https://github.com/zepengli99/chronos-forecasting.git) (17.0.0)\n",
      "Collecting dill<0.3.9,>=0.3.0 (from datasets~=2.18->chronos-forecasting@ git+https://github.com/zepengli99/chronos-forecasting.git->chronos-forecasting[training]@ git+https://github.com/zepengli99/chronos-forecasting.git)\n",
      "  Downloading dill-0.3.8-py3-none-any.whl.metadata (10 kB)\n",
      "Requirement already satisfied: pandas in /usr/local/lib/python3.11/dist-packages (from datasets~=2.18->chronos-forecasting@ git+https://github.com/zepengli99/chronos-forecasting.git->chronos-forecasting[training]@ git+https://github.com/zepengli99/chronos-forecasting.git) (2.2.2)\n",
      "Requirement already satisfied: requests>=2.32.2 in /usr/local/lib/python3.11/dist-packages (from datasets~=2.18->chronos-forecasting@ git+https://github.com/zepengli99/chronos-forecasting.git->chronos-forecasting[training]@ git+https://github.com/zepengli99/chronos-forecasting.git) (2.32.3)\n",
      "Requirement already satisfied: tqdm>=4.66.3 in /usr/local/lib/python3.11/dist-packages (from datasets~=2.18->chronos-forecasting@ git+https://github.com/zepengli99/chronos-forecasting.git->chronos-forecasting[training]@ git+https://github.com/zepengli99/chronos-forecasting.git) (4.67.1)\n",
      "Collecting xxhash (from datasets~=2.18->chronos-forecasting@ git+https://github.com/zepengli99/chronos-forecasting.git->chronos-forecasting[training]@ git+https://github.com/zepengli99/chronos-forecasting.git)\n",
      "  Downloading xxhash-3.5.0-cp311-cp311-manylinux_2_17_x86_64.manylinux2014_x86_64.whl.metadata (12 kB)\n",
      "Collecting multiprocess (from datasets~=2.18->chronos-forecasting@ git+https://github.com/zepengli99/chronos-forecasting.git->chronos-forecasting[training]@ git+https://github.com/zepengli99/chronos-forecasting.git)\n",
      "  Downloading multiprocess-0.70.17-py311-none-any.whl.metadata (7.2 kB)\n",
      "Collecting fsspec<=2024.6.1,>=2023.1.0 (from fsspec[http]<=2024.6.1,>=2023.1.0->datasets~=2.18->chronos-forecasting@ git+https://github.com/zepengli99/chronos-forecasting.git->chronos-forecasting[training]@ git+https://github.com/zepengli99/chronos-forecasting.git)\n",
      "  Downloading fsspec-2024.6.1-py3-none-any.whl.metadata (11 kB)\n",
      "Requirement already satisfied: aiohttp in /usr/local/lib/python3.11/dist-packages (from datasets~=2.18->chronos-forecasting@ git+https://github.com/zepengli99/chronos-forecasting.git->chronos-forecasting[training]@ git+https://github.com/zepengli99/chronos-forecasting.git) (3.11.11)\n",
      "Requirement already satisfied: pydantic<3,>=1.7 in /usr/local/lib/python3.11/dist-packages (from gluonts~=0.15->gluonts[pro]~=0.15; extra == \"training\"->chronos-forecasting@ git+https://github.com/zepengli99/chronos-forecasting.git->chronos-forecasting[training]@ git+https://github.com/zepengli99/chronos-forecasting.git) (2.10.6)\n",
      "Requirement already satisfied: toolz~=0.10 in /usr/local/lib/python3.11/dist-packages (from gluonts~=0.15->gluonts[pro]~=0.15; extra == \"training\"->chronos-forecasting@ git+https://github.com/zepengli99/chronos-forecasting.git->chronos-forecasting[training]@ git+https://github.com/zepengli99/chronos-forecasting.git) (0.12.1)\n",
      "Requirement already satisfied: typing-extensions~=4.0 in /usr/local/lib/python3.11/dist-packages (from gluonts~=0.15->gluonts[pro]~=0.15; extra == \"training\"->chronos-forecasting@ git+https://github.com/zepengli99/chronos-forecasting.git->chronos-forecasting[training]@ git+https://github.com/zepengli99/chronos-forecasting.git) (4.12.2)\n",
      "Requirement already satisfied: orjson in /usr/local/lib/python3.11/dist-packages (from gluonts[pro]~=0.15; extra == \"training\"->chronos-forecasting@ git+https://github.com/zepengli99/chronos-forecasting.git->chronos-forecasting[training]@ git+https://github.com/zepengli99/chronos-forecasting.git) (3.10.15)\n",
      "Requirement already satisfied: networkx in /usr/local/lib/python3.11/dist-packages (from torch<2.6,>=2.0->chronos-forecasting@ git+https://github.com/zepengli99/chronos-forecasting.git->chronos-forecasting[training]@ git+https://github.com/zepengli99/chronos-forecasting.git) (3.4.2)\n",
      "Requirement already satisfied: jinja2 in /usr/local/lib/python3.11/dist-packages (from torch<2.6,>=2.0->chronos-forecasting@ git+https://github.com/zepengli99/chronos-forecasting.git->chronos-forecasting[training]@ git+https://github.com/zepengli99/chronos-forecasting.git) (3.1.5)\n",
      "Collecting nvidia-cuda-nvrtc-cu12==12.4.127 (from torch<2.6,>=2.0->chronos-forecasting@ git+https://github.com/zepengli99/chronos-forecasting.git->chronos-forecasting[training]@ git+https://github.com/zepengli99/chronos-forecasting.git)\n",
      "  Downloading nvidia_cuda_nvrtc_cu12-12.4.127-py3-none-manylinux2014_x86_64.whl.metadata (1.5 kB)\n",
      "Collecting nvidia-cuda-runtime-cu12==12.4.127 (from torch<2.6,>=2.0->chronos-forecasting@ git+https://github.com/zepengli99/chronos-forecasting.git->chronos-forecasting[training]@ git+https://github.com/zepengli99/chronos-forecasting.git)\n",
      "  Downloading nvidia_cuda_runtime_cu12-12.4.127-py3-none-manylinux2014_x86_64.whl.metadata (1.5 kB)\n",
      "Collecting nvidia-cuda-cupti-cu12==12.4.127 (from torch<2.6,>=2.0->chronos-forecasting@ git+https://github.com/zepengli99/chronos-forecasting.git->chronos-forecasting[training]@ git+https://github.com/zepengli99/chronos-forecasting.git)\n",
      "  Downloading nvidia_cuda_cupti_cu12-12.4.127-py3-none-manylinux2014_x86_64.whl.metadata (1.6 kB)\n",
      "Collecting nvidia-cudnn-cu12==9.1.0.70 (from torch<2.6,>=2.0->chronos-forecasting@ git+https://github.com/zepengli99/chronos-forecasting.git->chronos-forecasting[training]@ git+https://github.com/zepengli99/chronos-forecasting.git)\n",
      "  Downloading nvidia_cudnn_cu12-9.1.0.70-py3-none-manylinux2014_x86_64.whl.metadata (1.6 kB)\n",
      "Collecting nvidia-cublas-cu12==12.4.5.8 (from torch<2.6,>=2.0->chronos-forecasting@ git+https://github.com/zepengli99/chronos-forecasting.git->chronos-forecasting[training]@ git+https://github.com/zepengli99/chronos-forecasting.git)\n",
      "  Downloading nvidia_cublas_cu12-12.4.5.8-py3-none-manylinux2014_x86_64.whl.metadata (1.5 kB)\n",
      "Collecting nvidia-cufft-cu12==11.2.1.3 (from torch<2.6,>=2.0->chronos-forecasting@ git+https://github.com/zepengli99/chronos-forecasting.git->chronos-forecasting[training]@ git+https://github.com/zepengli99/chronos-forecasting.git)\n",
      "  Downloading nvidia_cufft_cu12-11.2.1.3-py3-none-manylinux2014_x86_64.whl.metadata (1.5 kB)\n",
      "Collecting nvidia-curand-cu12==10.3.5.147 (from torch<2.6,>=2.0->chronos-forecasting@ git+https://github.com/zepengli99/chronos-forecasting.git->chronos-forecasting[training]@ git+https://github.com/zepengli99/chronos-forecasting.git)\n",
      "  Downloading nvidia_curand_cu12-10.3.5.147-py3-none-manylinux2014_x86_64.whl.metadata (1.5 kB)\n",
      "Collecting nvidia-cusolver-cu12==11.6.1.9 (from torch<2.6,>=2.0->chronos-forecasting@ git+https://github.com/zepengli99/chronos-forecasting.git->chronos-forecasting[training]@ git+https://github.com/zepengli99/chronos-forecasting.git)\n",
      "  Downloading nvidia_cusolver_cu12-11.6.1.9-py3-none-manylinux2014_x86_64.whl.metadata (1.6 kB)\n",
      "Collecting nvidia-cusparse-cu12==12.3.1.170 (from torch<2.6,>=2.0->chronos-forecasting@ git+https://github.com/zepengli99/chronos-forecasting.git->chronos-forecasting[training]@ git+https://github.com/zepengli99/chronos-forecasting.git)\n",
      "  Downloading nvidia_cusparse_cu12-12.3.1.170-py3-none-manylinux2014_x86_64.whl.metadata (1.6 kB)\n",
      "Requirement already satisfied: nvidia-nccl-cu12==2.21.5 in /usr/local/lib/python3.11/dist-packages (from torch<2.6,>=2.0->chronos-forecasting@ git+https://github.com/zepengli99/chronos-forecasting.git->chronos-forecasting[training]@ git+https://github.com/zepengli99/chronos-forecasting.git) (2.21.5)\n",
      "Requirement already satisfied: nvidia-nvtx-cu12==12.4.127 in /usr/local/lib/python3.11/dist-packages (from torch<2.6,>=2.0->chronos-forecasting@ git+https://github.com/zepengli99/chronos-forecasting.git->chronos-forecasting[training]@ git+https://github.com/zepengli99/chronos-forecasting.git) (12.4.127)\n",
      "Collecting nvidia-nvjitlink-cu12==12.4.127 (from torch<2.6,>=2.0->chronos-forecasting@ git+https://github.com/zepengli99/chronos-forecasting.git->chronos-forecasting[training]@ git+https://github.com/zepengli99/chronos-forecasting.git)\n",
      "  Downloading nvidia_nvjitlink_cu12-12.4.127-py3-none-manylinux2014_x86_64.whl.metadata (1.5 kB)\n",
      "Requirement already satisfied: triton==3.1.0 in /usr/local/lib/python3.11/dist-packages (from torch<2.6,>=2.0->chronos-forecasting@ git+https://github.com/zepengli99/chronos-forecasting.git->chronos-forecasting[training]@ git+https://github.com/zepengli99/chronos-forecasting.git) (3.1.0)\n",
      "Requirement already satisfied: sympy==1.13.1 in /usr/local/lib/python3.11/dist-packages (from torch<2.6,>=2.0->chronos-forecasting@ git+https://github.com/zepengli99/chronos-forecasting.git->chronos-forecasting[training]@ git+https://github.com/zepengli99/chronos-forecasting.git) (1.13.1)\n",
      "Requirement already satisfied: mpmath<1.4,>=1.1.0 in /usr/local/lib/python3.11/dist-packages (from sympy==1.13.1->torch<2.6,>=2.0->chronos-forecasting@ git+https://github.com/zepengli99/chronos-forecasting.git->chronos-forecasting[training]@ git+https://github.com/zepengli99/chronos-forecasting.git) (1.3.0)\n",
      "Requirement already satisfied: regex!=2019.12.17 in /usr/local/lib/python3.11/dist-packages (from transformers<4.48,>=4.30->chronos-forecasting@ git+https://github.com/zepengli99/chronos-forecasting.git->chronos-forecasting[training]@ git+https://github.com/zepengli99/chronos-forecasting.git) (2024.11.6)\n",
      "Requirement already satisfied: tokenizers<0.22,>=0.21 in /usr/local/lib/python3.11/dist-packages (from transformers<4.48,>=4.30->chronos-forecasting@ git+https://github.com/zepengli99/chronos-forecasting.git->chronos-forecasting[training]@ git+https://github.com/zepengli99/chronos-forecasting.git) (0.21.0)\n",
      "Requirement already satisfied: scipy>=1.6.0 in /usr/local/lib/python3.11/dist-packages (from scikit-learn->chronos-forecasting@ git+https://github.com/zepengli99/chronos-forecasting.git->chronos-forecasting[training]@ git+https://github.com/zepengli99/chronos-forecasting.git) (1.13.1)\n",
      "Requirement already satisfied: threadpoolctl>=3.1.0 in /usr/local/lib/python3.11/dist-packages (from scikit-learn->chronos-forecasting@ git+https://github.com/zepengli99/chronos-forecasting.git->chronos-forecasting[training]@ git+https://github.com/zepengli99/chronos-forecasting.git) (3.5.0)\n",
      "Requirement already satisfied: absl-py>=0.4 in /usr/local/lib/python3.11/dist-packages (from tensorboard->chronos-forecasting@ git+https://github.com/zepengli99/chronos-forecasting.git->chronos-forecasting[training]@ git+https://github.com/zepengli99/chronos-forecasting.git) (1.4.0)\n",
      "Requirement already satisfied: grpcio>=1.48.2 in /usr/local/lib/python3.11/dist-packages (from tensorboard->chronos-forecasting@ git+https://github.com/zepengli99/chronos-forecasting.git->chronos-forecasting[training]@ git+https://github.com/zepengli99/chronos-forecasting.git) (1.70.0)\n",
      "Requirement already satisfied: markdown>=2.6.8 in /usr/local/lib/python3.11/dist-packages (from tensorboard->chronos-forecasting@ git+https://github.com/zepengli99/chronos-forecasting.git->chronos-forecasting[training]@ git+https://github.com/zepengli99/chronos-forecasting.git) (3.7)\n",
      "Requirement already satisfied: protobuf!=4.24.0,>=3.19.6 in /usr/local/lib/python3.11/dist-packages (from tensorboard->chronos-forecasting@ git+https://github.com/zepengli99/chronos-forecasting.git->chronos-forecasting[training]@ git+https://github.com/zepengli99/chronos-forecasting.git) (4.25.6)\n",
      "Requirement already satisfied: setuptools>=41.0.0 in /usr/local/lib/python3.11/dist-packages (from tensorboard->chronos-forecasting@ git+https://github.com/zepengli99/chronos-forecasting.git->chronos-forecasting[training]@ git+https://github.com/zepengli99/chronos-forecasting.git) (75.1.0)\n",
      "Requirement already satisfied: six>1.9 in /usr/local/lib/python3.11/dist-packages (from tensorboard->chronos-forecasting@ git+https://github.com/zepengli99/chronos-forecasting.git->chronos-forecasting[training]@ git+https://github.com/zepengli99/chronos-forecasting.git) (1.17.0)\n",
      "Requirement already satisfied: tensorboard-data-server<0.8.0,>=0.7.0 in /usr/local/lib/python3.11/dist-packages (from tensorboard->chronos-forecasting@ git+https://github.com/zepengli99/chronos-forecasting.git->chronos-forecasting[training]@ git+https://github.com/zepengli99/chronos-forecasting.git) (0.7.2)\n",
      "Requirement already satisfied: werkzeug>=1.0.1 in /usr/local/lib/python3.11/dist-packages (from tensorboard->chronos-forecasting@ git+https://github.com/zepengli99/chronos-forecasting.git->chronos-forecasting[training]@ git+https://github.com/zepengli99/chronos-forecasting.git) (3.1.3)\n",
      "Requirement already satisfied: click>=8.0.0 in /usr/local/lib/python3.11/dist-packages (from typer->chronos-forecasting@ git+https://github.com/zepengli99/chronos-forecasting.git->chronos-forecasting[training]@ git+https://github.com/zepengli99/chronos-forecasting.git) (8.1.8)\n",
      "Requirement already satisfied: shellingham>=1.3.0 in /usr/local/lib/python3.11/dist-packages (from typer->chronos-forecasting@ git+https://github.com/zepengli99/chronos-forecasting.git->chronos-forecasting[training]@ git+https://github.com/zepengli99/chronos-forecasting.git) (1.5.4)\n",
      "Requirement already satisfied: rich>=10.11.0 in /usr/local/lib/python3.11/dist-packages (from typer->chronos-forecasting@ git+https://github.com/zepengli99/chronos-forecasting.git->chronos-forecasting[training]@ git+https://github.com/zepengli99/chronos-forecasting.git) (13.9.4)\n",
      "Requirement already satisfied: aiohappyeyeballs>=2.3.0 in /usr/local/lib/python3.11/dist-packages (from aiohttp->datasets~=2.18->chronos-forecasting@ git+https://github.com/zepengli99/chronos-forecasting.git->chronos-forecasting[training]@ git+https://github.com/zepengli99/chronos-forecasting.git) (2.4.4)\n",
      "Requirement already satisfied: aiosignal>=1.1.2 in /usr/local/lib/python3.11/dist-packages (from aiohttp->datasets~=2.18->chronos-forecasting@ git+https://github.com/zepengli99/chronos-forecasting.git->chronos-forecasting[training]@ git+https://github.com/zepengli99/chronos-forecasting.git) (1.3.2)\n",
      "Requirement already satisfied: attrs>=17.3.0 in /usr/local/lib/python3.11/dist-packages (from aiohttp->datasets~=2.18->chronos-forecasting@ git+https://github.com/zepengli99/chronos-forecasting.git->chronos-forecasting[training]@ git+https://github.com/zepengli99/chronos-forecasting.git) (25.1.0)\n",
      "Requirement already satisfied: frozenlist>=1.1.1 in /usr/local/lib/python3.11/dist-packages (from aiohttp->datasets~=2.18->chronos-forecasting@ git+https://github.com/zepengli99/chronos-forecasting.git->chronos-forecasting[training]@ git+https://github.com/zepengli99/chronos-forecasting.git) (1.5.0)\n",
      "Requirement already satisfied: multidict<7.0,>=4.5 in /usr/local/lib/python3.11/dist-packages (from aiohttp->datasets~=2.18->chronos-forecasting@ git+https://github.com/zepengli99/chronos-forecasting.git->chronos-forecasting[training]@ git+https://github.com/zepengli99/chronos-forecasting.git) (6.1.0)\n",
      "Requirement already satisfied: propcache>=0.2.0 in /usr/local/lib/python3.11/dist-packages (from aiohttp->datasets~=2.18->chronos-forecasting@ git+https://github.com/zepengli99/chronos-forecasting.git->chronos-forecasting[training]@ git+https://github.com/zepengli99/chronos-forecasting.git) (0.2.1)\n",
      "Requirement already satisfied: yarl<2.0,>=1.17.0 in /usr/local/lib/python3.11/dist-packages (from aiohttp->datasets~=2.18->chronos-forecasting@ git+https://github.com/zepengli99/chronos-forecasting.git->chronos-forecasting[training]@ git+https://github.com/zepengli99/chronos-forecasting.git) (1.18.3)\n",
      "Requirement already satisfied: python-dateutil>=2.8.2 in /usr/local/lib/python3.11/dist-packages (from pandas->datasets~=2.18->chronos-forecasting@ git+https://github.com/zepengli99/chronos-forecasting.git->chronos-forecasting[training]@ git+https://github.com/zepengli99/chronos-forecasting.git) (2.8.2)\n",
      "Requirement already satisfied: pytz>=2020.1 in /usr/local/lib/python3.11/dist-packages (from pandas->datasets~=2.18->chronos-forecasting@ git+https://github.com/zepengli99/chronos-forecasting.git->chronos-forecasting[training]@ git+https://github.com/zepengli99/chronos-forecasting.git) (2025.1)\n",
      "Requirement already satisfied: tzdata>=2022.7 in /usr/local/lib/python3.11/dist-packages (from pandas->datasets~=2.18->chronos-forecasting@ git+https://github.com/zepengli99/chronos-forecasting.git->chronos-forecasting[training]@ git+https://github.com/zepengli99/chronos-forecasting.git) (2025.1)\n",
      "Requirement already satisfied: annotated-types>=0.6.0 in /usr/local/lib/python3.11/dist-packages (from pydantic<3,>=1.7->gluonts~=0.15->gluonts[pro]~=0.15; extra == \"training\"->chronos-forecasting@ git+https://github.com/zepengli99/chronos-forecasting.git->chronos-forecasting[training]@ git+https://github.com/zepengli99/chronos-forecasting.git) (0.7.0)\n",
      "Requirement already satisfied: pydantic-core==2.27.2 in /usr/local/lib/python3.11/dist-packages (from pydantic<3,>=1.7->gluonts~=0.15->gluonts[pro]~=0.15; extra == \"training\"->chronos-forecasting@ git+https://github.com/zepengli99/chronos-forecasting.git->chronos-forecasting[training]@ git+https://github.com/zepengli99/chronos-forecasting.git) (2.27.2)\n",
      "Requirement already satisfied: charset-normalizer<4,>=2 in /usr/local/lib/python3.11/dist-packages (from requests>=2.32.2->datasets~=2.18->chronos-forecasting@ git+https://github.com/zepengli99/chronos-forecasting.git->chronos-forecasting[training]@ git+https://github.com/zepengli99/chronos-forecasting.git) (3.4.1)\n",
      "Requirement already satisfied: idna<4,>=2.5 in /usr/local/lib/python3.11/dist-packages (from requests>=2.32.2->datasets~=2.18->chronos-forecasting@ git+https://github.com/zepengli99/chronos-forecasting.git->chronos-forecasting[training]@ git+https://github.com/zepengli99/chronos-forecasting.git) (3.10)\n",
      "Requirement already satisfied: urllib3<3,>=1.21.1 in /usr/local/lib/python3.11/dist-packages (from requests>=2.32.2->datasets~=2.18->chronos-forecasting@ git+https://github.com/zepengli99/chronos-forecasting.git->chronos-forecasting[training]@ git+https://github.com/zepengli99/chronos-forecasting.git) (2.3.0)\n",
      "Requirement already satisfied: certifi>=2017.4.17 in /usr/local/lib/python3.11/dist-packages (from requests>=2.32.2->datasets~=2.18->chronos-forecasting@ git+https://github.com/zepengli99/chronos-forecasting.git->chronos-forecasting[training]@ git+https://github.com/zepengli99/chronos-forecasting.git) (2025.1.31)\n",
      "Requirement already satisfied: markdown-it-py>=2.2.0 in /usr/local/lib/python3.11/dist-packages (from rich>=10.11.0->typer->chronos-forecasting@ git+https://github.com/zepengli99/chronos-forecasting.git->chronos-forecasting[training]@ git+https://github.com/zepengli99/chronos-forecasting.git) (3.0.0)\n",
      "Requirement already satisfied: pygments<3.0.0,>=2.13.0 in /usr/local/lib/python3.11/dist-packages (from rich>=10.11.0->typer->chronos-forecasting@ git+https://github.com/zepengli99/chronos-forecasting.git->chronos-forecasting[training]@ git+https://github.com/zepengli99/chronos-forecasting.git) (2.18.0)\n",
      "Requirement already satisfied: MarkupSafe>=2.1.1 in /usr/local/lib/python3.11/dist-packages (from werkzeug>=1.0.1->tensorboard->chronos-forecasting@ git+https://github.com/zepengli99/chronos-forecasting.git->chronos-forecasting[training]@ git+https://github.com/zepengli99/chronos-forecasting.git) (3.0.2)\n",
      "INFO: pip is looking at multiple versions of multiprocess to determine which version is compatible with other requirements. This could take a while.\n",
      "Collecting multiprocess (from datasets~=2.18->chronos-forecasting@ git+https://github.com/zepengli99/chronos-forecasting.git->chronos-forecasting[training]@ git+https://github.com/zepengli99/chronos-forecasting.git)\n",
      "  Downloading multiprocess-0.70.16-py311-none-any.whl.metadata (7.2 kB)\n",
      "Requirement already satisfied: mdurl~=0.1 in /usr/local/lib/python3.11/dist-packages (from markdown-it-py>=2.2.0->rich>=10.11.0->typer->chronos-forecasting@ git+https://github.com/zepengli99/chronos-forecasting.git->chronos-forecasting[training]@ git+https://github.com/zepengli99/chronos-forecasting.git) (0.1.2)\n",
      "Downloading accelerate-0.34.2-py3-none-any.whl (324 kB)\n",
      "\u001b[2K   \u001b[90m━━━━━━━━━━━━━━━━━━━━━━━━━━━━━━━━━━━━━━━━\u001b[0m \u001b[32m324.4/324.4 kB\u001b[0m \u001b[31m14.1 MB/s\u001b[0m eta \u001b[36m0:00:00\u001b[0m\n",
      "\u001b[?25hDownloading datasets-2.21.0-py3-none-any.whl (527 kB)\n",
      "\u001b[2K   \u001b[90m━━━━━━━━━━━━━━━━━━━━━━━━━━━━━━━━━━━━━━━━\u001b[0m \u001b[32m527.3/527.3 kB\u001b[0m \u001b[31m30.4 MB/s\u001b[0m eta \u001b[36m0:00:00\u001b[0m\n",
      "\u001b[?25hDownloading gluonts-0.16.0-py3-none-any.whl (1.5 MB)\n",
      "\u001b[2K   \u001b[90m━━━━━━━━━━━━━━━━━━━━━━━━━━━━━━━━━━━━━━━━\u001b[0m \u001b[32m1.5/1.5 MB\u001b[0m \u001b[31m43.4 MB/s\u001b[0m eta \u001b[36m0:00:00\u001b[0m\n",
      "\u001b[?25hDownloading nvidia_cublas_cu12-12.4.5.8-py3-none-manylinux2014_x86_64.whl (363.4 MB)\n",
      "\u001b[2K   \u001b[90m━━━━━━━━━━━━━━━━━━━━━━━━━━━━━━━━━━━━━━━━\u001b[0m \u001b[32m363.4/363.4 MB\u001b[0m \u001b[31m4.4 MB/s\u001b[0m eta \u001b[36m0:00:00\u001b[0m\n",
      "\u001b[?25hDownloading nvidia_cuda_cupti_cu12-12.4.127-py3-none-manylinux2014_x86_64.whl (13.8 MB)\n",
      "\u001b[2K   \u001b[90m━━━━━━━━━━━━━━━━━━━━━━━━━━━━━━━━━━━━━━━━\u001b[0m \u001b[32m13.8/13.8 MB\u001b[0m \u001b[31m36.0 MB/s\u001b[0m eta \u001b[36m0:00:00\u001b[0m\n",
      "\u001b[?25hDownloading nvidia_cuda_nvrtc_cu12-12.4.127-py3-none-manylinux2014_x86_64.whl (24.6 MB)\n",
      "\u001b[2K   \u001b[90m━━━━━━━━━━━━━━━━━━━━━━━━━━━━━━━━━━━━━━━━\u001b[0m \u001b[32m24.6/24.6 MB\u001b[0m \u001b[31m29.0 MB/s\u001b[0m eta \u001b[36m0:00:00\u001b[0m\n",
      "\u001b[?25hDownloading nvidia_cuda_runtime_cu12-12.4.127-py3-none-manylinux2014_x86_64.whl (883 kB)\n",
      "\u001b[2K   \u001b[90m━━━━━━━━━━━━━━━━━━━━━━━━━━━━━━━━━━━━━━━━\u001b[0m \u001b[32m883.7/883.7 kB\u001b[0m \u001b[31m29.4 MB/s\u001b[0m eta \u001b[36m0:00:00\u001b[0m\n",
      "\u001b[?25hDownloading nvidia_cudnn_cu12-9.1.0.70-py3-none-manylinux2014_x86_64.whl (664.8 MB)\n",
      "\u001b[2K   \u001b[90m━━━━━━━━━━━━━━━━━━━━━━━━━━━━━━━━━━━━━━━━\u001b[0m \u001b[32m664.8/664.8 MB\u001b[0m \u001b[31m1.4 MB/s\u001b[0m eta \u001b[36m0:00:00\u001b[0m\n",
      "\u001b[?25hDownloading nvidia_cufft_cu12-11.2.1.3-py3-none-manylinux2014_x86_64.whl (211.5 MB)\n",
      "\u001b[2K   \u001b[90m━━━━━━━━━━━━━━━━━━━━━━━━━━━━━━━━━━━━━━━━\u001b[0m \u001b[32m211.5/211.5 MB\u001b[0m \u001b[31m5.5 MB/s\u001b[0m eta \u001b[36m0:00:00\u001b[0m\n",
      "\u001b[?25hDownloading nvidia_curand_cu12-10.3.5.147-py3-none-manylinux2014_x86_64.whl (56.3 MB)\n",
      "\u001b[2K   \u001b[90m━━━━━━━━━━━━━━━━━━━━━━━━━━━━━━━━━━━━━━━━\u001b[0m \u001b[32m56.3/56.3 MB\u001b[0m \u001b[31m9.2 MB/s\u001b[0m eta \u001b[36m0:00:00\u001b[0m\n",
      "\u001b[?25hDownloading nvidia_cusolver_cu12-11.6.1.9-py3-none-manylinux2014_x86_64.whl (127.9 MB)\n",
      "\u001b[2K   \u001b[90m━━━━━━━━━━━━━━━━━━━━━━━━━━━━━━━━━━━━━━━━\u001b[0m \u001b[32m127.9/127.9 MB\u001b[0m \u001b[31m7.0 MB/s\u001b[0m eta \u001b[36m0:00:00\u001b[0m\n",
      "\u001b[?25hDownloading nvidia_cusparse_cu12-12.3.1.170-py3-none-manylinux2014_x86_64.whl (207.5 MB)\n",
      "\u001b[2K   \u001b[90m━━━━━━━━━━━━━━━━━━━━━━━━━━━━━━━━━━━━━━━━\u001b[0m \u001b[32m207.5/207.5 MB\u001b[0m \u001b[31m6.9 MB/s\u001b[0m eta \u001b[36m0:00:00\u001b[0m\n",
      "\u001b[?25hDownloading nvidia_nvjitlink_cu12-12.4.127-py3-none-manylinux2014_x86_64.whl (21.1 MB)\n",
      "\u001b[2K   \u001b[90m━━━━━━━━━━━━━━━━━━━━━━━━━━━━━━━━━━━━━━━━\u001b[0m \u001b[32m21.1/21.1 MB\u001b[0m \u001b[31m50.0 MB/s\u001b[0m eta \u001b[36m0:00:00\u001b[0m\n",
      "\u001b[?25hDownloading transformers-4.47.1-py3-none-any.whl (10.1 MB)\n",
      "\u001b[2K   \u001b[90m━━━━━━━━━━━━━━━━━━━━━━━━━━━━━━━━━━━━━━━━\u001b[0m \u001b[32m10.1/10.1 MB\u001b[0m \u001b[31m62.4 MB/s\u001b[0m eta \u001b[36m0:00:00\u001b[0m\n",
      "\u001b[?25hDownloading typer_config-1.4.2-py3-none-any.whl (11 kB)\n",
      "Downloading dill-0.3.8-py3-none-any.whl (116 kB)\n",
      "\u001b[2K   \u001b[90m━━━━━━━━━━━━━━━━━━━━━━━━━━━━━━━━━━━━━━━━\u001b[0m \u001b[32m116.3/116.3 kB\u001b[0m \u001b[31m8.5 MB/s\u001b[0m eta \u001b[36m0:00:00\u001b[0m\n",
      "\u001b[?25hDownloading fsspec-2024.6.1-py3-none-any.whl (177 kB)\n",
      "\u001b[2K   \u001b[90m━━━━━━━━━━━━━━━━━━━━━━━━━━━━━━━━━━━━━━━━\u001b[0m \u001b[32m177.6/177.6 kB\u001b[0m \u001b[31m15.6 MB/s\u001b[0m eta \u001b[36m0:00:00\u001b[0m\n",
      "\u001b[?25hDownloading multiprocess-0.70.16-py311-none-any.whl (143 kB)\n",
      "\u001b[2K   \u001b[90m━━━━━━━━━━━━━━━━━━━━━━━━━━━━━━━━━━━━━━━━\u001b[0m \u001b[32m143.5/143.5 kB\u001b[0m \u001b[31m11.3 MB/s\u001b[0m eta \u001b[36m0:00:00\u001b[0m\n",
      "\u001b[?25hDownloading xxhash-3.5.0-cp311-cp311-manylinux_2_17_x86_64.manylinux2014_x86_64.whl (194 kB)\n",
      "\u001b[2K   \u001b[90m━━━━━━━━━━━━━━━━━━━━━━━━━━━━━━━━━━━━━━━━\u001b[0m \u001b[32m194.8/194.8 kB\u001b[0m \u001b[31m16.1 MB/s\u001b[0m eta \u001b[36m0:00:00\u001b[0m\n",
      "\u001b[?25hBuilding wheels for collected packages: chronos-forecasting\n",
      "  Building wheel for chronos-forecasting (pyproject.toml) ... \u001b[?25l\u001b[?25hdone\n",
      "  Created wheel for chronos-forecasting: filename=chronos_forecasting-1.4.1-py3-none-any.whl size=29154 sha256=758d2ef0a81b639750b91218304a527235f0092de0f99924fe7b0e952f5072de\n",
      "  Stored in directory: /tmp/pip-ephem-wheel-cache-x_m8lrao/wheels/c7/de/d2/14544f066bd7ebf30bcf7eb745d54e8a30cd79574cc6b0c4a2\n",
      "Successfully built chronos-forecasting\n",
      "Installing collected packages: xxhash, nvidia-nvjitlink-cu12, nvidia-curand-cu12, nvidia-cufft-cu12, nvidia-cuda-runtime-cu12, nvidia-cuda-nvrtc-cu12, nvidia-cuda-cupti-cu12, nvidia-cublas-cu12, fsspec, dill, nvidia-cusparse-cu12, nvidia-cudnn-cu12, multiprocess, nvidia-cusolver-cu12, gluonts, typer-config, transformers, datasets, accelerate, chronos-forecasting\n",
      "  Attempting uninstall: nvidia-nvjitlink-cu12\n",
      "    Found existing installation: nvidia-nvjitlink-cu12 12.5.82\n",
      "    Uninstalling nvidia-nvjitlink-cu12-12.5.82:\n",
      "      Successfully uninstalled nvidia-nvjitlink-cu12-12.5.82\n",
      "  Attempting uninstall: nvidia-curand-cu12\n",
      "    Found existing installation: nvidia-curand-cu12 10.3.6.82\n",
      "    Uninstalling nvidia-curand-cu12-10.3.6.82:\n",
      "      Successfully uninstalled nvidia-curand-cu12-10.3.6.82\n",
      "  Attempting uninstall: nvidia-cufft-cu12\n",
      "    Found existing installation: nvidia-cufft-cu12 11.2.3.61\n",
      "    Uninstalling nvidia-cufft-cu12-11.2.3.61:\n",
      "      Successfully uninstalled nvidia-cufft-cu12-11.2.3.61\n",
      "  Attempting uninstall: nvidia-cuda-runtime-cu12\n",
      "    Found existing installation: nvidia-cuda-runtime-cu12 12.5.82\n",
      "    Uninstalling nvidia-cuda-runtime-cu12-12.5.82:\n",
      "      Successfully uninstalled nvidia-cuda-runtime-cu12-12.5.82\n",
      "  Attempting uninstall: nvidia-cuda-nvrtc-cu12\n",
      "    Found existing installation: nvidia-cuda-nvrtc-cu12 12.5.82\n",
      "    Uninstalling nvidia-cuda-nvrtc-cu12-12.5.82:\n",
      "      Successfully uninstalled nvidia-cuda-nvrtc-cu12-12.5.82\n",
      "  Attempting uninstall: nvidia-cuda-cupti-cu12\n",
      "    Found existing installation: nvidia-cuda-cupti-cu12 12.5.82\n",
      "    Uninstalling nvidia-cuda-cupti-cu12-12.5.82:\n",
      "      Successfully uninstalled nvidia-cuda-cupti-cu12-12.5.82\n",
      "  Attempting uninstall: nvidia-cublas-cu12\n",
      "    Found existing installation: nvidia-cublas-cu12 12.5.3.2\n",
      "    Uninstalling nvidia-cublas-cu12-12.5.3.2:\n",
      "      Successfully uninstalled nvidia-cublas-cu12-12.5.3.2\n",
      "  Attempting uninstall: fsspec\n",
      "    Found existing installation: fsspec 2024.10.0\n",
      "    Uninstalling fsspec-2024.10.0:\n",
      "      Successfully uninstalled fsspec-2024.10.0\n",
      "  Attempting uninstall: nvidia-cusparse-cu12\n",
      "    Found existing installation: nvidia-cusparse-cu12 12.5.1.3\n",
      "    Uninstalling nvidia-cusparse-cu12-12.5.1.3:\n",
      "      Successfully uninstalled nvidia-cusparse-cu12-12.5.1.3\n",
      "  Attempting uninstall: nvidia-cudnn-cu12\n",
      "    Found existing installation: nvidia-cudnn-cu12 9.3.0.75\n",
      "    Uninstalling nvidia-cudnn-cu12-9.3.0.75:\n",
      "      Successfully uninstalled nvidia-cudnn-cu12-9.3.0.75\n",
      "  Attempting uninstall: nvidia-cusolver-cu12\n",
      "    Found existing installation: nvidia-cusolver-cu12 11.6.3.83\n",
      "    Uninstalling nvidia-cusolver-cu12-11.6.3.83:\n",
      "      Successfully uninstalled nvidia-cusolver-cu12-11.6.3.83\n",
      "  Attempting uninstall: transformers\n",
      "    Found existing installation: transformers 4.48.2\n",
      "    Uninstalling transformers-4.48.2:\n",
      "      Successfully uninstalled transformers-4.48.2\n",
      "  Attempting uninstall: accelerate\n",
      "    Found existing installation: accelerate 1.3.0\n",
      "    Uninstalling accelerate-1.3.0:\n",
      "      Successfully uninstalled accelerate-1.3.0\n",
      "\u001b[31mERROR: pip's dependency resolver does not currently take into account all the packages that are installed. This behaviour is the source of the following dependency conflicts.\n",
      "gcsfs 2024.10.0 requires fsspec==2024.10.0, but you have fsspec 2024.6.1 which is incompatible.\u001b[0m\u001b[31m\n",
      "\u001b[0mSuccessfully installed accelerate-0.34.2 chronos-forecasting-1.4.1 datasets-2.21.0 dill-0.3.8 fsspec-2024.6.1 gluonts-0.16.0 multiprocess-0.70.16 nvidia-cublas-cu12-12.4.5.8 nvidia-cuda-cupti-cu12-12.4.127 nvidia-cuda-nvrtc-cu12-12.4.127 nvidia-cuda-runtime-cu12-12.4.127 nvidia-cudnn-cu12-9.1.0.70 nvidia-cufft-cu12-11.2.1.3 nvidia-curand-cu12-10.3.5.147 nvidia-cusolver-cu12-11.6.1.9 nvidia-cusparse-cu12-12.3.1.170 nvidia-nvjitlink-cu12-12.4.127 transformers-4.47.1 typer-config-1.4.2 xxhash-3.5.0\n"
     ]
    }
   ],
   "source": [
    "!pip install \"chronos-forecasting[training] @ git+https://github.com/zepengli99/chronos-forecasting.git\""
   ]
  },
  {
   "cell_type": "code",
   "execution_count": 1,
   "metadata": {
    "colab": {
     "base_uri": "https://localhost:8080/"
    },
    "executionInfo": {
     "elapsed": 26323,
     "status": "ok",
     "timestamp": 1738957251891,
     "user": {
      "displayName": "Zepeng Li",
      "userId": "04563086650751250217"
     },
     "user_tz": -60
    },
    "id": "_NyABZFhOXDe",
    "outputId": "d4a1ca7d-e0df-4514-b476-9e3fa3ce528b"
   },
   "outputs": [
    {
     "name": "stdout",
     "output_type": "stream",
     "text": [
      "Mounted at /content/drive\n"
     ]
    }
   ],
   "source": [
    "from google.colab import drive\n",
    "drive.mount('/content/drive')"
   ]
  },
  {
   "cell_type": "code",
   "execution_count": 2,
   "metadata": {
    "executionInfo": {
     "elapsed": 161,
     "status": "ok",
     "timestamp": 1738957252055,
     "user": {
      "displayName": "Zepeng Li",
      "userId": "04563086650751250217"
     },
     "user_tz": -60
    },
    "id": "LBzlytu9OYOH"
   },
   "outputs": [],
   "source": [
    "import os\n",
    "os.chdir('/content/drive/MyDrive/NLP_project/chronos-forecasting')"
   ]
  },
  {
   "cell_type": "markdown",
   "metadata": {
    "id": "uKp9FSEuq6oX"
   },
   "source": [
    "# Fintune chronos-t5-tiny model"
   ]
  },
  {
   "cell_type": "code",
   "execution_count": 5,
   "metadata": {
    "colab": {
     "base_uri": "https://localhost:8080/"
    },
    "executionInfo": {
     "elapsed": 939483,
     "status": "ok",
     "timestamp": 1738956707778,
     "user": {
      "displayName": "Zepeng Li",
      "userId": "04563086650751250217"
     },
     "user_tz": -60
    },
    "id": "rxVVouDjN5G_",
    "outputId": "b6cfb937-977a-405b-8bb0-985cb021cc6b"
   },
   "outputs": [
    {
     "name": "stdout",
     "output_type": "stream",
     "text": [
      "2025-02-07 19:16:23.406542: E external/local_xla/xla/stream_executor/cuda/cuda_fft.cc:477] Unable to register cuFFT factory: Attempting to register factory for plugin cuFFT when one has already been registered\n",
      "WARNING: All log messages before absl::InitializeLog() is called are written to STDERR\n",
      "E0000 00:00:1738955783.736039    1848 cuda_dnn.cc:8310] Unable to register cuDNN factory: Attempting to register factory for plugin cuDNN when one has already been registered\n",
      "E0000 00:00:1738955783.826653    1848 cuda_blas.cc:1418] Unable to register cuBLAS factory: Attempting to register factory for plugin cuBLAS when one has already been registered\n",
      "2025-02-07 19:16:24.561749: I tensorflow/core/platform/cpu_feature_guard.cc:210] This TensorFlow binary is optimized to use available CPU instructions in performance-critical operations.\n",
      "To enable the following instructions: AVX2 AVX512F FMA, in other operations, rebuild TensorFlow with the appropriate compiler flags.\n",
      "2025-02-07 19:16:32,997 - /content/drive/MyDrive/NLP_project/chronos-forecasting/scripts/training/train.py - INFO - TF32 format is only available on devices with compute capability >= 8. Setting tf32 to False.\n",
      "2025-02-07 19:16:32,997 - /content/drive/MyDrive/NLP_project/chronos-forecasting/scripts/training/train.py - INFO - Using SEED: 1127768739\n",
      "2025-02-07 19:16:33,013 - /content/drive/MyDrive/NLP_project/chronos-forecasting/scripts/training/train.py - INFO - Logging dir: output/run-3\n",
      "2025-02-07 19:16:33,013 - /content/drive/MyDrive/NLP_project/chronos-forecasting/scripts/training/train.py - INFO - Loading and filtering 1 datasets for training: ['./data/bitcoin-close-train.arrow']\n",
      "2025-02-07 19:16:33,013 - /content/drive/MyDrive/NLP_project/chronos-forecasting/scripts/training/train.py - INFO - Mixing probabilities: [1.0]\n",
      "2025-02-07 19:16:33,796 - /content/drive/MyDrive/NLP_project/chronos-forecasting/scripts/training/train.py - INFO - Initializing model\n",
      "2025-02-07 19:16:33,796 - /content/drive/MyDrive/NLP_project/chronos-forecasting/scripts/training/train.py - INFO - Using pretrained initialization from amazon/chronos-t5-tiny\n",
      "config.json: 100% 1.14k/1.14k [00:00<00:00, 7.17MB/s]\n",
      "model.safetensors: 100% 33.6M/33.6M [00:00<00:00, 41.8MB/s]\n",
      "generation_config.json: 100% 142/142 [00:00<00:00, 916kB/s]\n",
      "The speedups for torchdynamo mostly come wih GPU Ampere or higher and which is not detected here.\n",
      "2025-02-07 19:16:36,278 - /content/drive/MyDrive/NLP_project/chronos-forecasting/scripts/training/train.py - INFO - Training\n",
      "  0% 0/1000 [00:00<?, ?it/s]Passing a tuple of `past_key_values` is deprecated and will be removed in Transformers v4.48.0. You should pass an instance of `EncoderDecoderCache` instead, e.g. `past_key_values=EncoderDecoderCache.from_legacy_cache(past_key_values)`.\n",
      "{'loss': 0.8253, 'grad_norm': 0.16429874300956726, 'learning_rate': 0.0005, 'epoch': 0.5}\n",
      "{'loss': 0.8056, 'grad_norm': 0.15723729133605957, 'learning_rate': 0.0, 'epoch': 1.0}\n",
      "{'train_runtime': 900.3205, 'train_samples_per_second': 35.543, 'train_steps_per_second': 1.111, 'train_loss': 0.8154457702636718, 'epoch': 1.0}\n",
      "100% 1000/1000 [15:00<00:00,  1.11it/s]\n",
      "2025-02-07 19:31:39,828 - /content/drive/MyDrive/NLP_project/chronos-forecasting/scripts/training/train.py - INFO - Saving full model\n",
      "CPU times: user 5.81 s, sys: 870 ms, total: 6.68 s\n",
      "Wall time: 15min 39s\n"
     ]
    }
   ],
   "source": [
    "%%time\n",
    "!CUDA_VISIBLE_DEVICES=0 python scripts/training/train.py --config scripts/training/configs/chronos-t5-tiny-btc.yaml \\\n",
    "    --model-id amazon/chronos-t5-tiny \\\n",
    "    --no-random-init \\\n",
    "    --max-steps 1000 \\\n",
    "    --learning-rate 0.001"
   ]
  },
  {
   "cell_type": "markdown",
   "metadata": {
    "id": "Da9K3W-UpASs"
   },
   "source": [
    "# Upload fine-tuned chronos-t5-tiny model (optional)"
   ]
  },
  {
   "cell_type": "code",
   "execution_count": null,
   "metadata": {
    "id": "iu6ow2MDF3tI"
   },
   "outputs": [],
   "source": [
    "# import os\n",
    "# os.environ[\"HF_TOKEN\"] = Your hugging face token\n"
   ]
  },
  {
   "cell_type": "code",
   "execution_count": null,
   "metadata": {
    "colab": {
     "base_uri": "https://localhost:8080/",
     "height": 225,
     "referenced_widgets": [
      "436e620d032d4f86ab9acae0aad4c402",
      "389a2dfab292495ea467867757471d21",
      "d30a9eae559b498799d62a901fff3cc1",
      "160e60b616854970aec6b3393c8beef3",
      "74f57b55ab62478e89389cdf84db1a31",
      "026f0dbfda9d4574ae721a41a61d125e",
      "1a8bd8472d0c464ca9ec4adffc5dad07",
      "dd84717394014b51b2a9e694c89c8e60",
      "5efc840bdb2f4fd1a356dcbf05f9f158",
      "9c87387c42de4b238a8c45ab36886e50",
      "940b8d37fc8b40f3a983d19f5c051440"
     ]
    },
    "executionInfo": {
     "elapsed": 13461,
     "status": "ok",
     "timestamp": 1738770401043,
     "user": {
      "displayName": "Zepeng Li",
      "userId": "04563086650751250217"
     },
     "user_tz": -60
    },
    "id": "vJJhjTCECfIi",
    "outputId": "4d72615e-5b93-49b0-a159-5224f355a7fa"
   },
   "outputs": [
    {
     "name": "stderr",
     "output_type": "stream",
     "text": [
      "/usr/local/lib/python3.11/dist-packages/huggingface_hub/utils/_auth.py:94: UserWarning: \n",
      "The secret `HF_TOKEN` does not exist in your Colab secrets.\n",
      "To authenticate with the Hugging Face Hub, create a token in your settings tab (https://huggingface.co/settings/tokens), set it as secret in your Google Colab and restart your session.\n",
      "You will be able to reuse this secret in all of your notebooks.\n",
      "Please note that authentication is recommended but still optional to access public models or datasets.\n",
      "  warnings.warn(\n"
     ]
    },
    {
     "data": {
      "application/vnd.jupyter.widget-view+json": {
       "model_id": "436e620d032d4f86ab9acae0aad4c402",
       "version_major": 2,
       "version_minor": 0
      },
      "text/plain": [
       "model.safetensors:   0%|          | 0.00/33.6M [00:00<?, ?B/s]"
      ]
     },
     "metadata": {},
     "output_type": "display_data"
    },
    {
     "data": {
      "application/vnd.google.colaboratory.intrinsic+json": {
       "type": "string"
      },
      "text/plain": [
       "CommitInfo(commit_url='https://huggingface.co/zepengli99/chronos-t5-tiny-btc/commit/d1ee926ad4bf93ba477078debef9231cd9b0bc69', commit_message='Upload T5ForConditionalGeneration', commit_description='', oid='d1ee926ad4bf93ba477078debef9231cd9b0bc69', pr_url=None, repo_url=RepoUrl('https://huggingface.co/zepengli99/chronos-t5-tiny-btc', endpoint='https://huggingface.co', repo_type='model', repo_id='zepengli99/chronos-t5-tiny-btc'), pr_revision=None, pr_num=None)"
      ]
     },
     "execution_count": 6,
     "metadata": {},
     "output_type": "execute_result"
    }
   ],
   "source": [
    "# from chronos import ChronosPipeline\n",
    "\n",
    "# pipeline = ChronosPipeline.from_pretrained(\"./output/run-0/checkpoint-final/\")\n",
    "# pipeline.model.model.push_to_hub(\"zepengli99/chronos-t5-tiny-btc\")"
   ]
  },
  {
   "cell_type": "markdown",
   "metadata": {
    "id": "4OLlfysSo5GG"
   },
   "source": [
    "# Evaluation"
   ]
  },
  {
   "cell_type": "code",
   "execution_count": 6,
   "metadata": {
    "colab": {
     "base_uri": "https://localhost:8080/"
    },
    "executionInfo": {
     "elapsed": 16047,
     "status": "ok",
     "timestamp": 1738956747669,
     "user": {
      "displayName": "Zepeng Li",
      "userId": "04563086650751250217"
     },
     "user_tz": -60
    },
    "id": "NtdZjaqj98Mk",
    "outputId": "579618e5-535d-4c70-d7b7-4f6d1976349c"
   },
   "outputs": [
    {
     "name": "stdout",
     "output_type": "stream",
     "text": [
      "2025-02-07 19:32:15.767466: E external/local_xla/xla/stream_executor/cuda/cuda_fft.cc:477] Unable to register cuFFT factory: Attempting to register factory for plugin cuFFT when one has already been registered\n",
      "WARNING: All log messages before absl::InitializeLog() is called are written to STDERR\n",
      "E0000 00:00:1738956735.790680    6692 cuda_dnn.cc:8310] Unable to register cuDNN factory: Attempting to register factory for plugin cuDNN when one has already been registered\n",
      "E0000 00:00:1738956735.797616    6692 cuda_blas.cc:1418] Unable to register cuBLAS factory: Attempting to register factory for plugin cuBLAS when one has already been registered\n",
      "2025-02-07 19:32:15.820524: I tensorflow/core/platform/cpu_feature_guard.cc:210] This TensorFlow binary is optimized to use available CPU instructions in performance-critical operations.\n",
      "To enable the following instructions: AVX2 AVX512F FMA, in other operations, rebuild TensorFlow with the appropriate compiler flags.\n",
      "2025-02-07 19:32:20,049 - Chronos Evaluation - INFO - Loading bitcoin_test\n",
      "Downloading data: 100% 628k/628k [00:00<00:00, 1.97MB/s]\n",
      "Generating test split: 100% 1/1 [00:00<00:00, 31.50 examples/s]\n",
      "/content/drive/MyDrive/NLP_project/chronos-forecasting/scripts/evaluation/evaluate.py:39: FutureWarning: 'T' is deprecated and will be removed in a future version, please use 'min' instead.\n",
      "  period = pd.DatetimeIndex(hf_dataset[0][\"timestamp\"]).to_period(freq='15T')\n",
      "2025-02-07 19:32:22,499 - Chronos Evaluation - INFO - Generating forecasts for bitcoin_test (1 time series)\n",
      "1it [00:01,  1.43s/it]\n",
      "2025-02-07 19:32:23,927 - Chronos Evaluation - INFO - Evaluating forecasts for bitcoin_test\n",
      "1it [00:00, 46.04it/s]\n"
     ]
    }
   ],
   "source": [
    "!python scripts/evaluation/evaluate.py scripts/evaluation/configs/btc.yaml scripts/evaluation/results/chronos-t5-tiny-btc-finetuned.csv \\\n",
    "    --chronos-model-id \"./output/run-3/checkpoint-final/\" \\\n",
    "    --batch-size=32 \\\n",
    "    --device=cuda:0 \\\n",
    "    --num-samples 20"
   ]
  },
  {
   "cell_type": "code",
   "execution_count": 3,
   "metadata": {
    "colab": {
     "base_uri": "https://localhost:8080/",
     "height": 89
    },
    "executionInfo": {
     "elapsed": 1829,
     "status": "ok",
     "timestamp": 1738957253891,
     "user": {
      "displayName": "Zepeng Li",
      "userId": "04563086650751250217"
     },
     "user_tz": -60
    },
    "id": "0-zhDr2N7Qe0",
    "outputId": "8fc2d6b6-df53-4c2c-fc16-7ea67287c3a5"
   },
   "outputs": [
    {
     "data": {
      "application/vnd.google.colaboratory.intrinsic+json": {
       "summary": "{\n  \"name\": \"df\",\n  \"rows\": 1,\n  \"fields\": [\n    {\n      \"column\": \"dataset\",\n      \"properties\": {\n        \"dtype\": \"string\",\n        \"num_unique_values\": 1,\n        \"samples\": [\n          \"bitcoin_test\"\n        ],\n        \"semantic_type\": \"\",\n        \"description\": \"\"\n      }\n    },\n    {\n      \"column\": \"model\",\n      \"properties\": {\n        \"dtype\": \"string\",\n        \"num_unique_values\": 1,\n        \"samples\": [\n          \"./output/run-3/checkpoint-final/\"\n        ],\n        \"semantic_type\": \"\",\n        \"description\": \"\"\n      }\n    },\n    {\n      \"column\": \"MASE\",\n      \"properties\": {\n        \"dtype\": \"number\",\n        \"std\": null,\n        \"min\": 0.1730463081906807,\n        \"max\": 0.1730463081906807,\n        \"num_unique_values\": 1,\n        \"samples\": [\n          0.1730463081906807\n        ],\n        \"semantic_type\": \"\",\n        \"description\": \"\"\n      }\n    },\n    {\n      \"column\": \"WQL\",\n      \"properties\": {\n        \"dtype\": \"number\",\n        \"std\": null,\n        \"min\": 0.0039005324722577,\n        \"max\": 0.0039005324722577,\n        \"num_unique_values\": 1,\n        \"samples\": [\n          0.0039005324722577\n        ],\n        \"semantic_type\": \"\",\n        \"description\": \"\"\n      }\n    }\n  ]\n}",
       "type": "dataframe",
       "variable_name": "df"
      },
      "text/html": [
       "\n",
       "  <div id=\"df-504abefc-e54e-4775-bd8d-0139365bc3a1\" class=\"colab-df-container\">\n",
       "    <div>\n",
       "<style scoped>\n",
       "    .dataframe tbody tr th:only-of-type {\n",
       "        vertical-align: middle;\n",
       "    }\n",
       "\n",
       "    .dataframe tbody tr th {\n",
       "        vertical-align: top;\n",
       "    }\n",
       "\n",
       "    .dataframe thead th {\n",
       "        text-align: right;\n",
       "    }\n",
       "</style>\n",
       "<table border=\"1\" class=\"dataframe\">\n",
       "  <thead>\n",
       "    <tr style=\"text-align: right;\">\n",
       "      <th></th>\n",
       "      <th>dataset</th>\n",
       "      <th>model</th>\n",
       "      <th>MASE</th>\n",
       "      <th>WQL</th>\n",
       "    </tr>\n",
       "  </thead>\n",
       "  <tbody>\n",
       "    <tr>\n",
       "      <th>0</th>\n",
       "      <td>bitcoin_test</td>\n",
       "      <td>./output/run-3/checkpoint-final/</td>\n",
       "      <td>0.173046</td>\n",
       "      <td>0.003901</td>\n",
       "    </tr>\n",
       "  </tbody>\n",
       "</table>\n",
       "</div>\n",
       "    <div class=\"colab-df-buttons\">\n",
       "\n",
       "  <div class=\"colab-df-container\">\n",
       "    <button class=\"colab-df-convert\" onclick=\"convertToInteractive('df-504abefc-e54e-4775-bd8d-0139365bc3a1')\"\n",
       "            title=\"Convert this dataframe to an interactive table.\"\n",
       "            style=\"display:none;\">\n",
       "\n",
       "  <svg xmlns=\"http://www.w3.org/2000/svg\" height=\"24px\" viewBox=\"0 -960 960 960\">\n",
       "    <path d=\"M120-120v-720h720v720H120Zm60-500h600v-160H180v160Zm220 220h160v-160H400v160Zm0 220h160v-160H400v160ZM180-400h160v-160H180v160Zm440 0h160v-160H620v160ZM180-180h160v-160H180v160Zm440 0h160v-160H620v160Z\"/>\n",
       "  </svg>\n",
       "    </button>\n",
       "\n",
       "  <style>\n",
       "    .colab-df-container {\n",
       "      display:flex;\n",
       "      gap: 12px;\n",
       "    }\n",
       "\n",
       "    .colab-df-convert {\n",
       "      background-color: #E8F0FE;\n",
       "      border: none;\n",
       "      border-radius: 50%;\n",
       "      cursor: pointer;\n",
       "      display: none;\n",
       "      fill: #1967D2;\n",
       "      height: 32px;\n",
       "      padding: 0 0 0 0;\n",
       "      width: 32px;\n",
       "    }\n",
       "\n",
       "    .colab-df-convert:hover {\n",
       "      background-color: #E2EBFA;\n",
       "      box-shadow: 0px 1px 2px rgba(60, 64, 67, 0.3), 0px 1px 3px 1px rgba(60, 64, 67, 0.15);\n",
       "      fill: #174EA6;\n",
       "    }\n",
       "\n",
       "    .colab-df-buttons div {\n",
       "      margin-bottom: 4px;\n",
       "    }\n",
       "\n",
       "    [theme=dark] .colab-df-convert {\n",
       "      background-color: #3B4455;\n",
       "      fill: #D2E3FC;\n",
       "    }\n",
       "\n",
       "    [theme=dark] .colab-df-convert:hover {\n",
       "      background-color: #434B5C;\n",
       "      box-shadow: 0px 1px 3px 1px rgba(0, 0, 0, 0.15);\n",
       "      filter: drop-shadow(0px 1px 2px rgba(0, 0, 0, 0.3));\n",
       "      fill: #FFFFFF;\n",
       "    }\n",
       "  </style>\n",
       "\n",
       "    <script>\n",
       "      const buttonEl =\n",
       "        document.querySelector('#df-504abefc-e54e-4775-bd8d-0139365bc3a1 button.colab-df-convert');\n",
       "      buttonEl.style.display =\n",
       "        google.colab.kernel.accessAllowed ? 'block' : 'none';\n",
       "\n",
       "      async function convertToInteractive(key) {\n",
       "        const element = document.querySelector('#df-504abefc-e54e-4775-bd8d-0139365bc3a1');\n",
       "        const dataTable =\n",
       "          await google.colab.kernel.invokeFunction('convertToInteractive',\n",
       "                                                    [key], {});\n",
       "        if (!dataTable) return;\n",
       "\n",
       "        const docLinkHtml = 'Like what you see? Visit the ' +\n",
       "          '<a target=\"_blank\" href=https://colab.research.google.com/notebooks/data_table.ipynb>data table notebook</a>'\n",
       "          + ' to learn more about interactive tables.';\n",
       "        element.innerHTML = '';\n",
       "        dataTable['output_type'] = 'display_data';\n",
       "        await google.colab.output.renderOutput(dataTable, element);\n",
       "        const docLink = document.createElement('div');\n",
       "        docLink.innerHTML = docLinkHtml;\n",
       "        element.appendChild(docLink);\n",
       "      }\n",
       "    </script>\n",
       "  </div>\n",
       "\n",
       "\n",
       "  <div id=\"id_eca952b1-887c-4397-8bd8-a4e3ebd32be6\">\n",
       "    <style>\n",
       "      .colab-df-generate {\n",
       "        background-color: #E8F0FE;\n",
       "        border: none;\n",
       "        border-radius: 50%;\n",
       "        cursor: pointer;\n",
       "        display: none;\n",
       "        fill: #1967D2;\n",
       "        height: 32px;\n",
       "        padding: 0 0 0 0;\n",
       "        width: 32px;\n",
       "      }\n",
       "\n",
       "      .colab-df-generate:hover {\n",
       "        background-color: #E2EBFA;\n",
       "        box-shadow: 0px 1px 2px rgba(60, 64, 67, 0.3), 0px 1px 3px 1px rgba(60, 64, 67, 0.15);\n",
       "        fill: #174EA6;\n",
       "      }\n",
       "\n",
       "      [theme=dark] .colab-df-generate {\n",
       "        background-color: #3B4455;\n",
       "        fill: #D2E3FC;\n",
       "      }\n",
       "\n",
       "      [theme=dark] .colab-df-generate:hover {\n",
       "        background-color: #434B5C;\n",
       "        box-shadow: 0px 1px 3px 1px rgba(0, 0, 0, 0.15);\n",
       "        filter: drop-shadow(0px 1px 2px rgba(0, 0, 0, 0.3));\n",
       "        fill: #FFFFFF;\n",
       "      }\n",
       "    </style>\n",
       "    <button class=\"colab-df-generate\" onclick=\"generateWithVariable('df')\"\n",
       "            title=\"Generate code using this dataframe.\"\n",
       "            style=\"display:none;\">\n",
       "\n",
       "  <svg xmlns=\"http://www.w3.org/2000/svg\" height=\"24px\"viewBox=\"0 0 24 24\"\n",
       "       width=\"24px\">\n",
       "    <path d=\"M7,19H8.4L18.45,9,17,7.55,7,17.6ZM5,21V16.75L18.45,3.32a2,2,0,0,1,2.83,0l1.4,1.43a1.91,1.91,0,0,1,.58,1.4,1.91,1.91,0,0,1-.58,1.4L9.25,21ZM18.45,9,17,7.55Zm-12,3A5.31,5.31,0,0,0,4.9,8.1,5.31,5.31,0,0,0,1,6.5,5.31,5.31,0,0,0,4.9,4.9,5.31,5.31,0,0,0,6.5,1,5.31,5.31,0,0,0,8.1,4.9,5.31,5.31,0,0,0,12,6.5,5.46,5.46,0,0,0,6.5,12Z\"/>\n",
       "  </svg>\n",
       "    </button>\n",
       "    <script>\n",
       "      (() => {\n",
       "      const buttonEl =\n",
       "        document.querySelector('#id_eca952b1-887c-4397-8bd8-a4e3ebd32be6 button.colab-df-generate');\n",
       "      buttonEl.style.display =\n",
       "        google.colab.kernel.accessAllowed ? 'block' : 'none';\n",
       "\n",
       "      buttonEl.onclick = () => {\n",
       "        google.colab.notebook.generateWithVariable('df');\n",
       "      }\n",
       "      })();\n",
       "    </script>\n",
       "  </div>\n",
       "\n",
       "    </div>\n",
       "  </div>\n"
      ],
      "text/plain": [
       "        dataset                             model      MASE       WQL\n",
       "0  bitcoin_test  ./output/run-3/checkpoint-final/  0.173046  0.003901"
      ]
     },
     "execution_count": 3,
     "metadata": {},
     "output_type": "execute_result"
    }
   ],
   "source": [
    "import pandas as pd\n",
    "\n",
    "df = pd.read_csv('scripts/evaluation/results/chronos-t5-tiny-btc-finetuned.csv')\n",
    "df"
   ]
  }
 ],
 "metadata": {
  "colab": {
   "authorship_tag": "ABX9TyOFnz/5FxvV4sz8vXXyed4X",
   "provenance": []
  },
  "kernelspec": {
   "display_name": "Python 3",
   "name": "python3"
  },
  "language_info": {
   "name": "python"
  },
  "widgets": {
   "application/vnd.jupyter.widget-state+json": {
    "026f0dbfda9d4574ae721a41a61d125e": {
     "model_module": "@jupyter-widgets/base",
     "model_module_version": "1.2.0",
     "model_name": "LayoutModel",
     "state": {
      "_model_module": "@jupyter-widgets/base",
      "_model_module_version": "1.2.0",
      "_model_name": "LayoutModel",
      "_view_count": null,
      "_view_module": "@jupyter-widgets/base",
      "_view_module_version": "1.2.0",
      "_view_name": "LayoutView",
      "align_content": null,
      "align_items": null,
      "align_self": null,
      "border": null,
      "bottom": null,
      "display": null,
      "flex": null,
      "flex_flow": null,
      "grid_area": null,
      "grid_auto_columns": null,
      "grid_auto_flow": null,
      "grid_auto_rows": null,
      "grid_column": null,
      "grid_gap": null,
      "grid_row": null,
      "grid_template_areas": null,
      "grid_template_columns": null,
      "grid_template_rows": null,
      "height": null,
      "justify_content": null,
      "justify_items": null,
      "left": null,
      "margin": null,
      "max_height": null,
      "max_width": null,
      "min_height": null,
      "min_width": null,
      "object_fit": null,
      "object_position": null,
      "order": null,
      "overflow": null,
      "overflow_x": null,
      "overflow_y": null,
      "padding": null,
      "right": null,
      "top": null,
      "visibility": null,
      "width": null
     }
    },
    "160e60b616854970aec6b3393c8beef3": {
     "model_module": "@jupyter-widgets/controls",
     "model_module_version": "1.5.0",
     "model_name": "HTMLModel",
     "state": {
      "_dom_classes": [],
      "_model_module": "@jupyter-widgets/controls",
      "_model_module_version": "1.5.0",
      "_model_name": "HTMLModel",
      "_view_count": null,
      "_view_module": "@jupyter-widgets/controls",
      "_view_module_version": "1.5.0",
      "_view_name": "HTMLView",
      "description": "",
      "description_tooltip": null,
      "layout": "IPY_MODEL_9c87387c42de4b238a8c45ab36886e50",
      "placeholder": "​",
      "style": "IPY_MODEL_940b8d37fc8b40f3a983d19f5c051440",
      "value": " 33.6M/33.6M [00:02&lt;00:00, 13.9MB/s]"
     }
    },
    "1a8bd8472d0c464ca9ec4adffc5dad07": {
     "model_module": "@jupyter-widgets/controls",
     "model_module_version": "1.5.0",
     "model_name": "DescriptionStyleModel",
     "state": {
      "_model_module": "@jupyter-widgets/controls",
      "_model_module_version": "1.5.0",
      "_model_name": "DescriptionStyleModel",
      "_view_count": null,
      "_view_module": "@jupyter-widgets/base",
      "_view_module_version": "1.2.0",
      "_view_name": "StyleView",
      "description_width": ""
     }
    },
    "389a2dfab292495ea467867757471d21": {
     "model_module": "@jupyter-widgets/controls",
     "model_module_version": "1.5.0",
     "model_name": "HTMLModel",
     "state": {
      "_dom_classes": [],
      "_model_module": "@jupyter-widgets/controls",
      "_model_module_version": "1.5.0",
      "_model_name": "HTMLModel",
      "_view_count": null,
      "_view_module": "@jupyter-widgets/controls",
      "_view_module_version": "1.5.0",
      "_view_name": "HTMLView",
      "description": "",
      "description_tooltip": null,
      "layout": "IPY_MODEL_026f0dbfda9d4574ae721a41a61d125e",
      "placeholder": "​",
      "style": "IPY_MODEL_1a8bd8472d0c464ca9ec4adffc5dad07",
      "value": "model.safetensors: 100%"
     }
    },
    "436e620d032d4f86ab9acae0aad4c402": {
     "model_module": "@jupyter-widgets/controls",
     "model_module_version": "1.5.0",
     "model_name": "HBoxModel",
     "state": {
      "_dom_classes": [],
      "_model_module": "@jupyter-widgets/controls",
      "_model_module_version": "1.5.0",
      "_model_name": "HBoxModel",
      "_view_count": null,
      "_view_module": "@jupyter-widgets/controls",
      "_view_module_version": "1.5.0",
      "_view_name": "HBoxView",
      "box_style": "",
      "children": [
       "IPY_MODEL_389a2dfab292495ea467867757471d21",
       "IPY_MODEL_d30a9eae559b498799d62a901fff3cc1",
       "IPY_MODEL_160e60b616854970aec6b3393c8beef3"
      ],
      "layout": "IPY_MODEL_74f57b55ab62478e89389cdf84db1a31"
     }
    },
    "5efc840bdb2f4fd1a356dcbf05f9f158": {
     "model_module": "@jupyter-widgets/controls",
     "model_module_version": "1.5.0",
     "model_name": "ProgressStyleModel",
     "state": {
      "_model_module": "@jupyter-widgets/controls",
      "_model_module_version": "1.5.0",
      "_model_name": "ProgressStyleModel",
      "_view_count": null,
      "_view_module": "@jupyter-widgets/base",
      "_view_module_version": "1.2.0",
      "_view_name": "StyleView",
      "bar_color": null,
      "description_width": ""
     }
    },
    "74f57b55ab62478e89389cdf84db1a31": {
     "model_module": "@jupyter-widgets/base",
     "model_module_version": "1.2.0",
     "model_name": "LayoutModel",
     "state": {
      "_model_module": "@jupyter-widgets/base",
      "_model_module_version": "1.2.0",
      "_model_name": "LayoutModel",
      "_view_count": null,
      "_view_module": "@jupyter-widgets/base",
      "_view_module_version": "1.2.0",
      "_view_name": "LayoutView",
      "align_content": null,
      "align_items": null,
      "align_self": null,
      "border": null,
      "bottom": null,
      "display": null,
      "flex": null,
      "flex_flow": null,
      "grid_area": null,
      "grid_auto_columns": null,
      "grid_auto_flow": null,
      "grid_auto_rows": null,
      "grid_column": null,
      "grid_gap": null,
      "grid_row": null,
      "grid_template_areas": null,
      "grid_template_columns": null,
      "grid_template_rows": null,
      "height": null,
      "justify_content": null,
      "justify_items": null,
      "left": null,
      "margin": null,
      "max_height": null,
      "max_width": null,
      "min_height": null,
      "min_width": null,
      "object_fit": null,
      "object_position": null,
      "order": null,
      "overflow": null,
      "overflow_x": null,
      "overflow_y": null,
      "padding": null,
      "right": null,
      "top": null,
      "visibility": null,
      "width": null
     }
    },
    "940b8d37fc8b40f3a983d19f5c051440": {
     "model_module": "@jupyter-widgets/controls",
     "model_module_version": "1.5.0",
     "model_name": "DescriptionStyleModel",
     "state": {
      "_model_module": "@jupyter-widgets/controls",
      "_model_module_version": "1.5.0",
      "_model_name": "DescriptionStyleModel",
      "_view_count": null,
      "_view_module": "@jupyter-widgets/base",
      "_view_module_version": "1.2.0",
      "_view_name": "StyleView",
      "description_width": ""
     }
    },
    "9c87387c42de4b238a8c45ab36886e50": {
     "model_module": "@jupyter-widgets/base",
     "model_module_version": "1.2.0",
     "model_name": "LayoutModel",
     "state": {
      "_model_module": "@jupyter-widgets/base",
      "_model_module_version": "1.2.0",
      "_model_name": "LayoutModel",
      "_view_count": null,
      "_view_module": "@jupyter-widgets/base",
      "_view_module_version": "1.2.0",
      "_view_name": "LayoutView",
      "align_content": null,
      "align_items": null,
      "align_self": null,
      "border": null,
      "bottom": null,
      "display": null,
      "flex": null,
      "flex_flow": null,
      "grid_area": null,
      "grid_auto_columns": null,
      "grid_auto_flow": null,
      "grid_auto_rows": null,
      "grid_column": null,
      "grid_gap": null,
      "grid_row": null,
      "grid_template_areas": null,
      "grid_template_columns": null,
      "grid_template_rows": null,
      "height": null,
      "justify_content": null,
      "justify_items": null,
      "left": null,
      "margin": null,
      "max_height": null,
      "max_width": null,
      "min_height": null,
      "min_width": null,
      "object_fit": null,
      "object_position": null,
      "order": null,
      "overflow": null,
      "overflow_x": null,
      "overflow_y": null,
      "padding": null,
      "right": null,
      "top": null,
      "visibility": null,
      "width": null
     }
    },
    "d30a9eae559b498799d62a901fff3cc1": {
     "model_module": "@jupyter-widgets/controls",
     "model_module_version": "1.5.0",
     "model_name": "FloatProgressModel",
     "state": {
      "_dom_classes": [],
      "_model_module": "@jupyter-widgets/controls",
      "_model_module_version": "1.5.0",
      "_model_name": "FloatProgressModel",
      "_view_count": null,
      "_view_module": "@jupyter-widgets/controls",
      "_view_module_version": "1.5.0",
      "_view_name": "ProgressView",
      "bar_style": "success",
      "description": "",
      "description_tooltip": null,
      "layout": "IPY_MODEL_dd84717394014b51b2a9e694c89c8e60",
      "max": 33588312,
      "min": 0,
      "orientation": "horizontal",
      "style": "IPY_MODEL_5efc840bdb2f4fd1a356dcbf05f9f158",
      "value": 33588312
     }
    },
    "dd84717394014b51b2a9e694c89c8e60": {
     "model_module": "@jupyter-widgets/base",
     "model_module_version": "1.2.0",
     "model_name": "LayoutModel",
     "state": {
      "_model_module": "@jupyter-widgets/base",
      "_model_module_version": "1.2.0",
      "_model_name": "LayoutModel",
      "_view_count": null,
      "_view_module": "@jupyter-widgets/base",
      "_view_module_version": "1.2.0",
      "_view_name": "LayoutView",
      "align_content": null,
      "align_items": null,
      "align_self": null,
      "border": null,
      "bottom": null,
      "display": null,
      "flex": null,
      "flex_flow": null,
      "grid_area": null,
      "grid_auto_columns": null,
      "grid_auto_flow": null,
      "grid_auto_rows": null,
      "grid_column": null,
      "grid_gap": null,
      "grid_row": null,
      "grid_template_areas": null,
      "grid_template_columns": null,
      "grid_template_rows": null,
      "height": null,
      "justify_content": null,
      "justify_items": null,
      "left": null,
      "margin": null,
      "max_height": null,
      "max_width": null,
      "min_height": null,
      "min_width": null,
      "object_fit": null,
      "object_position": null,
      "order": null,
      "overflow": null,
      "overflow_x": null,
      "overflow_y": null,
      "padding": null,
      "right": null,
      "top": null,
      "visibility": null,
      "width": null
     }
    }
   }
  }
 },
 "nbformat": 4,
 "nbformat_minor": 0
}
