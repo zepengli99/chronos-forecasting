{
 "cells": [
  {
   "cell_type": "code",
   "execution_count": null,
   "metadata": {
    "id": "r1DSARP9URbY"
   },
   "outputs": [],
   "source": [
    "!pip install --force-reinstall \"chronos-forecasting[training] @ git+https://github.com/zepengli99/chronos-forecasting.git\""
   ]
  },
  {
   "cell_type": "code",
   "execution_count": null,
   "metadata": {
    "colab": {
     "base_uri": "https://localhost:8080/"
    },
    "executionInfo": {
     "elapsed": 127714,
     "status": "ok",
     "timestamp": 1738950496832,
     "user": {
      "displayName": "Zepeng Li",
      "userId": "04563086650751250217"
     },
     "user_tz": -60
    },
    "id": "ocjsFiZxq0yl",
    "outputId": "636449a2-340a-4e91-cd9d-676abf9e5d3b"
   },
   "outputs": [
    {
     "name": "stdout",
     "output_type": "stream",
     "text": [
      "Collecting chronos-forecasting@ git+https://github.com/zepengli99/chronos-forecasting.git (from chronos-forecasting[training]@ git+https://github.com/zepengli99/chronos-forecasting.git)\n",
      "  Cloning https://github.com/zepengli99/chronos-forecasting.git to /tmp/pip-install-vm18_8t6/chronos-forecasting_1ded90004c674b7e977a3790250a698a\n",
      "  Running command git clone --filter=blob:none --quiet https://github.com/zepengli99/chronos-forecasting.git /tmp/pip-install-vm18_8t6/chronos-forecasting_1ded90004c674b7e977a3790250a698a\n",
      "  Resolved https://github.com/zepengli99/chronos-forecasting.git to commit 3bdb065a0860916ed9f29f84caa5dd3ce054f9ca\n",
      "  Installing build dependencies ... \u001b[?25l\u001b[?25hdone\n",
      "  Getting requirements to build wheel ... \u001b[?25l\u001b[?25hdone\n",
      "  Preparing metadata (pyproject.toml) ... \u001b[?25l\u001b[?25hdone\n",
      "Collecting accelerate<1,>=0.32 (from chronos-forecasting@ git+https://github.com/zepengli99/chronos-forecasting.git->chronos-forecasting[training]@ git+https://github.com/zepengli99/chronos-forecasting.git)\n",
      "  Downloading accelerate-0.34.2-py3-none-any.whl.metadata (19 kB)\n",
      "Requirement already satisfied: torch<2.6,>=2.0 in /usr/local/lib/python3.11/dist-packages (from chronos-forecasting@ git+https://github.com/zepengli99/chronos-forecasting.git->chronos-forecasting[training]@ git+https://github.com/zepengli99/chronos-forecasting.git) (2.5.1+cu124)\n",
      "Collecting transformers<4.48,>=4.30 (from chronos-forecasting@ git+https://github.com/zepengli99/chronos-forecasting.git->chronos-forecasting[training]@ git+https://github.com/zepengli99/chronos-forecasting.git)\n",
      "  Downloading transformers-4.47.1-py3-none-any.whl.metadata (44 kB)\n",
      "\u001b[2K     \u001b[90m━━━━━━━━━━━━━━━━━━━━━━━━━━━━━━━━━━━━━━━━\u001b[0m \u001b[32m44.1/44.1 kB\u001b[0m \u001b[31m3.1 MB/s\u001b[0m eta \u001b[36m0:00:00\u001b[0m\n",
      "\u001b[?25hCollecting datasets~=2.18 (from chronos-forecasting@ git+https://github.com/zepengli99/chronos-forecasting.git->chronos-forecasting[training]@ git+https://github.com/zepengli99/chronos-forecasting.git)\n",
      "  Downloading datasets-2.21.0-py3-none-any.whl.metadata (21 kB)\n",
      "Collecting gluonts~=0.15 (from gluonts[pro]~=0.15; extra == \"training\"->chronos-forecasting@ git+https://github.com/zepengli99/chronos-forecasting.git->chronos-forecasting[training]@ git+https://github.com/zepengli99/chronos-forecasting.git)\n",
      "  Downloading gluonts-0.16.0-py3-none-any.whl.metadata (9.8 kB)\n",
      "Requirement already satisfied: joblib in /usr/local/lib/python3.11/dist-packages (from chronos-forecasting@ git+https://github.com/zepengli99/chronos-forecasting.git->chronos-forecasting[training]@ git+https://github.com/zepengli99/chronos-forecasting.git) (1.4.2)\n",
      "Requirement already satisfied: numpy~=1.21 in /usr/local/lib/python3.11/dist-packages (from chronos-forecasting@ git+https://github.com/zepengli99/chronos-forecasting.git->chronos-forecasting[training]@ git+https://github.com/zepengli99/chronos-forecasting.git) (1.26.4)\n",
      "Requirement already satisfied: scikit-learn in /usr/local/lib/python3.11/dist-packages (from chronos-forecasting@ git+https://github.com/zepengli99/chronos-forecasting.git->chronos-forecasting[training]@ git+https://github.com/zepengli99/chronos-forecasting.git) (1.6.1)\n",
      "Requirement already satisfied: tensorboard in /usr/local/lib/python3.11/dist-packages (from chronos-forecasting@ git+https://github.com/zepengli99/chronos-forecasting.git->chronos-forecasting[training]@ git+https://github.com/zepengli99/chronos-forecasting.git) (2.18.0)\n",
      "Requirement already satisfied: typer in /usr/local/lib/python3.11/dist-packages (from chronos-forecasting@ git+https://github.com/zepengli99/chronos-forecasting.git->chronos-forecasting[training]@ git+https://github.com/zepengli99/chronos-forecasting.git) (0.15.1)\n",
      "Collecting typer-config (from chronos-forecasting@ git+https://github.com/zepengli99/chronos-forecasting.git->chronos-forecasting[training]@ git+https://github.com/zepengli99/chronos-forecasting.git)\n",
      "  Downloading typer_config-1.4.2-py3-none-any.whl.metadata (4.3 kB)\n",
      "Requirement already satisfied: packaging>=20.0 in /usr/local/lib/python3.11/dist-packages (from accelerate<1,>=0.32->chronos-forecasting@ git+https://github.com/zepengli99/chronos-forecasting.git->chronos-forecasting[training]@ git+https://github.com/zepengli99/chronos-forecasting.git) (24.2)\n",
      "Requirement already satisfied: psutil in /usr/local/lib/python3.11/dist-packages (from accelerate<1,>=0.32->chronos-forecasting@ git+https://github.com/zepengli99/chronos-forecasting.git->chronos-forecasting[training]@ git+https://github.com/zepengli99/chronos-forecasting.git) (5.9.5)\n",
      "Requirement already satisfied: pyyaml in /usr/local/lib/python3.11/dist-packages (from accelerate<1,>=0.32->chronos-forecasting@ git+https://github.com/zepengli99/chronos-forecasting.git->chronos-forecasting[training]@ git+https://github.com/zepengli99/chronos-forecasting.git) (6.0.2)\n",
      "Requirement already satisfied: huggingface-hub>=0.21.0 in /usr/local/lib/python3.11/dist-packages (from accelerate<1,>=0.32->chronos-forecasting@ git+https://github.com/zepengli99/chronos-forecasting.git->chronos-forecasting[training]@ git+https://github.com/zepengli99/chronos-forecasting.git) (0.28.1)\n",
      "Requirement already satisfied: safetensors>=0.4.3 in /usr/local/lib/python3.11/dist-packages (from accelerate<1,>=0.32->chronos-forecasting@ git+https://github.com/zepengli99/chronos-forecasting.git->chronos-forecasting[training]@ git+https://github.com/zepengli99/chronos-forecasting.git) (0.5.2)\n",
      "Requirement already satisfied: filelock in /usr/local/lib/python3.11/dist-packages (from datasets~=2.18->chronos-forecasting@ git+https://github.com/zepengli99/chronos-forecasting.git->chronos-forecasting[training]@ git+https://github.com/zepengli99/chronos-forecasting.git) (3.17.0)\n",
      "Requirement already satisfied: pyarrow>=15.0.0 in /usr/local/lib/python3.11/dist-packages (from datasets~=2.18->chronos-forecasting@ git+https://github.com/zepengli99/chronos-forecasting.git->chronos-forecasting[training]@ git+https://github.com/zepengli99/chronos-forecasting.git) (17.0.0)\n",
      "Collecting dill<0.3.9,>=0.3.0 (from datasets~=2.18->chronos-forecasting@ git+https://github.com/zepengli99/chronos-forecasting.git->chronos-forecasting[training]@ git+https://github.com/zepengli99/chronos-forecasting.git)\n",
      "  Downloading dill-0.3.8-py3-none-any.whl.metadata (10 kB)\n",
      "Requirement already satisfied: pandas in /usr/local/lib/python3.11/dist-packages (from datasets~=2.18->chronos-forecasting@ git+https://github.com/zepengli99/chronos-forecasting.git->chronos-forecasting[training]@ git+https://github.com/zepengli99/chronos-forecasting.git) (2.2.2)\n",
      "Requirement already satisfied: requests>=2.32.2 in /usr/local/lib/python3.11/dist-packages (from datasets~=2.18->chronos-forecasting@ git+https://github.com/zepengli99/chronos-forecasting.git->chronos-forecasting[training]@ git+https://github.com/zepengli99/chronos-forecasting.git) (2.32.3)\n",
      "Requirement already satisfied: tqdm>=4.66.3 in /usr/local/lib/python3.11/dist-packages (from datasets~=2.18->chronos-forecasting@ git+https://github.com/zepengli99/chronos-forecasting.git->chronos-forecasting[training]@ git+https://github.com/zepengli99/chronos-forecasting.git) (4.67.1)\n",
      "Collecting xxhash (from datasets~=2.18->chronos-forecasting@ git+https://github.com/zepengli99/chronos-forecasting.git->chronos-forecasting[training]@ git+https://github.com/zepengli99/chronos-forecasting.git)\n",
      "  Downloading xxhash-3.5.0-cp311-cp311-manylinux_2_17_x86_64.manylinux2014_x86_64.whl.metadata (12 kB)\n",
      "Collecting multiprocess (from datasets~=2.18->chronos-forecasting@ git+https://github.com/zepengli99/chronos-forecasting.git->chronos-forecasting[training]@ git+https://github.com/zepengli99/chronos-forecasting.git)\n",
      "  Downloading multiprocess-0.70.17-py311-none-any.whl.metadata (7.2 kB)\n",
      "Collecting fsspec<=2024.6.1,>=2023.1.0 (from fsspec[http]<=2024.6.1,>=2023.1.0->datasets~=2.18->chronos-forecasting@ git+https://github.com/zepengli99/chronos-forecasting.git->chronos-forecasting[training]@ git+https://github.com/zepengli99/chronos-forecasting.git)\n",
      "  Downloading fsspec-2024.6.1-py3-none-any.whl.metadata (11 kB)\n",
      "Requirement already satisfied: aiohttp in /usr/local/lib/python3.11/dist-packages (from datasets~=2.18->chronos-forecasting@ git+https://github.com/zepengli99/chronos-forecasting.git->chronos-forecasting[training]@ git+https://github.com/zepengli99/chronos-forecasting.git) (3.11.11)\n",
      "Requirement already satisfied: pydantic<3,>=1.7 in /usr/local/lib/python3.11/dist-packages (from gluonts~=0.15->gluonts[pro]~=0.15; extra == \"training\"->chronos-forecasting@ git+https://github.com/zepengli99/chronos-forecasting.git->chronos-forecasting[training]@ git+https://github.com/zepengli99/chronos-forecasting.git) (2.10.6)\n",
      "Requirement already satisfied: toolz~=0.10 in /usr/local/lib/python3.11/dist-packages (from gluonts~=0.15->gluonts[pro]~=0.15; extra == \"training\"->chronos-forecasting@ git+https://github.com/zepengli99/chronos-forecasting.git->chronos-forecasting[training]@ git+https://github.com/zepengli99/chronos-forecasting.git) (0.12.1)\n",
      "Requirement already satisfied: typing-extensions~=4.0 in /usr/local/lib/python3.11/dist-packages (from gluonts~=0.15->gluonts[pro]~=0.15; extra == \"training\"->chronos-forecasting@ git+https://github.com/zepengli99/chronos-forecasting.git->chronos-forecasting[training]@ git+https://github.com/zepengli99/chronos-forecasting.git) (4.12.2)\n",
      "Requirement already satisfied: orjson in /usr/local/lib/python3.11/dist-packages (from gluonts[pro]~=0.15; extra == \"training\"->chronos-forecasting@ git+https://github.com/zepengli99/chronos-forecasting.git->chronos-forecasting[training]@ git+https://github.com/zepengli99/chronos-forecasting.git) (3.10.15)\n",
      "Requirement already satisfied: networkx in /usr/local/lib/python3.11/dist-packages (from torch<2.6,>=2.0->chronos-forecasting@ git+https://github.com/zepengli99/chronos-forecasting.git->chronos-forecasting[training]@ git+https://github.com/zepengli99/chronos-forecasting.git) (3.4.2)\n",
      "Requirement already satisfied: jinja2 in /usr/local/lib/python3.11/dist-packages (from torch<2.6,>=2.0->chronos-forecasting@ git+https://github.com/zepengli99/chronos-forecasting.git->chronos-forecasting[training]@ git+https://github.com/zepengli99/chronos-forecasting.git) (3.1.5)\n",
      "Collecting nvidia-cuda-nvrtc-cu12==12.4.127 (from torch<2.6,>=2.0->chronos-forecasting@ git+https://github.com/zepengli99/chronos-forecasting.git->chronos-forecasting[training]@ git+https://github.com/zepengli99/chronos-forecasting.git)\n",
      "  Downloading nvidia_cuda_nvrtc_cu12-12.4.127-py3-none-manylinux2014_x86_64.whl.metadata (1.5 kB)\n",
      "Collecting nvidia-cuda-runtime-cu12==12.4.127 (from torch<2.6,>=2.0->chronos-forecasting@ git+https://github.com/zepengli99/chronos-forecasting.git->chronos-forecasting[training]@ git+https://github.com/zepengli99/chronos-forecasting.git)\n",
      "  Downloading nvidia_cuda_runtime_cu12-12.4.127-py3-none-manylinux2014_x86_64.whl.metadata (1.5 kB)\n",
      "Collecting nvidia-cuda-cupti-cu12==12.4.127 (from torch<2.6,>=2.0->chronos-forecasting@ git+https://github.com/zepengli99/chronos-forecasting.git->chronos-forecasting[training]@ git+https://github.com/zepengli99/chronos-forecasting.git)\n",
      "  Downloading nvidia_cuda_cupti_cu12-12.4.127-py3-none-manylinux2014_x86_64.whl.metadata (1.6 kB)\n",
      "Collecting nvidia-cudnn-cu12==9.1.0.70 (from torch<2.6,>=2.0->chronos-forecasting@ git+https://github.com/zepengli99/chronos-forecasting.git->chronos-forecasting[training]@ git+https://github.com/zepengli99/chronos-forecasting.git)\n",
      "  Downloading nvidia_cudnn_cu12-9.1.0.70-py3-none-manylinux2014_x86_64.whl.metadata (1.6 kB)\n",
      "Collecting nvidia-cublas-cu12==12.4.5.8 (from torch<2.6,>=2.0->chronos-forecasting@ git+https://github.com/zepengli99/chronos-forecasting.git->chronos-forecasting[training]@ git+https://github.com/zepengli99/chronos-forecasting.git)\n",
      "  Downloading nvidia_cublas_cu12-12.4.5.8-py3-none-manylinux2014_x86_64.whl.metadata (1.5 kB)\n",
      "Collecting nvidia-cufft-cu12==11.2.1.3 (from torch<2.6,>=2.0->chronos-forecasting@ git+https://github.com/zepengli99/chronos-forecasting.git->chronos-forecasting[training]@ git+https://github.com/zepengli99/chronos-forecasting.git)\n",
      "  Downloading nvidia_cufft_cu12-11.2.1.3-py3-none-manylinux2014_x86_64.whl.metadata (1.5 kB)\n",
      "Collecting nvidia-curand-cu12==10.3.5.147 (from torch<2.6,>=2.0->chronos-forecasting@ git+https://github.com/zepengli99/chronos-forecasting.git->chronos-forecasting[training]@ git+https://github.com/zepengli99/chronos-forecasting.git)\n",
      "  Downloading nvidia_curand_cu12-10.3.5.147-py3-none-manylinux2014_x86_64.whl.metadata (1.5 kB)\n",
      "Collecting nvidia-cusolver-cu12==11.6.1.9 (from torch<2.6,>=2.0->chronos-forecasting@ git+https://github.com/zepengli99/chronos-forecasting.git->chronos-forecasting[training]@ git+https://github.com/zepengli99/chronos-forecasting.git)\n",
      "  Downloading nvidia_cusolver_cu12-11.6.1.9-py3-none-manylinux2014_x86_64.whl.metadata (1.6 kB)\n",
      "Collecting nvidia-cusparse-cu12==12.3.1.170 (from torch<2.6,>=2.0->chronos-forecasting@ git+https://github.com/zepengli99/chronos-forecasting.git->chronos-forecasting[training]@ git+https://github.com/zepengli99/chronos-forecasting.git)\n",
      "  Downloading nvidia_cusparse_cu12-12.3.1.170-py3-none-manylinux2014_x86_64.whl.metadata (1.6 kB)\n",
      "Requirement already satisfied: nvidia-nccl-cu12==2.21.5 in /usr/local/lib/python3.11/dist-packages (from torch<2.6,>=2.0->chronos-forecasting@ git+https://github.com/zepengli99/chronos-forecasting.git->chronos-forecasting[training]@ git+https://github.com/zepengli99/chronos-forecasting.git) (2.21.5)\n",
      "Requirement already satisfied: nvidia-nvtx-cu12==12.4.127 in /usr/local/lib/python3.11/dist-packages (from torch<2.6,>=2.0->chronos-forecasting@ git+https://github.com/zepengli99/chronos-forecasting.git->chronos-forecasting[training]@ git+https://github.com/zepengli99/chronos-forecasting.git) (12.4.127)\n",
      "Collecting nvidia-nvjitlink-cu12==12.4.127 (from torch<2.6,>=2.0->chronos-forecasting@ git+https://github.com/zepengli99/chronos-forecasting.git->chronos-forecasting[training]@ git+https://github.com/zepengli99/chronos-forecasting.git)\n",
      "  Downloading nvidia_nvjitlink_cu12-12.4.127-py3-none-manylinux2014_x86_64.whl.metadata (1.5 kB)\n",
      "Requirement already satisfied: triton==3.1.0 in /usr/local/lib/python3.11/dist-packages (from torch<2.6,>=2.0->chronos-forecasting@ git+https://github.com/zepengli99/chronos-forecasting.git->chronos-forecasting[training]@ git+https://github.com/zepengli99/chronos-forecasting.git) (3.1.0)\n",
      "Requirement already satisfied: sympy==1.13.1 in /usr/local/lib/python3.11/dist-packages (from torch<2.6,>=2.0->chronos-forecasting@ git+https://github.com/zepengli99/chronos-forecasting.git->chronos-forecasting[training]@ git+https://github.com/zepengli99/chronos-forecasting.git) (1.13.1)\n",
      "Requirement already satisfied: mpmath<1.4,>=1.1.0 in /usr/local/lib/python3.11/dist-packages (from sympy==1.13.1->torch<2.6,>=2.0->chronos-forecasting@ git+https://github.com/zepengli99/chronos-forecasting.git->chronos-forecasting[training]@ git+https://github.com/zepengli99/chronos-forecasting.git) (1.3.0)\n",
      "Requirement already satisfied: regex!=2019.12.17 in /usr/local/lib/python3.11/dist-packages (from transformers<4.48,>=4.30->chronos-forecasting@ git+https://github.com/zepengli99/chronos-forecasting.git->chronos-forecasting[training]@ git+https://github.com/zepengli99/chronos-forecasting.git) (2024.11.6)\n",
      "Requirement already satisfied: tokenizers<0.22,>=0.21 in /usr/local/lib/python3.11/dist-packages (from transformers<4.48,>=4.30->chronos-forecasting@ git+https://github.com/zepengli99/chronos-forecasting.git->chronos-forecasting[training]@ git+https://github.com/zepengli99/chronos-forecasting.git) (0.21.0)\n",
      "Requirement already satisfied: scipy>=1.6.0 in /usr/local/lib/python3.11/dist-packages (from scikit-learn->chronos-forecasting@ git+https://github.com/zepengli99/chronos-forecasting.git->chronos-forecasting[training]@ git+https://github.com/zepengli99/chronos-forecasting.git) (1.13.1)\n",
      "Requirement already satisfied: threadpoolctl>=3.1.0 in /usr/local/lib/python3.11/dist-packages (from scikit-learn->chronos-forecasting@ git+https://github.com/zepengli99/chronos-forecasting.git->chronos-forecasting[training]@ git+https://github.com/zepengli99/chronos-forecasting.git) (3.5.0)\n",
      "Requirement already satisfied: absl-py>=0.4 in /usr/local/lib/python3.11/dist-packages (from tensorboard->chronos-forecasting@ git+https://github.com/zepengli99/chronos-forecasting.git->chronos-forecasting[training]@ git+https://github.com/zepengli99/chronos-forecasting.git) (1.4.0)\n",
      "Requirement already satisfied: grpcio>=1.48.2 in /usr/local/lib/python3.11/dist-packages (from tensorboard->chronos-forecasting@ git+https://github.com/zepengli99/chronos-forecasting.git->chronos-forecasting[training]@ git+https://github.com/zepengli99/chronos-forecasting.git) (1.70.0)\n",
      "Requirement already satisfied: markdown>=2.6.8 in /usr/local/lib/python3.11/dist-packages (from tensorboard->chronos-forecasting@ git+https://github.com/zepengli99/chronos-forecasting.git->chronos-forecasting[training]@ git+https://github.com/zepengli99/chronos-forecasting.git) (3.7)\n",
      "Requirement already satisfied: protobuf!=4.24.0,>=3.19.6 in /usr/local/lib/python3.11/dist-packages (from tensorboard->chronos-forecasting@ git+https://github.com/zepengli99/chronos-forecasting.git->chronos-forecasting[training]@ git+https://github.com/zepengli99/chronos-forecasting.git) (4.25.6)\n",
      "Requirement already satisfied: setuptools>=41.0.0 in /usr/local/lib/python3.11/dist-packages (from tensorboard->chronos-forecasting@ git+https://github.com/zepengli99/chronos-forecasting.git->chronos-forecasting[training]@ git+https://github.com/zepengli99/chronos-forecasting.git) (75.1.0)\n",
      "Requirement already satisfied: six>1.9 in /usr/local/lib/python3.11/dist-packages (from tensorboard->chronos-forecasting@ git+https://github.com/zepengli99/chronos-forecasting.git->chronos-forecasting[training]@ git+https://github.com/zepengli99/chronos-forecasting.git) (1.17.0)\n",
      "Requirement already satisfied: tensorboard-data-server<0.8.0,>=0.7.0 in /usr/local/lib/python3.11/dist-packages (from tensorboard->chronos-forecasting@ git+https://github.com/zepengli99/chronos-forecasting.git->chronos-forecasting[training]@ git+https://github.com/zepengli99/chronos-forecasting.git) (0.7.2)\n",
      "Requirement already satisfied: werkzeug>=1.0.1 in /usr/local/lib/python3.11/dist-packages (from tensorboard->chronos-forecasting@ git+https://github.com/zepengli99/chronos-forecasting.git->chronos-forecasting[training]@ git+https://github.com/zepengli99/chronos-forecasting.git) (3.1.3)\n",
      "Requirement already satisfied: click>=8.0.0 in /usr/local/lib/python3.11/dist-packages (from typer->chronos-forecasting@ git+https://github.com/zepengli99/chronos-forecasting.git->chronos-forecasting[training]@ git+https://github.com/zepengli99/chronos-forecasting.git) (8.1.8)\n",
      "Requirement already satisfied: shellingham>=1.3.0 in /usr/local/lib/python3.11/dist-packages (from typer->chronos-forecasting@ git+https://github.com/zepengli99/chronos-forecasting.git->chronos-forecasting[training]@ git+https://github.com/zepengli99/chronos-forecasting.git) (1.5.4)\n",
      "Requirement already satisfied: rich>=10.11.0 in /usr/local/lib/python3.11/dist-packages (from typer->chronos-forecasting@ git+https://github.com/zepengli99/chronos-forecasting.git->chronos-forecasting[training]@ git+https://github.com/zepengli99/chronos-forecasting.git) (13.9.4)\n",
      "Requirement already satisfied: aiohappyeyeballs>=2.3.0 in /usr/local/lib/python3.11/dist-packages (from aiohttp->datasets~=2.18->chronos-forecasting@ git+https://github.com/zepengli99/chronos-forecasting.git->chronos-forecasting[training]@ git+https://github.com/zepengli99/chronos-forecasting.git) (2.4.4)\n",
      "Requirement already satisfied: aiosignal>=1.1.2 in /usr/local/lib/python3.11/dist-packages (from aiohttp->datasets~=2.18->chronos-forecasting@ git+https://github.com/zepengli99/chronos-forecasting.git->chronos-forecasting[training]@ git+https://github.com/zepengli99/chronos-forecasting.git) (1.3.2)\n",
      "Requirement already satisfied: attrs>=17.3.0 in /usr/local/lib/python3.11/dist-packages (from aiohttp->datasets~=2.18->chronos-forecasting@ git+https://github.com/zepengli99/chronos-forecasting.git->chronos-forecasting[training]@ git+https://github.com/zepengli99/chronos-forecasting.git) (25.1.0)\n",
      "Requirement already satisfied: frozenlist>=1.1.1 in /usr/local/lib/python3.11/dist-packages (from aiohttp->datasets~=2.18->chronos-forecasting@ git+https://github.com/zepengli99/chronos-forecasting.git->chronos-forecasting[training]@ git+https://github.com/zepengli99/chronos-forecasting.git) (1.5.0)\n",
      "Requirement already satisfied: multidict<7.0,>=4.5 in /usr/local/lib/python3.11/dist-packages (from aiohttp->datasets~=2.18->chronos-forecasting@ git+https://github.com/zepengli99/chronos-forecasting.git->chronos-forecasting[training]@ git+https://github.com/zepengli99/chronos-forecasting.git) (6.1.0)\n",
      "Requirement already satisfied: propcache>=0.2.0 in /usr/local/lib/python3.11/dist-packages (from aiohttp->datasets~=2.18->chronos-forecasting@ git+https://github.com/zepengli99/chronos-forecasting.git->chronos-forecasting[training]@ git+https://github.com/zepengli99/chronos-forecasting.git) (0.2.1)\n",
      "Requirement already satisfied: yarl<2.0,>=1.17.0 in /usr/local/lib/python3.11/dist-packages (from aiohttp->datasets~=2.18->chronos-forecasting@ git+https://github.com/zepengli99/chronos-forecasting.git->chronos-forecasting[training]@ git+https://github.com/zepengli99/chronos-forecasting.git) (1.18.3)\n",
      "Requirement already satisfied: python-dateutil>=2.8.2 in /usr/local/lib/python3.11/dist-packages (from pandas->datasets~=2.18->chronos-forecasting@ git+https://github.com/zepengli99/chronos-forecasting.git->chronos-forecasting[training]@ git+https://github.com/zepengli99/chronos-forecasting.git) (2.8.2)\n",
      "Requirement already satisfied: pytz>=2020.1 in /usr/local/lib/python3.11/dist-packages (from pandas->datasets~=2.18->chronos-forecasting@ git+https://github.com/zepengli99/chronos-forecasting.git->chronos-forecasting[training]@ git+https://github.com/zepengli99/chronos-forecasting.git) (2025.1)\n",
      "Requirement already satisfied: tzdata>=2022.7 in /usr/local/lib/python3.11/dist-packages (from pandas->datasets~=2.18->chronos-forecasting@ git+https://github.com/zepengli99/chronos-forecasting.git->chronos-forecasting[training]@ git+https://github.com/zepengli99/chronos-forecasting.git) (2025.1)\n",
      "Requirement already satisfied: annotated-types>=0.6.0 in /usr/local/lib/python3.11/dist-packages (from pydantic<3,>=1.7->gluonts~=0.15->gluonts[pro]~=0.15; extra == \"training\"->chronos-forecasting@ git+https://github.com/zepengli99/chronos-forecasting.git->chronos-forecasting[training]@ git+https://github.com/zepengli99/chronos-forecasting.git) (0.7.0)\n",
      "Requirement already satisfied: pydantic-core==2.27.2 in /usr/local/lib/python3.11/dist-packages (from pydantic<3,>=1.7->gluonts~=0.15->gluonts[pro]~=0.15; extra == \"training\"->chronos-forecasting@ git+https://github.com/zepengli99/chronos-forecasting.git->chronos-forecasting[training]@ git+https://github.com/zepengli99/chronos-forecasting.git) (2.27.2)\n",
      "Requirement already satisfied: charset-normalizer<4,>=2 in /usr/local/lib/python3.11/dist-packages (from requests>=2.32.2->datasets~=2.18->chronos-forecasting@ git+https://github.com/zepengli99/chronos-forecasting.git->chronos-forecasting[training]@ git+https://github.com/zepengli99/chronos-forecasting.git) (3.4.1)\n",
      "Requirement already satisfied: idna<4,>=2.5 in /usr/local/lib/python3.11/dist-packages (from requests>=2.32.2->datasets~=2.18->chronos-forecasting@ git+https://github.com/zepengli99/chronos-forecasting.git->chronos-forecasting[training]@ git+https://github.com/zepengli99/chronos-forecasting.git) (3.10)\n",
      "Requirement already satisfied: urllib3<3,>=1.21.1 in /usr/local/lib/python3.11/dist-packages (from requests>=2.32.2->datasets~=2.18->chronos-forecasting@ git+https://github.com/zepengli99/chronos-forecasting.git->chronos-forecasting[training]@ git+https://github.com/zepengli99/chronos-forecasting.git) (2.3.0)\n",
      "Requirement already satisfied: certifi>=2017.4.17 in /usr/local/lib/python3.11/dist-packages (from requests>=2.32.2->datasets~=2.18->chronos-forecasting@ git+https://github.com/zepengli99/chronos-forecasting.git->chronos-forecasting[training]@ git+https://github.com/zepengli99/chronos-forecasting.git) (2025.1.31)\n",
      "Requirement already satisfied: markdown-it-py>=2.2.0 in /usr/local/lib/python3.11/dist-packages (from rich>=10.11.0->typer->chronos-forecasting@ git+https://github.com/zepengli99/chronos-forecasting.git->chronos-forecasting[training]@ git+https://github.com/zepengli99/chronos-forecasting.git) (3.0.0)\n",
      "Requirement already satisfied: pygments<3.0.0,>=2.13.0 in /usr/local/lib/python3.11/dist-packages (from rich>=10.11.0->typer->chronos-forecasting@ git+https://github.com/zepengli99/chronos-forecasting.git->chronos-forecasting[training]@ git+https://github.com/zepengli99/chronos-forecasting.git) (2.18.0)\n",
      "Requirement already satisfied: MarkupSafe>=2.1.1 in /usr/local/lib/python3.11/dist-packages (from werkzeug>=1.0.1->tensorboard->chronos-forecasting@ git+https://github.com/zepengli99/chronos-forecasting.git->chronos-forecasting[training]@ git+https://github.com/zepengli99/chronos-forecasting.git) (3.0.2)\n",
      "INFO: pip is looking at multiple versions of multiprocess to determine which version is compatible with other requirements. This could take a while.\n",
      "Collecting multiprocess (from datasets~=2.18->chronos-forecasting@ git+https://github.com/zepengli99/chronos-forecasting.git->chronos-forecasting[training]@ git+https://github.com/zepengli99/chronos-forecasting.git)\n",
      "  Downloading multiprocess-0.70.16-py311-none-any.whl.metadata (7.2 kB)\n",
      "Requirement already satisfied: mdurl~=0.1 in /usr/local/lib/python3.11/dist-packages (from markdown-it-py>=2.2.0->rich>=10.11.0->typer->chronos-forecasting@ git+https://github.com/zepengli99/chronos-forecasting.git->chronos-forecasting[training]@ git+https://github.com/zepengli99/chronos-forecasting.git) (0.1.2)\n",
      "Downloading accelerate-0.34.2-py3-none-any.whl (324 kB)\n",
      "\u001b[2K   \u001b[90m━━━━━━━━━━━━━━━━━━━━━━━━━━━━━━━━━━━━━━━━\u001b[0m \u001b[32m324.4/324.4 kB\u001b[0m \u001b[31m18.2 MB/s\u001b[0m eta \u001b[36m0:00:00\u001b[0m\n",
      "\u001b[?25hDownloading datasets-2.21.0-py3-none-any.whl (527 kB)\n",
      "\u001b[2K   \u001b[90m━━━━━━━━━━━━━━━━━━━━━━━━━━━━━━━━━━━━━━━━\u001b[0m \u001b[32m527.3/527.3 kB\u001b[0m \u001b[31m30.7 MB/s\u001b[0m eta \u001b[36m0:00:00\u001b[0m\n",
      "\u001b[?25hDownloading gluonts-0.16.0-py3-none-any.whl (1.5 MB)\n",
      "\u001b[2K   \u001b[90m━━━━━━━━━━━━━━━━━━━━━━━━━━━━━━━━━━━━━━━━\u001b[0m \u001b[32m1.5/1.5 MB\u001b[0m \u001b[31m47.6 MB/s\u001b[0m eta \u001b[36m0:00:00\u001b[0m\n",
      "\u001b[?25hDownloading nvidia_cublas_cu12-12.4.5.8-py3-none-manylinux2014_x86_64.whl (363.4 MB)\n",
      "\u001b[2K   \u001b[90m━━━━━━━━━━━━━━━━━━━━━━━━━━━━━━━━━━━━━━━━\u001b[0m \u001b[32m363.4/363.4 MB\u001b[0m \u001b[31m1.3 MB/s\u001b[0m eta \u001b[36m0:00:00\u001b[0m\n",
      "\u001b[?25hDownloading nvidia_cuda_cupti_cu12-12.4.127-py3-none-manylinux2014_x86_64.whl (13.8 MB)\n",
      "\u001b[2K   \u001b[90m━━━━━━━━━━━━━━━━━━━━━━━━━━━━━━━━━━━━━━━━\u001b[0m \u001b[32m13.8/13.8 MB\u001b[0m \u001b[31m109.6 MB/s\u001b[0m eta \u001b[36m0:00:00\u001b[0m\n",
      "\u001b[?25hDownloading nvidia_cuda_nvrtc_cu12-12.4.127-py3-none-manylinux2014_x86_64.whl (24.6 MB)\n",
      "\u001b[2K   \u001b[90m━━━━━━━━━━━━━━━━━━━━━━━━━━━━━━━━━━━━━━━━\u001b[0m \u001b[32m24.6/24.6 MB\u001b[0m \u001b[31m84.5 MB/s\u001b[0m eta \u001b[36m0:00:00\u001b[0m\n",
      "\u001b[?25hDownloading nvidia_cuda_runtime_cu12-12.4.127-py3-none-manylinux2014_x86_64.whl (883 kB)\n",
      "\u001b[2K   \u001b[90m━━━━━━━━━━━━━━━━━━━━━━━━━━━━━━━━━━━━━━━━\u001b[0m \u001b[32m883.7/883.7 kB\u001b[0m \u001b[31m60.4 MB/s\u001b[0m eta \u001b[36m0:00:00\u001b[0m\n",
      "\u001b[?25hDownloading nvidia_cudnn_cu12-9.1.0.70-py3-none-manylinux2014_x86_64.whl (664.8 MB)\n",
      "\u001b[2K   \u001b[90m━━━━━━━━━━━━━━━━━━━━━━━━━━━━━━━━━━━━━━━━\u001b[0m \u001b[32m664.8/664.8 MB\u001b[0m \u001b[31m2.1 MB/s\u001b[0m eta \u001b[36m0:00:00\u001b[0m\n",
      "\u001b[?25hDownloading nvidia_cufft_cu12-11.2.1.3-py3-none-manylinux2014_x86_64.whl (211.5 MB)\n",
      "\u001b[2K   \u001b[90m━━━━━━━━━━━━━━━━━━━━━━━━━━━━━━━━━━━━━━━━\u001b[0m \u001b[32m211.5/211.5 MB\u001b[0m \u001b[31m5.2 MB/s\u001b[0m eta \u001b[36m0:00:00\u001b[0m\n",
      "\u001b[?25hDownloading nvidia_curand_cu12-10.3.5.147-py3-none-manylinux2014_x86_64.whl (56.3 MB)\n",
      "\u001b[2K   \u001b[90m━━━━━━━━━━━━━━━━━━━━━━━━━━━━━━━━━━━━━━━━\u001b[0m \u001b[32m56.3/56.3 MB\u001b[0m \u001b[31m11.7 MB/s\u001b[0m eta \u001b[36m0:00:00\u001b[0m\n",
      "\u001b[?25hDownloading nvidia_cusolver_cu12-11.6.1.9-py3-none-manylinux2014_x86_64.whl (127.9 MB)\n",
      "\u001b[2K   \u001b[90m━━━━━━━━━━━━━━━━━━━━━━━━━━━━━━━━━━━━━━━━\u001b[0m \u001b[32m127.9/127.9 MB\u001b[0m \u001b[31m7.4 MB/s\u001b[0m eta \u001b[36m0:00:00\u001b[0m\n",
      "\u001b[?25hDownloading nvidia_cusparse_cu12-12.3.1.170-py3-none-manylinux2014_x86_64.whl (207.5 MB)\n",
      "\u001b[2K   \u001b[90m━━━━━━━━━━━━━━━━━━━━━━━━━━━━━━━━━━━━━━━━\u001b[0m \u001b[32m207.5/207.5 MB\u001b[0m \u001b[31m5.9 MB/s\u001b[0m eta \u001b[36m0:00:00\u001b[0m\n",
      "\u001b[?25hDownloading nvidia_nvjitlink_cu12-12.4.127-py3-none-manylinux2014_x86_64.whl (21.1 MB)\n",
      "\u001b[2K   \u001b[90m━━━━━━━━━━━━━━━━━━━━━━━━━━━━━━━━━━━━━━━━\u001b[0m \u001b[32m21.1/21.1 MB\u001b[0m \u001b[31m89.2 MB/s\u001b[0m eta \u001b[36m0:00:00\u001b[0m\n",
      "\u001b[?25hDownloading transformers-4.47.1-py3-none-any.whl (10.1 MB)\n",
      "\u001b[2K   \u001b[90m━━━━━━━━━━━━━━━━━━━━━━━━━━━━━━━━━━━━━━━━\u001b[0m \u001b[32m10.1/10.1 MB\u001b[0m \u001b[31m117.2 MB/s\u001b[0m eta \u001b[36m0:00:00\u001b[0m\n",
      "\u001b[?25hDownloading typer_config-1.4.2-py3-none-any.whl (11 kB)\n",
      "Downloading dill-0.3.8-py3-none-any.whl (116 kB)\n",
      "\u001b[2K   \u001b[90m━━━━━━━━━━━━━━━━━━━━━━━━━━━━━━━━━━━━━━━━\u001b[0m \u001b[32m116.3/116.3 kB\u001b[0m \u001b[31m12.2 MB/s\u001b[0m eta \u001b[36m0:00:00\u001b[0m\n",
      "\u001b[?25hDownloading fsspec-2024.6.1-py3-none-any.whl (177 kB)\n",
      "\u001b[2K   \u001b[90m━━━━━━━━━━━━━━━━━━━━━━━━━━━━━━━━━━━━━━━━\u001b[0m \u001b[32m177.6/177.6 kB\u001b[0m \u001b[31m17.5 MB/s\u001b[0m eta \u001b[36m0:00:00\u001b[0m\n",
      "\u001b[?25hDownloading multiprocess-0.70.16-py311-none-any.whl (143 kB)\n",
      "\u001b[2K   \u001b[90m━━━━━━━━━━━━━━━━━━━━━━━━━━━━━━━━━━━━━━━━\u001b[0m \u001b[32m143.5/143.5 kB\u001b[0m \u001b[31m14.4 MB/s\u001b[0m eta \u001b[36m0:00:00\u001b[0m\n",
      "\u001b[?25hDownloading xxhash-3.5.0-cp311-cp311-manylinux_2_17_x86_64.manylinux2014_x86_64.whl (194 kB)\n",
      "\u001b[2K   \u001b[90m━━━━━━━━━━━━━━━━━━━━━━━━━━━━━━━━━━━━━━━━\u001b[0m \u001b[32m194.8/194.8 kB\u001b[0m \u001b[31m17.9 MB/s\u001b[0m eta \u001b[36m0:00:00\u001b[0m\n",
      "\u001b[?25hBuilding wheels for collected packages: chronos-forecasting\n",
      "  Building wheel for chronos-forecasting (pyproject.toml) ... \u001b[?25l\u001b[?25hdone\n",
      "  Created wheel for chronos-forecasting: filename=chronos_forecasting-1.4.1-py3-none-any.whl size=29604 sha256=75627f190180f4180c3326bcb2d0c5e15fd6056ec34ee6d41dfd10319e23ed9d\n",
      "  Stored in directory: /tmp/pip-ephem-wheel-cache-ss70icvd/wheels/c7/de/d2/14544f066bd7ebf30bcf7eb745d54e8a30cd79574cc6b0c4a2\n",
      "Successfully built chronos-forecasting\n",
      "Installing collected packages: xxhash, nvidia-nvjitlink-cu12, nvidia-curand-cu12, nvidia-cufft-cu12, nvidia-cuda-runtime-cu12, nvidia-cuda-nvrtc-cu12, nvidia-cuda-cupti-cu12, nvidia-cublas-cu12, fsspec, dill, nvidia-cusparse-cu12, nvidia-cudnn-cu12, multiprocess, nvidia-cusolver-cu12, gluonts, typer-config, transformers, datasets, accelerate, chronos-forecasting\n",
      "  Attempting uninstall: nvidia-nvjitlink-cu12\n",
      "    Found existing installation: nvidia-nvjitlink-cu12 12.5.82\n",
      "    Uninstalling nvidia-nvjitlink-cu12-12.5.82:\n",
      "      Successfully uninstalled nvidia-nvjitlink-cu12-12.5.82\n",
      "  Attempting uninstall: nvidia-curand-cu12\n",
      "    Found existing installation: nvidia-curand-cu12 10.3.6.82\n",
      "    Uninstalling nvidia-curand-cu12-10.3.6.82:\n",
      "      Successfully uninstalled nvidia-curand-cu12-10.3.6.82\n",
      "  Attempting uninstall: nvidia-cufft-cu12\n",
      "    Found existing installation: nvidia-cufft-cu12 11.2.3.61\n",
      "    Uninstalling nvidia-cufft-cu12-11.2.3.61:\n",
      "      Successfully uninstalled nvidia-cufft-cu12-11.2.3.61\n",
      "  Attempting uninstall: nvidia-cuda-runtime-cu12\n",
      "    Found existing installation: nvidia-cuda-runtime-cu12 12.5.82\n",
      "    Uninstalling nvidia-cuda-runtime-cu12-12.5.82:\n",
      "      Successfully uninstalled nvidia-cuda-runtime-cu12-12.5.82\n",
      "  Attempting uninstall: nvidia-cuda-nvrtc-cu12\n",
      "    Found existing installation: nvidia-cuda-nvrtc-cu12 12.5.82\n",
      "    Uninstalling nvidia-cuda-nvrtc-cu12-12.5.82:\n",
      "      Successfully uninstalled nvidia-cuda-nvrtc-cu12-12.5.82\n",
      "  Attempting uninstall: nvidia-cuda-cupti-cu12\n",
      "    Found existing installation: nvidia-cuda-cupti-cu12 12.5.82\n",
      "    Uninstalling nvidia-cuda-cupti-cu12-12.5.82:\n",
      "      Successfully uninstalled nvidia-cuda-cupti-cu12-12.5.82\n",
      "  Attempting uninstall: nvidia-cublas-cu12\n",
      "    Found existing installation: nvidia-cublas-cu12 12.5.3.2\n",
      "    Uninstalling nvidia-cublas-cu12-12.5.3.2:\n",
      "      Successfully uninstalled nvidia-cublas-cu12-12.5.3.2\n",
      "  Attempting uninstall: fsspec\n",
      "    Found existing installation: fsspec 2024.10.0\n",
      "    Uninstalling fsspec-2024.10.0:\n",
      "      Successfully uninstalled fsspec-2024.10.0\n",
      "  Attempting uninstall: nvidia-cusparse-cu12\n",
      "    Found existing installation: nvidia-cusparse-cu12 12.5.1.3\n",
      "    Uninstalling nvidia-cusparse-cu12-12.5.1.3:\n",
      "      Successfully uninstalled nvidia-cusparse-cu12-12.5.1.3\n",
      "  Attempting uninstall: nvidia-cudnn-cu12\n",
      "    Found existing installation: nvidia-cudnn-cu12 9.3.0.75\n",
      "    Uninstalling nvidia-cudnn-cu12-9.3.0.75:\n",
      "      Successfully uninstalled nvidia-cudnn-cu12-9.3.0.75\n",
      "  Attempting uninstall: nvidia-cusolver-cu12\n",
      "    Found existing installation: nvidia-cusolver-cu12 11.6.3.83\n",
      "    Uninstalling nvidia-cusolver-cu12-11.6.3.83:\n",
      "      Successfully uninstalled nvidia-cusolver-cu12-11.6.3.83\n",
      "  Attempting uninstall: transformers\n",
      "    Found existing installation: transformers 4.48.2\n",
      "    Uninstalling transformers-4.48.2:\n",
      "      Successfully uninstalled transformers-4.48.2\n",
      "  Attempting uninstall: accelerate\n",
      "    Found existing installation: accelerate 1.3.0\n",
      "    Uninstalling accelerate-1.3.0:\n",
      "      Successfully uninstalled accelerate-1.3.0\n",
      "\u001b[31mERROR: pip's dependency resolver does not currently take into account all the packages that are installed. This behaviour is the source of the following dependency conflicts.\n",
      "gcsfs 2024.10.0 requires fsspec==2024.10.0, but you have fsspec 2024.6.1 which is incompatible.\u001b[0m\u001b[31m\n",
      "\u001b[0mSuccessfully installed accelerate-0.34.2 chronos-forecasting-1.4.1 datasets-2.21.0 dill-0.3.8 fsspec-2024.6.1 gluonts-0.16.0 multiprocess-0.70.16 nvidia-cublas-cu12-12.4.5.8 nvidia-cuda-cupti-cu12-12.4.127 nvidia-cuda-nvrtc-cu12-12.4.127 nvidia-cuda-runtime-cu12-12.4.127 nvidia-cudnn-cu12-9.1.0.70 nvidia-cufft-cu12-11.2.1.3 nvidia-curand-cu12-10.3.5.147 nvidia-cusolver-cu12-11.6.1.9 nvidia-cusparse-cu12-12.3.1.170 nvidia-nvjitlink-cu12-12.4.127 transformers-4.47.1 typer-config-1.4.2 xxhash-3.5.0\n"
     ]
    }
   ],
   "source": [
    "!pip install \"chronos-forecasting[training] @ git+https://github.com/zepengli99/chronos-forecasting.git\""
   ]
  },
  {
   "cell_type": "code",
   "execution_count": null,
   "metadata": {
    "colab": {
     "base_uri": "https://localhost:8080/"
    },
    "executionInfo": {
     "elapsed": 15984,
     "status": "ok",
     "timestamp": 1738950729844,
     "user": {
      "displayName": "Zepeng Li",
      "userId": "04563086650751250217"
     },
     "user_tz": -60
    },
    "id": "H_5YtUD9q2LY",
    "outputId": "b635df65-67a7-450f-b962-c6e57621aa9c"
   },
   "outputs": [
    {
     "name": "stdout",
     "output_type": "stream",
     "text": [
      "Mounted at /content/drive\n"
     ]
    }
   ],
   "source": [
    "from google.colab import drive\n",
    "drive.mount('/content/drive')"
   ]
  },
  {
   "cell_type": "code",
   "execution_count": null,
   "metadata": {
    "id": "RZsBJr1Vq5Ko"
   },
   "outputs": [],
   "source": [
    "import os\n",
    "os.chdir('/content/drive/MyDrive/NLP_project/chronos-forecasting')"
   ]
  },
  {
   "cell_type": "markdown",
   "metadata": {
    "id": "CCMhVmhdrDLP"
   },
   "source": [
    "# Fintune chronos-t5-tiny model with Lora"
   ]
  },
  {
   "cell_type": "code",
   "execution_count": null,
   "metadata": {
    "colab": {
     "base_uri": "https://localhost:8080/"
    },
    "executionInfo": {
     "elapsed": 889396,
     "status": "ok",
     "timestamp": 1738951643945,
     "user": {
      "displayName": "Zepeng Li",
      "userId": "04563086650751250217"
     },
     "user_tz": -60
    },
    "id": "myOMJ1OkrC3d",
    "outputId": "d175416e-74d7-47c4-b36a-8ad535e361b2"
   },
   "outputs": [
    {
     "name": "stdout",
     "output_type": "stream",
     "text": [
      "2025-02-07 17:52:47.916789: E external/local_xla/xla/stream_executor/cuda/cuda_fft.cc:477] Unable to register cuFFT factory: Attempting to register factory for plugin cuFFT when one has already been registered\n",
      "WARNING: All log messages before absl::InitializeLog() is called are written to STDERR\n",
      "E0000 00:00:1738950768.170350    2506 cuda_dnn.cc:8310] Unable to register cuDNN factory: Attempting to register factory for plugin cuDNN when one has already been registered\n",
      "E0000 00:00:1738950768.234444    2506 cuda_blas.cc:1418] Unable to register cuBLAS factory: Attempting to register factory for plugin cuBLAS when one has already been registered\n",
      "2025-02-07 17:52:48.723856: I tensorflow/core/platform/cpu_feature_guard.cc:210] This TensorFlow binary is optimized to use available CPU instructions in performance-critical operations.\n",
      "To enable the following instructions: AVX2 AVX512F FMA, in other operations, rebuild TensorFlow with the appropriate compiler flags.\n",
      "2025-02-07 17:52:56,727 - /content/drive/MyDrive/NLP_project/chronos-forecasting/scripts/training/train.py - INFO - TF32 format is only available on devices with compute capability >= 8. Setting tf32 to False.\n",
      "2025-02-07 17:52:56,727 - /content/drive/MyDrive/NLP_project/chronos-forecasting/scripts/training/train.py - INFO - Using SEED: 2184240178\n",
      "2025-02-07 17:52:56,739 - /content/drive/MyDrive/NLP_project/chronos-forecasting/scripts/training/train.py - INFO - Logging dir: output/run-1\n",
      "2025-02-07 17:52:56,739 - /content/drive/MyDrive/NLP_project/chronos-forecasting/scripts/training/train.py - INFO - Loading and filtering 1 datasets for training: ['./data/bitcoin-close-train.arrow']\n",
      "2025-02-07 17:52:56,740 - /content/drive/MyDrive/NLP_project/chronos-forecasting/scripts/training/train.py - INFO - Mixing probabilities: [1.0]\n",
      "2025-02-07 17:52:58,959 - /content/drive/MyDrive/NLP_project/chronos-forecasting/scripts/training/train.py - INFO - Initializing model\n",
      "2025-02-07 17:52:58,959 - /content/drive/MyDrive/NLP_project/chronos-forecasting/scripts/training/train.py - INFO - Using pretrained initialization from amazon/chronos-t5-tiny\n",
      "config.json: 100% 1.14k/1.14k [00:00<00:00, 6.90MB/s]\n",
      "model.safetensors: 100% 33.6M/33.6M [00:00<00:00, 43.0MB/s]\n",
      "generation_config.json: 100% 142/142 [00:00<00:00, 998kB/s]\n",
      "The speedups for torchdynamo mostly come wih GPU Ampere or higher and which is not detected here.\n",
      "2025-02-07 17:53:02,092 - /content/drive/MyDrive/NLP_project/chronos-forecasting/scripts/training/train.py - INFO - Training\n",
      "  0% 0/1000 [00:00<?, ?it/s]Passing a tuple of `past_key_values` is deprecated and will be removed in Transformers v4.48.0. You should pass an instance of `EncoderDecoderCache` instead, e.g. `past_key_values=EncoderDecoderCache.from_legacy_cache(past_key_values)`.\n",
      "{'loss': 0.8297, 'grad_norm': 0.04873811826109886, 'learning_rate': 0.0005, 'epoch': 0.5}\n",
      "{'loss': 0.8216, 'grad_norm': 0.039840567857027054, 'learning_rate': 0.0, 'epoch': 1.0}\n",
      "{'train_runtime': 849.8865, 'train_samples_per_second': 37.652, 'train_steps_per_second': 1.177, 'train_loss': 0.8256663818359375, 'epoch': 1.0}\n",
      "100% 1000/1000 [14:09<00:00,  1.18it/s]\n",
      "2025-02-07 18:07:15,122 - /content/drive/MyDrive/NLP_project/chronos-forecasting/scripts/training/train.py - INFO - Saving LoRA adapter\n",
      "2025-02-07 18:07:15,683 - /content/drive/MyDrive/NLP_project/chronos-forecasting/scripts/training/train.py - INFO - Merging and saving full model\n",
      "2025-02-07 18:07:15,683 - /content/drive/MyDrive/NLP_project/chronos-forecasting/scripts/training/train.py - INFO - Using pretrained initialization from amazon/chronos-t5-tiny\n",
      "CPU times: user 5.66 s, sys: 835 ms, total: 6.5 s\n",
      "Wall time: 14min 49s\n"
     ]
    }
   ],
   "source": [
    "%%time\n",
    "!CUDA_VISIBLE_DEVICES=0 python scripts/training/train.py --config scripts/training/configs/chronos-t5-tiny-btc-lora.yaml \\\n",
    "    --model-id amazon/chronos-t5-tiny \\\n",
    "    --no-random-init \\\n",
    "    --max-steps 1000 \\\n",
    "    --learning-rate 0.001"
   ]
  },
  {
   "cell_type": "markdown",
   "metadata": {
    "id": "FDgx5TxUrLRD"
   },
   "source": [
    "# Upload Lora fine-tuned chronos-t5-tiny model (optional)"
   ]
  },
  {
   "cell_type": "code",
   "execution_count": null,
   "metadata": {
    "id": "8DA2wE1lrJGI"
   },
   "outputs": [],
   "source": [
    "# import os\n",
    "# os.environ[\"HF_TOKEN\"] = Your hugging face token"
   ]
  },
  {
   "cell_type": "code",
   "execution_count": null,
   "metadata": {
    "colab": {
     "base_uri": "https://localhost:8080/",
     "height": 312,
     "referenced_widgets": [
      "5954de164aca4797a9411c70cebbf4f9",
      "b6a12b3798dc400db58b77acba283be8",
      "19adefa79d34487fbf33914d1f1043ab",
      "9662d1fec26c48e5a525059592b398a3",
      "9df9a6e257f74c04862e2781551e272d",
      "9ba9e6d306ab4337b06e6aebbcff7c20",
      "abd62640ec4a415c8422e64bf8e47e9b",
      "4c04c97ef13449679be54926999d3cca",
      "f952407ee3124f6c8ddaddb95c4ce3f0",
      "b16e6728dcdc473f817161d8254f9e5b",
      "4fd4ece21a4146f9b3d27a3625208be2"
     ]
    },
    "executionInfo": {
     "elapsed": 22520,
     "status": "ok",
     "timestamp": 1738948308784,
     "user": {
      "displayName": "Zepeng Li",
      "userId": "04563086650751250217"
     },
     "user_tz": -60
    },
    "id": "2gYX9f7PrQwc",
    "outputId": "fdbb240c-565a-467f-de48-a8106549e65d"
   },
   "outputs": [
    {
     "name": "stderr",
     "output_type": "stream",
     "text": [
      "Some weights of the model checkpoint at ./output/run-1/checkpoint-final/ were not used when initializing T5ForConditionalGeneration: ['decoder.block.0.layer.0.SelfAttention.q.base_layer.weight', 'decoder.block.0.layer.0.SelfAttention.q.lora_A.default.weight', 'decoder.block.0.layer.0.SelfAttention.q.lora_B.default.weight', 'decoder.block.0.layer.0.SelfAttention.v.base_layer.weight', 'decoder.block.0.layer.0.SelfAttention.v.lora_A.default.weight', 'decoder.block.0.layer.0.SelfAttention.v.lora_B.default.weight', 'decoder.block.0.layer.1.EncDecAttention.q.base_layer.weight', 'decoder.block.0.layer.1.EncDecAttention.q.lora_A.default.weight', 'decoder.block.0.layer.1.EncDecAttention.q.lora_B.default.weight', 'decoder.block.0.layer.1.EncDecAttention.v.base_layer.weight', 'decoder.block.0.layer.1.EncDecAttention.v.lora_A.default.weight', 'decoder.block.0.layer.1.EncDecAttention.v.lora_B.default.weight', 'decoder.block.1.layer.0.SelfAttention.q.base_layer.weight', 'decoder.block.1.layer.0.SelfAttention.q.lora_A.default.weight', 'decoder.block.1.layer.0.SelfAttention.q.lora_B.default.weight', 'decoder.block.1.layer.0.SelfAttention.v.base_layer.weight', 'decoder.block.1.layer.0.SelfAttention.v.lora_A.default.weight', 'decoder.block.1.layer.0.SelfAttention.v.lora_B.default.weight', 'decoder.block.1.layer.1.EncDecAttention.q.base_layer.weight', 'decoder.block.1.layer.1.EncDecAttention.q.lora_A.default.weight', 'decoder.block.1.layer.1.EncDecAttention.q.lora_B.default.weight', 'decoder.block.1.layer.1.EncDecAttention.v.base_layer.weight', 'decoder.block.1.layer.1.EncDecAttention.v.lora_A.default.weight', 'decoder.block.1.layer.1.EncDecAttention.v.lora_B.default.weight', 'decoder.block.2.layer.0.SelfAttention.q.base_layer.weight', 'decoder.block.2.layer.0.SelfAttention.q.lora_A.default.weight', 'decoder.block.2.layer.0.SelfAttention.q.lora_B.default.weight', 'decoder.block.2.layer.0.SelfAttention.v.base_layer.weight', 'decoder.block.2.layer.0.SelfAttention.v.lora_A.default.weight', 'decoder.block.2.layer.0.SelfAttention.v.lora_B.default.weight', 'decoder.block.2.layer.1.EncDecAttention.q.base_layer.weight', 'decoder.block.2.layer.1.EncDecAttention.q.lora_A.default.weight', 'decoder.block.2.layer.1.EncDecAttention.q.lora_B.default.weight', 'decoder.block.2.layer.1.EncDecAttention.v.base_layer.weight', 'decoder.block.2.layer.1.EncDecAttention.v.lora_A.default.weight', 'decoder.block.2.layer.1.EncDecAttention.v.lora_B.default.weight', 'decoder.block.3.layer.0.SelfAttention.q.base_layer.weight', 'decoder.block.3.layer.0.SelfAttention.q.lora_A.default.weight', 'decoder.block.3.layer.0.SelfAttention.q.lora_B.default.weight', 'decoder.block.3.layer.0.SelfAttention.v.base_layer.weight', 'decoder.block.3.layer.0.SelfAttention.v.lora_A.default.weight', 'decoder.block.3.layer.0.SelfAttention.v.lora_B.default.weight', 'decoder.block.3.layer.1.EncDecAttention.q.base_layer.weight', 'decoder.block.3.layer.1.EncDecAttention.q.lora_A.default.weight', 'decoder.block.3.layer.1.EncDecAttention.q.lora_B.default.weight', 'decoder.block.3.layer.1.EncDecAttention.v.base_layer.weight', 'decoder.block.3.layer.1.EncDecAttention.v.lora_A.default.weight', 'decoder.block.3.layer.1.EncDecAttention.v.lora_B.default.weight', 'encoder.block.0.layer.0.SelfAttention.q.base_layer.weight', 'encoder.block.0.layer.0.SelfAttention.q.lora_A.default.weight', 'encoder.block.0.layer.0.SelfAttention.q.lora_B.default.weight', 'encoder.block.0.layer.0.SelfAttention.v.base_layer.weight', 'encoder.block.0.layer.0.SelfAttention.v.lora_A.default.weight', 'encoder.block.0.layer.0.SelfAttention.v.lora_B.default.weight', 'encoder.block.1.layer.0.SelfAttention.q.base_layer.weight', 'encoder.block.1.layer.0.SelfAttention.q.lora_A.default.weight', 'encoder.block.1.layer.0.SelfAttention.q.lora_B.default.weight', 'encoder.block.1.layer.0.SelfAttention.v.base_layer.weight', 'encoder.block.1.layer.0.SelfAttention.v.lora_A.default.weight', 'encoder.block.1.layer.0.SelfAttention.v.lora_B.default.weight', 'encoder.block.2.layer.0.SelfAttention.q.base_layer.weight', 'encoder.block.2.layer.0.SelfAttention.q.lora_A.default.weight', 'encoder.block.2.layer.0.SelfAttention.q.lora_B.default.weight', 'encoder.block.2.layer.0.SelfAttention.v.base_layer.weight', 'encoder.block.2.layer.0.SelfAttention.v.lora_A.default.weight', 'encoder.block.2.layer.0.SelfAttention.v.lora_B.default.weight', 'encoder.block.3.layer.0.SelfAttention.q.base_layer.weight', 'encoder.block.3.layer.0.SelfAttention.q.lora_A.default.weight', 'encoder.block.3.layer.0.SelfAttention.q.lora_B.default.weight', 'encoder.block.3.layer.0.SelfAttention.v.base_layer.weight', 'encoder.block.3.layer.0.SelfAttention.v.lora_A.default.weight', 'encoder.block.3.layer.0.SelfAttention.v.lora_B.default.weight']\n",
      "- This IS expected if you are initializing T5ForConditionalGeneration from the checkpoint of a model trained on another task or with another architecture (e.g. initializing a BertForSequenceClassification model from a BertForPreTraining model).\n",
      "- This IS NOT expected if you are initializing T5ForConditionalGeneration from the checkpoint of a model that you expect to be exactly identical (initializing a BertForSequenceClassification model from a BertForSequenceClassification model).\n",
      "Some weights of T5ForConditionalGeneration were not initialized from the model checkpoint at ./output/run-1/checkpoint-final/ and are newly initialized: ['decoder.block.0.layer.0.SelfAttention.q.weight', 'decoder.block.0.layer.0.SelfAttention.v.weight', 'decoder.block.0.layer.1.EncDecAttention.q.weight', 'decoder.block.0.layer.1.EncDecAttention.v.weight', 'decoder.block.1.layer.0.SelfAttention.q.weight', 'decoder.block.1.layer.0.SelfAttention.v.weight', 'decoder.block.1.layer.1.EncDecAttention.q.weight', 'decoder.block.1.layer.1.EncDecAttention.v.weight', 'decoder.block.2.layer.0.SelfAttention.q.weight', 'decoder.block.2.layer.0.SelfAttention.v.weight', 'decoder.block.2.layer.1.EncDecAttention.q.weight', 'decoder.block.2.layer.1.EncDecAttention.v.weight', 'decoder.block.3.layer.0.SelfAttention.q.weight', 'decoder.block.3.layer.0.SelfAttention.v.weight', 'decoder.block.3.layer.1.EncDecAttention.q.weight', 'decoder.block.3.layer.1.EncDecAttention.v.weight', 'encoder.block.0.layer.0.SelfAttention.q.weight', 'encoder.block.0.layer.0.SelfAttention.v.weight', 'encoder.block.1.layer.0.SelfAttention.q.weight', 'encoder.block.1.layer.0.SelfAttention.v.weight', 'encoder.block.2.layer.0.SelfAttention.q.weight', 'encoder.block.2.layer.0.SelfAttention.v.weight', 'encoder.block.3.layer.0.SelfAttention.q.weight', 'encoder.block.3.layer.0.SelfAttention.v.weight']\n",
      "You should probably TRAIN this model on a down-stream task to be able to use it for predictions and inference.\n",
      "/usr/local/lib/python3.11/dist-packages/huggingface_hub/utils/_auth.py:94: UserWarning: \n",
      "The secret `HF_TOKEN` does not exist in your Colab secrets.\n",
      "To authenticate with the Hugging Face Hub, create a token in your settings tab (https://huggingface.co/settings/tokens), set it as secret in your Google Colab and restart your session.\n",
      "You will be able to reuse this secret in all of your notebooks.\n",
      "Please note that authentication is recommended but still optional to access public models or datasets.\n",
      "  warnings.warn(\n"
     ]
    },
    {
     "data": {
      "application/vnd.jupyter.widget-view+json": {
       "model_id": "5954de164aca4797a9411c70cebbf4f9",
       "version_major": 2,
       "version_minor": 0
      },
      "text/plain": [
       "model.safetensors:   0%|          | 0.00/33.6M [00:00<?, ?B/s]"
      ]
     },
     "metadata": {},
     "output_type": "display_data"
    },
    {
     "data": {
      "application/vnd.google.colaboratory.intrinsic+json": {
       "type": "string"
      },
      "text/plain": [
       "CommitInfo(commit_url='https://huggingface.co/zepengli99/chronos-t5-tiny-btc-lora/commit/7c52e7ac1d0a403395e05a22eddbcdefb6ea63ec', commit_message='Upload T5ForConditionalGeneration', commit_description='', oid='7c52e7ac1d0a403395e05a22eddbcdefb6ea63ec', pr_url=None, repo_url=RepoUrl('https://huggingface.co/zepengli99/chronos-t5-tiny-btc-lora', endpoint='https://huggingface.co', repo_type='model', repo_id='zepengli99/chronos-t5-tiny-btc-lora'), pr_revision=None, pr_num=None)"
      ]
     },
     "execution_count": 5,
     "metadata": {},
     "output_type": "execute_result"
    }
   ],
   "source": [
    "# from chronos import ChronosPipeline\n",
    "\n",
    "# pipeline = ChronosPipeline.from_pretrained(\"./output/run-1/checkpoint-final/\")\n",
    "# pipeline.model.model.push_to_hub(\"zepengli99/chronos-t5-tiny-btc-lora\")"
   ]
  },
  {
   "cell_type": "markdown",
   "metadata": {
    "id": "7Q-0bLjIrWyV"
   },
   "source": [
    "# Evaluation"
   ]
  },
  {
   "cell_type": "code",
   "execution_count": null,
   "metadata": {
    "colab": {
     "base_uri": "https://localhost:8080/"
    },
    "executionInfo": {
     "elapsed": 22226,
     "status": "ok",
     "timestamp": 1738951733382,
     "user": {
      "displayName": "Zepeng Li",
      "userId": "04563086650751250217"
     },
     "user_tz": -60
    },
    "id": "0iLE2VSlrXPe",
    "outputId": "9246c23f-5885-45e8-e43c-6b4b63253f5e"
   },
   "outputs": [
    {
     "name": "stdout",
     "output_type": "stream",
     "text": [
      "2025-02-07 18:08:37.486457: E external/local_xla/xla/stream_executor/cuda/cuda_fft.cc:477] Unable to register cuFFT factory: Attempting to register factory for plugin cuFFT when one has already been registered\n",
      "WARNING: All log messages before absl::InitializeLog() is called are written to STDERR\n",
      "E0000 00:00:1738951717.508429    7419 cuda_dnn.cc:8310] Unable to register cuDNN factory: Attempting to register factory for plugin cuDNN when one has already been registered\n",
      "E0000 00:00:1738951717.514958    7419 cuda_blas.cc:1418] Unable to register cuBLAS factory: Attempting to register factory for plugin cuBLAS when one has already been registered\n",
      "2025-02-07 18:08:37.537017: I tensorflow/core/platform/cpu_feature_guard.cc:210] This TensorFlow binary is optimized to use available CPU instructions in performance-critical operations.\n",
      "To enable the following instructions: AVX2 AVX512F FMA, in other operations, rebuild TensorFlow with the appropriate compiler flags.\n",
      "2025-02-07 18:08:41,924 - Chronos Evaluation - INFO - Loading bitcoin_test\n",
      "Downloading data: 100% 628k/628k [00:00<00:00, 1.06MB/s]\n",
      "Generating test split: 100% 1/1 [00:00<00:00, 30.82 examples/s]\n",
      "/content/drive/MyDrive/NLP_project/chronos-forecasting/scripts/evaluation/evaluate.py:39: FutureWarning: 'T' is deprecated and will be removed in a future version, please use 'min' instead.\n",
      "  period = pd.DatetimeIndex(hf_dataset[0][\"timestamp\"]).to_period(freq='15T')\n",
      "2025-02-07 18:08:46,961 - Chronos Evaluation - INFO - Generating forecasts for bitcoin_test (1 time series)\n",
      "1it [00:01,  1.40s/it]\n",
      "2025-02-07 18:08:48,361 - Chronos Evaluation - INFO - Evaluating forecasts for bitcoin_test\n",
      "1it [00:00, 49.50it/s]\n"
     ]
    }
   ],
   "source": [
    "!python scripts/evaluation/evaluate.py scripts/evaluation/configs/btc.yaml scripts/evaluation/results/chronos-t5-tiny-btc-finetuned-lora.csv \\\n",
    "    --chronos-model-id \"./output/run-1/checkpoint-final/\" \\\n",
    "    --batch-size=32 \\\n",
    "    --device=cuda:0 \\\n",
    "    --num-samples 20"
   ]
  },
  {
   "cell_type": "code",
   "execution_count": null,
   "metadata": {
    "colab": {
     "base_uri": "https://localhost:8080/",
     "height": 89
    },
    "executionInfo": {
     "elapsed": 384,
     "status": "ok",
     "timestamp": 1738951739072,
     "user": {
      "displayName": "Zepeng Li",
      "userId": "04563086650751250217"
     },
     "user_tz": -60
    },
    "id": "TsZosX6uT2Vs",
    "outputId": "0ab0242c-41c7-445a-afb3-3d3f08d84791"
   },
   "outputs": [
    {
     "data": {
      "application/vnd.google.colaboratory.intrinsic+json": {
       "summary": "{\n  \"name\": \"df\",\n  \"rows\": 1,\n  \"fields\": [\n    {\n      \"column\": \"dataset\",\n      \"properties\": {\n        \"dtype\": \"string\",\n        \"num_unique_values\": 1,\n        \"samples\": [\n          \"bitcoin_test\"\n        ],\n        \"semantic_type\": \"\",\n        \"description\": \"\"\n      }\n    },\n    {\n      \"column\": \"model\",\n      \"properties\": {\n        \"dtype\": \"string\",\n        \"num_unique_values\": 1,\n        \"samples\": [\n          \"./output/run-1/checkpoint-final/\"\n        ],\n        \"semantic_type\": \"\",\n        \"description\": \"\"\n      }\n    },\n    {\n      \"column\": \"MASE\",\n      \"properties\": {\n        \"dtype\": \"number\",\n        \"std\": null,\n        \"min\": 0.1599444509607998,\n        \"max\": 0.1599444509607998,\n        \"num_unique_values\": 1,\n        \"samples\": [\n          0.1599444509607998\n        ],\n        \"semantic_type\": \"\",\n        \"description\": \"\"\n      }\n    },\n    {\n      \"column\": \"WQL\",\n      \"properties\": {\n        \"dtype\": \"number\",\n        \"std\": null,\n        \"min\": 0.0042236997259681,\n        \"max\": 0.0042236997259681,\n        \"num_unique_values\": 1,\n        \"samples\": [\n          0.0042236997259681\n        ],\n        \"semantic_type\": \"\",\n        \"description\": \"\"\n      }\n    }\n  ]\n}",
       "type": "dataframe",
       "variable_name": "df"
      },
      "text/html": [
       "\n",
       "  <div id=\"df-6de9c0d8-5eb8-4f86-94fb-df69d82cb824\" class=\"colab-df-container\">\n",
       "    <div>\n",
       "<style scoped>\n",
       "    .dataframe tbody tr th:only-of-type {\n",
       "        vertical-align: middle;\n",
       "    }\n",
       "\n",
       "    .dataframe tbody tr th {\n",
       "        vertical-align: top;\n",
       "    }\n",
       "\n",
       "    .dataframe thead th {\n",
       "        text-align: right;\n",
       "    }\n",
       "</style>\n",
       "<table border=\"1\" class=\"dataframe\">\n",
       "  <thead>\n",
       "    <tr style=\"text-align: right;\">\n",
       "      <th></th>\n",
       "      <th>dataset</th>\n",
       "      <th>model</th>\n",
       "      <th>MASE</th>\n",
       "      <th>WQL</th>\n",
       "    </tr>\n",
       "  </thead>\n",
       "  <tbody>\n",
       "    <tr>\n",
       "      <th>0</th>\n",
       "      <td>bitcoin_test</td>\n",
       "      <td>./output/run-1/checkpoint-final/</td>\n",
       "      <td>0.159944</td>\n",
       "      <td>0.004224</td>\n",
       "    </tr>\n",
       "  </tbody>\n",
       "</table>\n",
       "</div>\n",
       "    <div class=\"colab-df-buttons\">\n",
       "\n",
       "  <div class=\"colab-df-container\">\n",
       "    <button class=\"colab-df-convert\" onclick=\"convertToInteractive('df-6de9c0d8-5eb8-4f86-94fb-df69d82cb824')\"\n",
       "            title=\"Convert this dataframe to an interactive table.\"\n",
       "            style=\"display:none;\">\n",
       "\n",
       "  <svg xmlns=\"http://www.w3.org/2000/svg\" height=\"24px\" viewBox=\"0 -960 960 960\">\n",
       "    <path d=\"M120-120v-720h720v720H120Zm60-500h600v-160H180v160Zm220 220h160v-160H400v160Zm0 220h160v-160H400v160ZM180-400h160v-160H180v160Zm440 0h160v-160H620v160ZM180-180h160v-160H180v160Zm440 0h160v-160H620v160Z\"/>\n",
       "  </svg>\n",
       "    </button>\n",
       "\n",
       "  <style>\n",
       "    .colab-df-container {\n",
       "      display:flex;\n",
       "      gap: 12px;\n",
       "    }\n",
       "\n",
       "    .colab-df-convert {\n",
       "      background-color: #E8F0FE;\n",
       "      border: none;\n",
       "      border-radius: 50%;\n",
       "      cursor: pointer;\n",
       "      display: none;\n",
       "      fill: #1967D2;\n",
       "      height: 32px;\n",
       "      padding: 0 0 0 0;\n",
       "      width: 32px;\n",
       "    }\n",
       "\n",
       "    .colab-df-convert:hover {\n",
       "      background-color: #E2EBFA;\n",
       "      box-shadow: 0px 1px 2px rgba(60, 64, 67, 0.3), 0px 1px 3px 1px rgba(60, 64, 67, 0.15);\n",
       "      fill: #174EA6;\n",
       "    }\n",
       "\n",
       "    .colab-df-buttons div {\n",
       "      margin-bottom: 4px;\n",
       "    }\n",
       "\n",
       "    [theme=dark] .colab-df-convert {\n",
       "      background-color: #3B4455;\n",
       "      fill: #D2E3FC;\n",
       "    }\n",
       "\n",
       "    [theme=dark] .colab-df-convert:hover {\n",
       "      background-color: #434B5C;\n",
       "      box-shadow: 0px 1px 3px 1px rgba(0, 0, 0, 0.15);\n",
       "      filter: drop-shadow(0px 1px 2px rgba(0, 0, 0, 0.3));\n",
       "      fill: #FFFFFF;\n",
       "    }\n",
       "  </style>\n",
       "\n",
       "    <script>\n",
       "      const buttonEl =\n",
       "        document.querySelector('#df-6de9c0d8-5eb8-4f86-94fb-df69d82cb824 button.colab-df-convert');\n",
       "      buttonEl.style.display =\n",
       "        google.colab.kernel.accessAllowed ? 'block' : 'none';\n",
       "\n",
       "      async function convertToInteractive(key) {\n",
       "        const element = document.querySelector('#df-6de9c0d8-5eb8-4f86-94fb-df69d82cb824');\n",
       "        const dataTable =\n",
       "          await google.colab.kernel.invokeFunction('convertToInteractive',\n",
       "                                                    [key], {});\n",
       "        if (!dataTable) return;\n",
       "\n",
       "        const docLinkHtml = 'Like what you see? Visit the ' +\n",
       "          '<a target=\"_blank\" href=https://colab.research.google.com/notebooks/data_table.ipynb>data table notebook</a>'\n",
       "          + ' to learn more about interactive tables.';\n",
       "        element.innerHTML = '';\n",
       "        dataTable['output_type'] = 'display_data';\n",
       "        await google.colab.output.renderOutput(dataTable, element);\n",
       "        const docLink = document.createElement('div');\n",
       "        docLink.innerHTML = docLinkHtml;\n",
       "        element.appendChild(docLink);\n",
       "      }\n",
       "    </script>\n",
       "  </div>\n",
       "\n",
       "\n",
       "  <div id=\"id_775872ec-8034-493b-8928-181c5ee7d6fc\">\n",
       "    <style>\n",
       "      .colab-df-generate {\n",
       "        background-color: #E8F0FE;\n",
       "        border: none;\n",
       "        border-radius: 50%;\n",
       "        cursor: pointer;\n",
       "        display: none;\n",
       "        fill: #1967D2;\n",
       "        height: 32px;\n",
       "        padding: 0 0 0 0;\n",
       "        width: 32px;\n",
       "      }\n",
       "\n",
       "      .colab-df-generate:hover {\n",
       "        background-color: #E2EBFA;\n",
       "        box-shadow: 0px 1px 2px rgba(60, 64, 67, 0.3), 0px 1px 3px 1px rgba(60, 64, 67, 0.15);\n",
       "        fill: #174EA6;\n",
       "      }\n",
       "\n",
       "      [theme=dark] .colab-df-generate {\n",
       "        background-color: #3B4455;\n",
       "        fill: #D2E3FC;\n",
       "      }\n",
       "\n",
       "      [theme=dark] .colab-df-generate:hover {\n",
       "        background-color: #434B5C;\n",
       "        box-shadow: 0px 1px 3px 1px rgba(0, 0, 0, 0.15);\n",
       "        filter: drop-shadow(0px 1px 2px rgba(0, 0, 0, 0.3));\n",
       "        fill: #FFFFFF;\n",
       "      }\n",
       "    </style>\n",
       "    <button class=\"colab-df-generate\" onclick=\"generateWithVariable('df')\"\n",
       "            title=\"Generate code using this dataframe.\"\n",
       "            style=\"display:none;\">\n",
       "\n",
       "  <svg xmlns=\"http://www.w3.org/2000/svg\" height=\"24px\"viewBox=\"0 0 24 24\"\n",
       "       width=\"24px\">\n",
       "    <path d=\"M7,19H8.4L18.45,9,17,7.55,7,17.6ZM5,21V16.75L18.45,3.32a2,2,0,0,1,2.83,0l1.4,1.43a1.91,1.91,0,0,1,.58,1.4,1.91,1.91,0,0,1-.58,1.4L9.25,21ZM18.45,9,17,7.55Zm-12,3A5.31,5.31,0,0,0,4.9,8.1,5.31,5.31,0,0,0,1,6.5,5.31,5.31,0,0,0,4.9,4.9,5.31,5.31,0,0,0,6.5,1,5.31,5.31,0,0,0,8.1,4.9,5.31,5.31,0,0,0,12,6.5,5.46,5.46,0,0,0,6.5,12Z\"/>\n",
       "  </svg>\n",
       "    </button>\n",
       "    <script>\n",
       "      (() => {\n",
       "      const buttonEl =\n",
       "        document.querySelector('#id_775872ec-8034-493b-8928-181c5ee7d6fc button.colab-df-generate');\n",
       "      buttonEl.style.display =\n",
       "        google.colab.kernel.accessAllowed ? 'block' : 'none';\n",
       "\n",
       "      buttonEl.onclick = () => {\n",
       "        google.colab.notebook.generateWithVariable('df');\n",
       "      }\n",
       "      })();\n",
       "    </script>\n",
       "  </div>\n",
       "\n",
       "    </div>\n",
       "  </div>\n"
      ],
      "text/plain": [
       "        dataset                             model      MASE       WQL\n",
       "0  bitcoin_test  ./output/run-1/checkpoint-final/  0.159944  0.004224"
      ]
     },
     "execution_count": 7,
     "metadata": {},
     "output_type": "execute_result"
    }
   ],
   "source": [
    "import pandas as pd\n",
    "\n",
    "df = pd.read_csv('scripts/evaluation/results/chronos-t5-tiny-btc-finetuned-lora.csv')\n",
    "df"
   ]
  }
 ],
 "metadata": {
  "accelerator": "GPU",
  "colab": {
   "authorship_tag": "ABX9TyO3SN7AERgQ2ngT8u9yN1CE",
   "gpuType": "T4",
   "provenance": []
  },
  "kernelspec": {
   "display_name": "Python 3",
   "name": "python3"
  },
  "language_info": {
   "name": "python"
  },
  "widgets": {
   "application/vnd.jupyter.widget-state+json": {
    "19adefa79d34487fbf33914d1f1043ab": {
     "model_module": "@jupyter-widgets/controls",
     "model_module_version": "1.5.0",
     "model_name": "FloatProgressModel",
     "state": {
      "_dom_classes": [],
      "_model_module": "@jupyter-widgets/controls",
      "_model_module_version": "1.5.0",
      "_model_name": "FloatProgressModel",
      "_view_count": null,
      "_view_module": "@jupyter-widgets/controls",
      "_view_module_version": "1.5.0",
      "_view_name": "ProgressView",
      "bar_style": "success",
      "description": "",
      "description_tooltip": null,
      "layout": "IPY_MODEL_4c04c97ef13449679be54926999d3cca",
      "max": 33588312,
      "min": 0,
      "orientation": "horizontal",
      "style": "IPY_MODEL_f952407ee3124f6c8ddaddb95c4ce3f0",
      "value": 33588312
     }
    },
    "4c04c97ef13449679be54926999d3cca": {
     "model_module": "@jupyter-widgets/base",
     "model_module_version": "1.2.0",
     "model_name": "LayoutModel",
     "state": {
      "_model_module": "@jupyter-widgets/base",
      "_model_module_version": "1.2.0",
      "_model_name": "LayoutModel",
      "_view_count": null,
      "_view_module": "@jupyter-widgets/base",
      "_view_module_version": "1.2.0",
      "_view_name": "LayoutView",
      "align_content": null,
      "align_items": null,
      "align_self": null,
      "border": null,
      "bottom": null,
      "display": null,
      "flex": null,
      "flex_flow": null,
      "grid_area": null,
      "grid_auto_columns": null,
      "grid_auto_flow": null,
      "grid_auto_rows": null,
      "grid_column": null,
      "grid_gap": null,
      "grid_row": null,
      "grid_template_areas": null,
      "grid_template_columns": null,
      "grid_template_rows": null,
      "height": null,
      "justify_content": null,
      "justify_items": null,
      "left": null,
      "margin": null,
      "max_height": null,
      "max_width": null,
      "min_height": null,
      "min_width": null,
      "object_fit": null,
      "object_position": null,
      "order": null,
      "overflow": null,
      "overflow_x": null,
      "overflow_y": null,
      "padding": null,
      "right": null,
      "top": null,
      "visibility": null,
      "width": null
     }
    },
    "4fd4ece21a4146f9b3d27a3625208be2": {
     "model_module": "@jupyter-widgets/controls",
     "model_module_version": "1.5.0",
     "model_name": "DescriptionStyleModel",
     "state": {
      "_model_module": "@jupyter-widgets/controls",
      "_model_module_version": "1.5.0",
      "_model_name": "DescriptionStyleModel",
      "_view_count": null,
      "_view_module": "@jupyter-widgets/base",
      "_view_module_version": "1.2.0",
      "_view_name": "StyleView",
      "description_width": ""
     }
    },
    "5954de164aca4797a9411c70cebbf4f9": {
     "model_module": "@jupyter-widgets/controls",
     "model_module_version": "1.5.0",
     "model_name": "HBoxModel",
     "state": {
      "_dom_classes": [],
      "_model_module": "@jupyter-widgets/controls",
      "_model_module_version": "1.5.0",
      "_model_name": "HBoxModel",
      "_view_count": null,
      "_view_module": "@jupyter-widgets/controls",
      "_view_module_version": "1.5.0",
      "_view_name": "HBoxView",
      "box_style": "",
      "children": [
       "IPY_MODEL_b6a12b3798dc400db58b77acba283be8",
       "IPY_MODEL_19adefa79d34487fbf33914d1f1043ab",
       "IPY_MODEL_9662d1fec26c48e5a525059592b398a3"
      ],
      "layout": "IPY_MODEL_9df9a6e257f74c04862e2781551e272d"
     }
    },
    "9662d1fec26c48e5a525059592b398a3": {
     "model_module": "@jupyter-widgets/controls",
     "model_module_version": "1.5.0",
     "model_name": "HTMLModel",
     "state": {
      "_dom_classes": [],
      "_model_module": "@jupyter-widgets/controls",
      "_model_module_version": "1.5.0",
      "_model_name": "HTMLModel",
      "_view_count": null,
      "_view_module": "@jupyter-widgets/controls",
      "_view_module_version": "1.5.0",
      "_view_name": "HTMLView",
      "description": "",
      "description_tooltip": null,
      "layout": "IPY_MODEL_b16e6728dcdc473f817161d8254f9e5b",
      "placeholder": "​",
      "style": "IPY_MODEL_4fd4ece21a4146f9b3d27a3625208be2",
      "value": " 33.6M/33.6M [00:03&lt;00:00, 26.4MB/s]"
     }
    },
    "9ba9e6d306ab4337b06e6aebbcff7c20": {
     "model_module": "@jupyter-widgets/base",
     "model_module_version": "1.2.0",
     "model_name": "LayoutModel",
     "state": {
      "_model_module": "@jupyter-widgets/base",
      "_model_module_version": "1.2.0",
      "_model_name": "LayoutModel",
      "_view_count": null,
      "_view_module": "@jupyter-widgets/base",
      "_view_module_version": "1.2.0",
      "_view_name": "LayoutView",
      "align_content": null,
      "align_items": null,
      "align_self": null,
      "border": null,
      "bottom": null,
      "display": null,
      "flex": null,
      "flex_flow": null,
      "grid_area": null,
      "grid_auto_columns": null,
      "grid_auto_flow": null,
      "grid_auto_rows": null,
      "grid_column": null,
      "grid_gap": null,
      "grid_row": null,
      "grid_template_areas": null,
      "grid_template_columns": null,
      "grid_template_rows": null,
      "height": null,
      "justify_content": null,
      "justify_items": null,
      "left": null,
      "margin": null,
      "max_height": null,
      "max_width": null,
      "min_height": null,
      "min_width": null,
      "object_fit": null,
      "object_position": null,
      "order": null,
      "overflow": null,
      "overflow_x": null,
      "overflow_y": null,
      "padding": null,
      "right": null,
      "top": null,
      "visibility": null,
      "width": null
     }
    },
    "9df9a6e257f74c04862e2781551e272d": {
     "model_module": "@jupyter-widgets/base",
     "model_module_version": "1.2.0",
     "model_name": "LayoutModel",
     "state": {
      "_model_module": "@jupyter-widgets/base",
      "_model_module_version": "1.2.0",
      "_model_name": "LayoutModel",
      "_view_count": null,
      "_view_module": "@jupyter-widgets/base",
      "_view_module_version": "1.2.0",
      "_view_name": "LayoutView",
      "align_content": null,
      "align_items": null,
      "align_self": null,
      "border": null,
      "bottom": null,
      "display": null,
      "flex": null,
      "flex_flow": null,
      "grid_area": null,
      "grid_auto_columns": null,
      "grid_auto_flow": null,
      "grid_auto_rows": null,
      "grid_column": null,
      "grid_gap": null,
      "grid_row": null,
      "grid_template_areas": null,
      "grid_template_columns": null,
      "grid_template_rows": null,
      "height": null,
      "justify_content": null,
      "justify_items": null,
      "left": null,
      "margin": null,
      "max_height": null,
      "max_width": null,
      "min_height": null,
      "min_width": null,
      "object_fit": null,
      "object_position": null,
      "order": null,
      "overflow": null,
      "overflow_x": null,
      "overflow_y": null,
      "padding": null,
      "right": null,
      "top": null,
      "visibility": null,
      "width": null
     }
    },
    "abd62640ec4a415c8422e64bf8e47e9b": {
     "model_module": "@jupyter-widgets/controls",
     "model_module_version": "1.5.0",
     "model_name": "DescriptionStyleModel",
     "state": {
      "_model_module": "@jupyter-widgets/controls",
      "_model_module_version": "1.5.0",
      "_model_name": "DescriptionStyleModel",
      "_view_count": null,
      "_view_module": "@jupyter-widgets/base",
      "_view_module_version": "1.2.0",
      "_view_name": "StyleView",
      "description_width": ""
     }
    },
    "b16e6728dcdc473f817161d8254f9e5b": {
     "model_module": "@jupyter-widgets/base",
     "model_module_version": "1.2.0",
     "model_name": "LayoutModel",
     "state": {
      "_model_module": "@jupyter-widgets/base",
      "_model_module_version": "1.2.0",
      "_model_name": "LayoutModel",
      "_view_count": null,
      "_view_module": "@jupyter-widgets/base",
      "_view_module_version": "1.2.0",
      "_view_name": "LayoutView",
      "align_content": null,
      "align_items": null,
      "align_self": null,
      "border": null,
      "bottom": null,
      "display": null,
      "flex": null,
      "flex_flow": null,
      "grid_area": null,
      "grid_auto_columns": null,
      "grid_auto_flow": null,
      "grid_auto_rows": null,
      "grid_column": null,
      "grid_gap": null,
      "grid_row": null,
      "grid_template_areas": null,
      "grid_template_columns": null,
      "grid_template_rows": null,
      "height": null,
      "justify_content": null,
      "justify_items": null,
      "left": null,
      "margin": null,
      "max_height": null,
      "max_width": null,
      "min_height": null,
      "min_width": null,
      "object_fit": null,
      "object_position": null,
      "order": null,
      "overflow": null,
      "overflow_x": null,
      "overflow_y": null,
      "padding": null,
      "right": null,
      "top": null,
      "visibility": null,
      "width": null
     }
    },
    "b6a12b3798dc400db58b77acba283be8": {
     "model_module": "@jupyter-widgets/controls",
     "model_module_version": "1.5.0",
     "model_name": "HTMLModel",
     "state": {
      "_dom_classes": [],
      "_model_module": "@jupyter-widgets/controls",
      "_model_module_version": "1.5.0",
      "_model_name": "HTMLModel",
      "_view_count": null,
      "_view_module": "@jupyter-widgets/controls",
      "_view_module_version": "1.5.0",
      "_view_name": "HTMLView",
      "description": "",
      "description_tooltip": null,
      "layout": "IPY_MODEL_9ba9e6d306ab4337b06e6aebbcff7c20",
      "placeholder": "​",
      "style": "IPY_MODEL_abd62640ec4a415c8422e64bf8e47e9b",
      "value": "model.safetensors: 100%"
     }
    },
    "f952407ee3124f6c8ddaddb95c4ce3f0": {
     "model_module": "@jupyter-widgets/controls",
     "model_module_version": "1.5.0",
     "model_name": "ProgressStyleModel",
     "state": {
      "_model_module": "@jupyter-widgets/controls",
      "_model_module_version": "1.5.0",
      "_model_name": "ProgressStyleModel",
      "_view_count": null,
      "_view_module": "@jupyter-widgets/base",
      "_view_module_version": "1.2.0",
      "_view_name": "StyleView",
      "bar_color": null,
      "description_width": ""
     }
    }
   }
  }
 },
 "nbformat": 4,
 "nbformat_minor": 0
}
