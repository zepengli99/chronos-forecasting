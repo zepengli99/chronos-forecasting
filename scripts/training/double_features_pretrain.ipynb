{
  "cells": [
    {
      "cell_type": "code",
      "execution_count": null,
      "metadata": {
        "colab": {
          "base_uri": "https://localhost:8080/"
        },
        "id": "PxrLY_vNcL2b",
        "outputId": "cf64385c-ebdf-4b05-924b-9abbdac5325c"
      },
      "outputs": [
        {
          "name": "stdout",
          "output_type": "stream",
          "text": [
            "Mounted at /content/drive\n"
          ]
        }
      ],
      "source": [
        "from google.colab import drive\n",
        "drive.mount('/content/drive')"
      ]
    },
    {
      "cell_type": "code",
      "execution_count": null,
      "metadata": {
        "id": "3sj8pkwjcqLr"
      },
      "outputs": [],
      "source": [
        "import os\n",
        "os.chdir(\"/content/drive/MyDrive/Colab Notebooks/chronos-forecasting\")"
      ]
    },
    {
      "cell_type": "code",
      "execution_count": null,
      "metadata": {
        "colab": {
          "base_uri": "https://localhost:8080/"
        },
        "id": "wAka3y4xdHcj",
        "outputId": "6cf0f270-672b-4ef3-e28a-7c2241dd14e7"
      },
      "outputs": [
        {
          "name": "stdout",
          "output_type": "stream",
          "text": [
            "Collecting chronos-forecasting@ git+https://github.com/amazon-science/chronos-forecasting.git (from chronos-forecasting[training]@ git+https://github.com/amazon-science/chronos-forecasting.git)\n",
            "  Cloning https://github.com/amazon-science/chronos-forecasting.git to /tmp/pip-install-1rcback9/chronos-forecasting_2bbdf072bf8646f0814558e6fc051fad\n",
            "  Running command git clone --filter=blob:none --quiet https://github.com/amazon-science/chronos-forecasting.git /tmp/pip-install-1rcback9/chronos-forecasting_2bbdf072bf8646f0814558e6fc051fad\n",
            "  Resolved https://github.com/amazon-science/chronos-forecasting.git to commit 39515ff0fcdae55bbbf546d90193dbe54b201556\n",
            "  Installing build dependencies ... \u001b[?25l\u001b[?25hdone\n",
            "  Getting requirements to build wheel ... \u001b[?25l\u001b[?25hdone\n",
            "  Preparing metadata (pyproject.toml) ... \u001b[?25l\u001b[?25hdone\n",
            "Collecting accelerate<1,>=0.32 (from chronos-forecasting@ git+https://github.com/amazon-science/chronos-forecasting.git->chronos-forecasting[training]@ git+https://github.com/amazon-science/chronos-forecasting.git)\n",
            "  Downloading accelerate-0.34.2-py3-none-any.whl.metadata (19 kB)\n",
            "Requirement already satisfied: torch<2.6,>=2.0 in /usr/local/lib/python3.11/dist-packages (from chronos-forecasting@ git+https://github.com/amazon-science/chronos-forecasting.git->chronos-forecasting[training]@ git+https://github.com/amazon-science/chronos-forecasting.git) (2.5.1+cu121)\n",
            "Requirement already satisfied: transformers<4.48,>=4.30 in /usr/local/lib/python3.11/dist-packages (from chronos-forecasting@ git+https://github.com/amazon-science/chronos-forecasting.git->chronos-forecasting[training]@ git+https://github.com/amazon-science/chronos-forecasting.git) (4.47.1)\n",
            "Collecting datasets~=2.18 (from chronos-forecasting@ git+https://github.com/amazon-science/chronos-forecasting.git->chronos-forecasting[training]@ git+https://github.com/amazon-science/chronos-forecasting.git)\n",
            "  Downloading datasets-2.21.0-py3-none-any.whl.metadata (21 kB)\n",
            "Collecting gluonts~=0.15 (from gluonts[pro]~=0.15; extra == \"training\"->chronos-forecasting@ git+https://github.com/amazon-science/chronos-forecasting.git->chronos-forecasting[training]@ git+https://github.com/amazon-science/chronos-forecasting.git)\n",
            "  Downloading gluonts-0.16.0-py3-none-any.whl.metadata (9.8 kB)\n",
            "Requirement already satisfied: joblib in /usr/local/lib/python3.11/dist-packages (from chronos-forecasting@ git+https://github.com/amazon-science/chronos-forecasting.git->chronos-forecasting[training]@ git+https://github.com/amazon-science/chronos-forecasting.git) (1.4.2)\n",
            "Requirement already satisfied: numpy~=1.21 in /usr/local/lib/python3.11/dist-packages (from chronos-forecasting@ git+https://github.com/amazon-science/chronos-forecasting.git->chronos-forecasting[training]@ git+https://github.com/amazon-science/chronos-forecasting.git) (1.26.4)\n",
            "Requirement already satisfied: scikit-learn in /usr/local/lib/python3.11/dist-packages (from chronos-forecasting@ git+https://github.com/amazon-science/chronos-forecasting.git->chronos-forecasting[training]@ git+https://github.com/amazon-science/chronos-forecasting.git) (1.6.1)\n",
            "Requirement already satisfied: tensorboard in /usr/local/lib/python3.11/dist-packages (from chronos-forecasting@ git+https://github.com/amazon-science/chronos-forecasting.git->chronos-forecasting[training]@ git+https://github.com/amazon-science/chronos-forecasting.git) (2.17.1)\n",
            "Requirement already satisfied: typer in /usr/local/lib/python3.11/dist-packages (from chronos-forecasting@ git+https://github.com/amazon-science/chronos-forecasting.git->chronos-forecasting[training]@ git+https://github.com/amazon-science/chronos-forecasting.git) (0.15.1)\n",
            "Collecting typer-config (from chronos-forecasting@ git+https://github.com/amazon-science/chronos-forecasting.git->chronos-forecasting[training]@ git+https://github.com/amazon-science/chronos-forecasting.git)\n",
            "  Downloading typer_config-1.4.2-py3-none-any.whl.metadata (4.3 kB)\n",
            "Requirement already satisfied: packaging>=20.0 in /usr/local/lib/python3.11/dist-packages (from accelerate<1,>=0.32->chronos-forecasting@ git+https://github.com/amazon-science/chronos-forecasting.git->chronos-forecasting[training]@ git+https://github.com/amazon-science/chronos-forecasting.git) (24.2)\n",
            "Requirement already satisfied: psutil in /usr/local/lib/python3.11/dist-packages (from accelerate<1,>=0.32->chronos-forecasting@ git+https://github.com/amazon-science/chronos-forecasting.git->chronos-forecasting[training]@ git+https://github.com/amazon-science/chronos-forecasting.git) (5.9.5)\n",
            "Requirement already satisfied: pyyaml in /usr/local/lib/python3.11/dist-packages (from accelerate<1,>=0.32->chronos-forecasting@ git+https://github.com/amazon-science/chronos-forecasting.git->chronos-forecasting[training]@ git+https://github.com/amazon-science/chronos-forecasting.git) (6.0.2)\n",
            "Requirement already satisfied: huggingface-hub>=0.21.0 in /usr/local/lib/python3.11/dist-packages (from accelerate<1,>=0.32->chronos-forecasting@ git+https://github.com/amazon-science/chronos-forecasting.git->chronos-forecasting[training]@ git+https://github.com/amazon-science/chronos-forecasting.git) (0.27.1)\n",
            "Requirement already satisfied: safetensors>=0.4.3 in /usr/local/lib/python3.11/dist-packages (from accelerate<1,>=0.32->chronos-forecasting@ git+https://github.com/amazon-science/chronos-forecasting.git->chronos-forecasting[training]@ git+https://github.com/amazon-science/chronos-forecasting.git) (0.5.2)\n",
            "Requirement already satisfied: filelock in /usr/local/lib/python3.11/dist-packages (from datasets~=2.18->chronos-forecasting@ git+https://github.com/amazon-science/chronos-forecasting.git->chronos-forecasting[training]@ git+https://github.com/amazon-science/chronos-forecasting.git) (3.17.0)\n",
            "Requirement already satisfied: pyarrow>=15.0.0 in /usr/local/lib/python3.11/dist-packages (from datasets~=2.18->chronos-forecasting@ git+https://github.com/amazon-science/chronos-forecasting.git->chronos-forecasting[training]@ git+https://github.com/amazon-science/chronos-forecasting.git) (17.0.0)\n",
            "Collecting dill<0.3.9,>=0.3.0 (from datasets~=2.18->chronos-forecasting@ git+https://github.com/amazon-science/chronos-forecasting.git->chronos-forecasting[training]@ git+https://github.com/amazon-science/chronos-forecasting.git)\n",
            "  Downloading dill-0.3.8-py3-none-any.whl.metadata (10 kB)\n",
            "Requirement already satisfied: pandas in /usr/local/lib/python3.11/dist-packages (from datasets~=2.18->chronos-forecasting@ git+https://github.com/amazon-science/chronos-forecasting.git->chronos-forecasting[training]@ git+https://github.com/amazon-science/chronos-forecasting.git) (2.2.2)\n",
            "Requirement already satisfied: requests>=2.32.2 in /usr/local/lib/python3.11/dist-packages (from datasets~=2.18->chronos-forecasting@ git+https://github.com/amazon-science/chronos-forecasting.git->chronos-forecasting[training]@ git+https://github.com/amazon-science/chronos-forecasting.git) (2.32.3)\n",
            "Requirement already satisfied: tqdm>=4.66.3 in /usr/local/lib/python3.11/dist-packages (from datasets~=2.18->chronos-forecasting@ git+https://github.com/amazon-science/chronos-forecasting.git->chronos-forecasting[training]@ git+https://github.com/amazon-science/chronos-forecasting.git) (4.67.1)\n",
            "Collecting xxhash (from datasets~=2.18->chronos-forecasting@ git+https://github.com/amazon-science/chronos-forecasting.git->chronos-forecasting[training]@ git+https://github.com/amazon-science/chronos-forecasting.git)\n",
            "  Downloading xxhash-3.5.0-cp311-cp311-manylinux_2_17_x86_64.manylinux2014_x86_64.whl.metadata (12 kB)\n",
            "Collecting multiprocess (from datasets~=2.18->chronos-forecasting@ git+https://github.com/amazon-science/chronos-forecasting.git->chronos-forecasting[training]@ git+https://github.com/amazon-science/chronos-forecasting.git)\n",
            "  Downloading multiprocess-0.70.17-py311-none-any.whl.metadata (7.2 kB)\n",
            "Collecting fsspec<=2024.6.1,>=2023.1.0 (from fsspec[http]<=2024.6.1,>=2023.1.0->datasets~=2.18->chronos-forecasting@ git+https://github.com/amazon-science/chronos-forecasting.git->chronos-forecasting[training]@ git+https://github.com/amazon-science/chronos-forecasting.git)\n",
            "  Downloading fsspec-2024.6.1-py3-none-any.whl.metadata (11 kB)\n",
            "Requirement already satisfied: aiohttp in /usr/local/lib/python3.11/dist-packages (from datasets~=2.18->chronos-forecasting@ git+https://github.com/amazon-science/chronos-forecasting.git->chronos-forecasting[training]@ git+https://github.com/amazon-science/chronos-forecasting.git) (3.11.11)\n",
            "Requirement already satisfied: pydantic<3,>=1.7 in /usr/local/lib/python3.11/dist-packages (from gluonts~=0.15->gluonts[pro]~=0.15; extra == \"training\"->chronos-forecasting@ git+https://github.com/amazon-science/chronos-forecasting.git->chronos-forecasting[training]@ git+https://github.com/amazon-science/chronos-forecasting.git) (2.10.5)\n",
            "Requirement already satisfied: toolz~=0.10 in /usr/local/lib/python3.11/dist-packages (from gluonts~=0.15->gluonts[pro]~=0.15; extra == \"training\"->chronos-forecasting@ git+https://github.com/amazon-science/chronos-forecasting.git->chronos-forecasting[training]@ git+https://github.com/amazon-science/chronos-forecasting.git) (0.12.1)\n",
            "Requirement already satisfied: typing-extensions~=4.0 in /usr/local/lib/python3.11/dist-packages (from gluonts~=0.15->gluonts[pro]~=0.15; extra == \"training\"->chronos-forecasting@ git+https://github.com/amazon-science/chronos-forecasting.git->chronos-forecasting[training]@ git+https://github.com/amazon-science/chronos-forecasting.git) (4.12.2)\n",
            "Requirement already satisfied: orjson in /usr/local/lib/python3.11/dist-packages (from gluonts[pro]~=0.15; extra == \"training\"->chronos-forecasting@ git+https://github.com/amazon-science/chronos-forecasting.git->chronos-forecasting[training]@ git+https://github.com/amazon-science/chronos-forecasting.git) (3.10.15)\n",
            "Requirement already satisfied: networkx in /usr/local/lib/python3.11/dist-packages (from torch<2.6,>=2.0->chronos-forecasting@ git+https://github.com/amazon-science/chronos-forecasting.git->chronos-forecasting[training]@ git+https://github.com/amazon-science/chronos-forecasting.git) (3.4.2)\n",
            "Requirement already satisfied: jinja2 in /usr/local/lib/python3.11/dist-packages (from torch<2.6,>=2.0->chronos-forecasting@ git+https://github.com/amazon-science/chronos-forecasting.git->chronos-forecasting[training]@ git+https://github.com/amazon-science/chronos-forecasting.git) (3.1.5)\n",
            "Requirement already satisfied: nvidia-cuda-nvrtc-cu12==12.1.105 in /usr/local/lib/python3.11/dist-packages (from torch<2.6,>=2.0->chronos-forecasting@ git+https://github.com/amazon-science/chronos-forecasting.git->chronos-forecasting[training]@ git+https://github.com/amazon-science/chronos-forecasting.git) (12.1.105)\n",
            "Requirement already satisfied: nvidia-cuda-runtime-cu12==12.1.105 in /usr/local/lib/python3.11/dist-packages (from torch<2.6,>=2.0->chronos-forecasting@ git+https://github.com/amazon-science/chronos-forecasting.git->chronos-forecasting[training]@ git+https://github.com/amazon-science/chronos-forecasting.git) (12.1.105)\n",
            "Requirement already satisfied: nvidia-cuda-cupti-cu12==12.1.105 in /usr/local/lib/python3.11/dist-packages (from torch<2.6,>=2.0->chronos-forecasting@ git+https://github.com/amazon-science/chronos-forecasting.git->chronos-forecasting[training]@ git+https://github.com/amazon-science/chronos-forecasting.git) (12.1.105)\n",
            "Requirement already satisfied: nvidia-cudnn-cu12==9.1.0.70 in /usr/local/lib/python3.11/dist-packages (from torch<2.6,>=2.0->chronos-forecasting@ git+https://github.com/amazon-science/chronos-forecasting.git->chronos-forecasting[training]@ git+https://github.com/amazon-science/chronos-forecasting.git) (9.1.0.70)\n",
            "Requirement already satisfied: nvidia-cublas-cu12==12.1.3.1 in /usr/local/lib/python3.11/dist-packages (from torch<2.6,>=2.0->chronos-forecasting@ git+https://github.com/amazon-science/chronos-forecasting.git->chronos-forecasting[training]@ git+https://github.com/amazon-science/chronos-forecasting.git) (12.1.3.1)\n",
            "Requirement already satisfied: nvidia-cufft-cu12==11.0.2.54 in /usr/local/lib/python3.11/dist-packages (from torch<2.6,>=2.0->chronos-forecasting@ git+https://github.com/amazon-science/chronos-forecasting.git->chronos-forecasting[training]@ git+https://github.com/amazon-science/chronos-forecasting.git) (11.0.2.54)\n",
            "Requirement already satisfied: nvidia-curand-cu12==10.3.2.106 in /usr/local/lib/python3.11/dist-packages (from torch<2.6,>=2.0->chronos-forecasting@ git+https://github.com/amazon-science/chronos-forecasting.git->chronos-forecasting[training]@ git+https://github.com/amazon-science/chronos-forecasting.git) (10.3.2.106)\n",
            "Requirement already satisfied: nvidia-cusolver-cu12==11.4.5.107 in /usr/local/lib/python3.11/dist-packages (from torch<2.6,>=2.0->chronos-forecasting@ git+https://github.com/amazon-science/chronos-forecasting.git->chronos-forecasting[training]@ git+https://github.com/amazon-science/chronos-forecasting.git) (11.4.5.107)\n",
            "Requirement already satisfied: nvidia-cusparse-cu12==12.1.0.106 in /usr/local/lib/python3.11/dist-packages (from torch<2.6,>=2.0->chronos-forecasting@ git+https://github.com/amazon-science/chronos-forecasting.git->chronos-forecasting[training]@ git+https://github.com/amazon-science/chronos-forecasting.git) (12.1.0.106)\n",
            "Requirement already satisfied: nvidia-nccl-cu12==2.21.5 in /usr/local/lib/python3.11/dist-packages (from torch<2.6,>=2.0->chronos-forecasting@ git+https://github.com/amazon-science/chronos-forecasting.git->chronos-forecasting[training]@ git+https://github.com/amazon-science/chronos-forecasting.git) (2.21.5)\n",
            "Requirement already satisfied: nvidia-nvtx-cu12==12.1.105 in /usr/local/lib/python3.11/dist-packages (from torch<2.6,>=2.0->chronos-forecasting@ git+https://github.com/amazon-science/chronos-forecasting.git->chronos-forecasting[training]@ git+https://github.com/amazon-science/chronos-forecasting.git) (12.1.105)\n",
            "Requirement already satisfied: triton==3.1.0 in /usr/local/lib/python3.11/dist-packages (from torch<2.6,>=2.0->chronos-forecasting@ git+https://github.com/amazon-science/chronos-forecasting.git->chronos-forecasting[training]@ git+https://github.com/amazon-science/chronos-forecasting.git) (3.1.0)\n",
            "Requirement already satisfied: sympy==1.13.1 in /usr/local/lib/python3.11/dist-packages (from torch<2.6,>=2.0->chronos-forecasting@ git+https://github.com/amazon-science/chronos-forecasting.git->chronos-forecasting[training]@ git+https://github.com/amazon-science/chronos-forecasting.git) (1.13.1)\n",
            "Requirement already satisfied: nvidia-nvjitlink-cu12 in /usr/local/lib/python3.11/dist-packages (from nvidia-cusolver-cu12==11.4.5.107->torch<2.6,>=2.0->chronos-forecasting@ git+https://github.com/amazon-science/chronos-forecasting.git->chronos-forecasting[training]@ git+https://github.com/amazon-science/chronos-forecasting.git) (12.6.85)\n",
            "Requirement already satisfied: mpmath<1.4,>=1.1.0 in /usr/local/lib/python3.11/dist-packages (from sympy==1.13.1->torch<2.6,>=2.0->chronos-forecasting@ git+https://github.com/amazon-science/chronos-forecasting.git->chronos-forecasting[training]@ git+https://github.com/amazon-science/chronos-forecasting.git) (1.3.0)\n",
            "Requirement already satisfied: regex!=2019.12.17 in /usr/local/lib/python3.11/dist-packages (from transformers<4.48,>=4.30->chronos-forecasting@ git+https://github.com/amazon-science/chronos-forecasting.git->chronos-forecasting[training]@ git+https://github.com/amazon-science/chronos-forecasting.git) (2024.11.6)\n",
            "Requirement already satisfied: tokenizers<0.22,>=0.21 in /usr/local/lib/python3.11/dist-packages (from transformers<4.48,>=4.30->chronos-forecasting@ git+https://github.com/amazon-science/chronos-forecasting.git->chronos-forecasting[training]@ git+https://github.com/amazon-science/chronos-forecasting.git) (0.21.0)\n",
            "Requirement already satisfied: scipy>=1.6.0 in /usr/local/lib/python3.11/dist-packages (from scikit-learn->chronos-forecasting@ git+https://github.com/amazon-science/chronos-forecasting.git->chronos-forecasting[training]@ git+https://github.com/amazon-science/chronos-forecasting.git) (1.13.1)\n",
            "Requirement already satisfied: threadpoolctl>=3.1.0 in /usr/local/lib/python3.11/dist-packages (from scikit-learn->chronos-forecasting@ git+https://github.com/amazon-science/chronos-forecasting.git->chronos-forecasting[training]@ git+https://github.com/amazon-science/chronos-forecasting.git) (3.5.0)\n",
            "Requirement already satisfied: absl-py>=0.4 in /usr/local/lib/python3.11/dist-packages (from tensorboard->chronos-forecasting@ git+https://github.com/amazon-science/chronos-forecasting.git->chronos-forecasting[training]@ git+https://github.com/amazon-science/chronos-forecasting.git) (1.4.0)\n",
            "Requirement already satisfied: grpcio>=1.48.2 in /usr/local/lib/python3.11/dist-packages (from tensorboard->chronos-forecasting@ git+https://github.com/amazon-science/chronos-forecasting.git->chronos-forecasting[training]@ git+https://github.com/amazon-science/chronos-forecasting.git) (1.69.0)\n",
            "Requirement already satisfied: markdown>=2.6.8 in /usr/local/lib/python3.11/dist-packages (from tensorboard->chronos-forecasting@ git+https://github.com/amazon-science/chronos-forecasting.git->chronos-forecasting[training]@ git+https://github.com/amazon-science/chronos-forecasting.git) (3.7)\n",
            "Requirement already satisfied: protobuf!=4.24.0,>=3.19.6 in /usr/local/lib/python3.11/dist-packages (from tensorboard->chronos-forecasting@ git+https://github.com/amazon-science/chronos-forecasting.git->chronos-forecasting[training]@ git+https://github.com/amazon-science/chronos-forecasting.git) (4.25.5)\n",
            "Requirement already satisfied: setuptools>=41.0.0 in /usr/local/lib/python3.11/dist-packages (from tensorboard->chronos-forecasting@ git+https://github.com/amazon-science/chronos-forecasting.git->chronos-forecasting[training]@ git+https://github.com/amazon-science/chronos-forecasting.git) (75.1.0)\n",
            "Requirement already satisfied: six>1.9 in /usr/local/lib/python3.11/dist-packages (from tensorboard->chronos-forecasting@ git+https://github.com/amazon-science/chronos-forecasting.git->chronos-forecasting[training]@ git+https://github.com/amazon-science/chronos-forecasting.git) (1.17.0)\n",
            "Requirement already satisfied: tensorboard-data-server<0.8.0,>=0.7.0 in /usr/local/lib/python3.11/dist-packages (from tensorboard->chronos-forecasting@ git+https://github.com/amazon-science/chronos-forecasting.git->chronos-forecasting[training]@ git+https://github.com/amazon-science/chronos-forecasting.git) (0.7.2)\n",
            "Requirement already satisfied: werkzeug>=1.0.1 in /usr/local/lib/python3.11/dist-packages (from tensorboard->chronos-forecasting@ git+https://github.com/amazon-science/chronos-forecasting.git->chronos-forecasting[training]@ git+https://github.com/amazon-science/chronos-forecasting.git) (3.1.3)\n",
            "Requirement already satisfied: click>=8.0.0 in /usr/local/lib/python3.11/dist-packages (from typer->chronos-forecasting@ git+https://github.com/amazon-science/chronos-forecasting.git->chronos-forecasting[training]@ git+https://github.com/amazon-science/chronos-forecasting.git) (8.1.8)\n",
            "Requirement already satisfied: shellingham>=1.3.0 in /usr/local/lib/python3.11/dist-packages (from typer->chronos-forecasting@ git+https://github.com/amazon-science/chronos-forecasting.git->chronos-forecasting[training]@ git+https://github.com/amazon-science/chronos-forecasting.git) (1.5.4)\n",
            "Requirement already satisfied: rich>=10.11.0 in /usr/local/lib/python3.11/dist-packages (from typer->chronos-forecasting@ git+https://github.com/amazon-science/chronos-forecasting.git->chronos-forecasting[training]@ git+https://github.com/amazon-science/chronos-forecasting.git) (13.9.4)\n",
            "Requirement already satisfied: aiohappyeyeballs>=2.3.0 in /usr/local/lib/python3.11/dist-packages (from aiohttp->datasets~=2.18->chronos-forecasting@ git+https://github.com/amazon-science/chronos-forecasting.git->chronos-forecasting[training]@ git+https://github.com/amazon-science/chronos-forecasting.git) (2.4.4)\n",
            "Requirement already satisfied: aiosignal>=1.1.2 in /usr/local/lib/python3.11/dist-packages (from aiohttp->datasets~=2.18->chronos-forecasting@ git+https://github.com/amazon-science/chronos-forecasting.git->chronos-forecasting[training]@ git+https://github.com/amazon-science/chronos-forecasting.git) (1.3.2)\n",
            "Requirement already satisfied: attrs>=17.3.0 in /usr/local/lib/python3.11/dist-packages (from aiohttp->datasets~=2.18->chronos-forecasting@ git+https://github.com/amazon-science/chronos-forecasting.git->chronos-forecasting[training]@ git+https://github.com/amazon-science/chronos-forecasting.git) (24.3.0)\n",
            "Requirement already satisfied: frozenlist>=1.1.1 in /usr/local/lib/python3.11/dist-packages (from aiohttp->datasets~=2.18->chronos-forecasting@ git+https://github.com/amazon-science/chronos-forecasting.git->chronos-forecasting[training]@ git+https://github.com/amazon-science/chronos-forecasting.git) (1.5.0)\n",
            "Requirement already satisfied: multidict<7.0,>=4.5 in /usr/local/lib/python3.11/dist-packages (from aiohttp->datasets~=2.18->chronos-forecasting@ git+https://github.com/amazon-science/chronos-forecasting.git->chronos-forecasting[training]@ git+https://github.com/amazon-science/chronos-forecasting.git) (6.1.0)\n",
            "Requirement already satisfied: propcache>=0.2.0 in /usr/local/lib/python3.11/dist-packages (from aiohttp->datasets~=2.18->chronos-forecasting@ git+https://github.com/amazon-science/chronos-forecasting.git->chronos-forecasting[training]@ git+https://github.com/amazon-science/chronos-forecasting.git) (0.2.1)\n",
            "Requirement already satisfied: yarl<2.0,>=1.17.0 in /usr/local/lib/python3.11/dist-packages (from aiohttp->datasets~=2.18->chronos-forecasting@ git+https://github.com/amazon-science/chronos-forecasting.git->chronos-forecasting[training]@ git+https://github.com/amazon-science/chronos-forecasting.git) (1.18.3)\n",
            "Requirement already satisfied: python-dateutil>=2.8.2 in /usr/local/lib/python3.11/dist-packages (from pandas->datasets~=2.18->chronos-forecasting@ git+https://github.com/amazon-science/chronos-forecasting.git->chronos-forecasting[training]@ git+https://github.com/amazon-science/chronos-forecasting.git) (2.8.2)\n",
            "Requirement already satisfied: pytz>=2020.1 in /usr/local/lib/python3.11/dist-packages (from pandas->datasets~=2.18->chronos-forecasting@ git+https://github.com/amazon-science/chronos-forecasting.git->chronos-forecasting[training]@ git+https://github.com/amazon-science/chronos-forecasting.git) (2024.2)\n",
            "Requirement already satisfied: tzdata>=2022.7 in /usr/local/lib/python3.11/dist-packages (from pandas->datasets~=2.18->chronos-forecasting@ git+https://github.com/amazon-science/chronos-forecasting.git->chronos-forecasting[training]@ git+https://github.com/amazon-science/chronos-forecasting.git) (2025.1)\n",
            "Requirement already satisfied: annotated-types>=0.6.0 in /usr/local/lib/python3.11/dist-packages (from pydantic<3,>=1.7->gluonts~=0.15->gluonts[pro]~=0.15; extra == \"training\"->chronos-forecasting@ git+https://github.com/amazon-science/chronos-forecasting.git->chronos-forecasting[training]@ git+https://github.com/amazon-science/chronos-forecasting.git) (0.7.0)\n",
            "Requirement already satisfied: pydantic-core==2.27.2 in /usr/local/lib/python3.11/dist-packages (from pydantic<3,>=1.7->gluonts~=0.15->gluonts[pro]~=0.15; extra == \"training\"->chronos-forecasting@ git+https://github.com/amazon-science/chronos-forecasting.git->chronos-forecasting[training]@ git+https://github.com/amazon-science/chronos-forecasting.git) (2.27.2)\n",
            "Requirement already satisfied: charset-normalizer<4,>=2 in /usr/local/lib/python3.11/dist-packages (from requests>=2.32.2->datasets~=2.18->chronos-forecasting@ git+https://github.com/amazon-science/chronos-forecasting.git->chronos-forecasting[training]@ git+https://github.com/amazon-science/chronos-forecasting.git) (3.4.1)\n",
            "Requirement already satisfied: idna<4,>=2.5 in /usr/local/lib/python3.11/dist-packages (from requests>=2.32.2->datasets~=2.18->chronos-forecasting@ git+https://github.com/amazon-science/chronos-forecasting.git->chronos-forecasting[training]@ git+https://github.com/amazon-science/chronos-forecasting.git) (3.10)\n",
            "Requirement already satisfied: urllib3<3,>=1.21.1 in /usr/local/lib/python3.11/dist-packages (from requests>=2.32.2->datasets~=2.18->chronos-forecasting@ git+https://github.com/amazon-science/chronos-forecasting.git->chronos-forecasting[training]@ git+https://github.com/amazon-science/chronos-forecasting.git) (2.3.0)\n",
            "Requirement already satisfied: certifi>=2017.4.17 in /usr/local/lib/python3.11/dist-packages (from requests>=2.32.2->datasets~=2.18->chronos-forecasting@ git+https://github.com/amazon-science/chronos-forecasting.git->chronos-forecasting[training]@ git+https://github.com/amazon-science/chronos-forecasting.git) (2024.12.14)\n",
            "Requirement already satisfied: markdown-it-py>=2.2.0 in /usr/local/lib/python3.11/dist-packages (from rich>=10.11.0->typer->chronos-forecasting@ git+https://github.com/amazon-science/chronos-forecasting.git->chronos-forecasting[training]@ git+https://github.com/amazon-science/chronos-forecasting.git) (3.0.0)\n",
            "Requirement already satisfied: pygments<3.0.0,>=2.13.0 in /usr/local/lib/python3.11/dist-packages (from rich>=10.11.0->typer->chronos-forecasting@ git+https://github.com/amazon-science/chronos-forecasting.git->chronos-forecasting[training]@ git+https://github.com/amazon-science/chronos-forecasting.git) (2.18.0)\n",
            "Requirement already satisfied: MarkupSafe>=2.1.1 in /usr/local/lib/python3.11/dist-packages (from werkzeug>=1.0.1->tensorboard->chronos-forecasting@ git+https://github.com/amazon-science/chronos-forecasting.git->chronos-forecasting[training]@ git+https://github.com/amazon-science/chronos-forecasting.git) (3.0.2)\n",
            "INFO: pip is looking at multiple versions of multiprocess to determine which version is compatible with other requirements. This could take a while.\n",
            "Collecting multiprocess (from datasets~=2.18->chronos-forecasting@ git+https://github.com/amazon-science/chronos-forecasting.git->chronos-forecasting[training]@ git+https://github.com/amazon-science/chronos-forecasting.git)\n",
            "  Downloading multiprocess-0.70.16-py311-none-any.whl.metadata (7.2 kB)\n",
            "Requirement already satisfied: mdurl~=0.1 in /usr/local/lib/python3.11/dist-packages (from markdown-it-py>=2.2.0->rich>=10.11.0->typer->chronos-forecasting@ git+https://github.com/amazon-science/chronos-forecasting.git->chronos-forecasting[training]@ git+https://github.com/amazon-science/chronos-forecasting.git) (0.1.2)\n",
            "Downloading accelerate-0.34.2-py3-none-any.whl (324 kB)\n",
            "\u001b[2K   \u001b[90m━━━━━━━━━━━━━━━━━━━━━━━━━━━━━━━━━━━━━━━━\u001b[0m \u001b[32m324.4/324.4 kB\u001b[0m \u001b[31m10.3 MB/s\u001b[0m eta \u001b[36m0:00:00\u001b[0m\n",
            "\u001b[?25hDownloading datasets-2.21.0-py3-none-any.whl (527 kB)\n",
            "\u001b[2K   \u001b[90m━━━━━━━━━━━━━━━━━━━━━━━━━━━━━━━━━━━━━━━━\u001b[0m \u001b[32m527.3/527.3 kB\u001b[0m \u001b[31m28.6 MB/s\u001b[0m eta \u001b[36m0:00:00\u001b[0m\n",
            "\u001b[?25hDownloading gluonts-0.16.0-py3-none-any.whl (1.5 MB)\n",
            "\u001b[2K   \u001b[90m━━━━━━━━━━━━━━━━━━━━━━━━━━━━━━━━━━━━━━━━\u001b[0m \u001b[32m1.5/1.5 MB\u001b[0m \u001b[31m56.8 MB/s\u001b[0m eta \u001b[36m0:00:00\u001b[0m\n",
            "\u001b[?25hDownloading typer_config-1.4.2-py3-none-any.whl (11 kB)\n",
            "Downloading dill-0.3.8-py3-none-any.whl (116 kB)\n",
            "\u001b[2K   \u001b[90m━━━━━━━━━━━━━━━━━━━━━━━━━━━━━━━━━━━━━━━━\u001b[0m \u001b[32m116.3/116.3 kB\u001b[0m \u001b[31m8.5 MB/s\u001b[0m eta \u001b[36m0:00:00\u001b[0m\n",
            "\u001b[?25hDownloading fsspec-2024.6.1-py3-none-any.whl (177 kB)\n",
            "\u001b[2K   \u001b[90m━━━━━━━━━━━━━━━━━━━━━━━━━━━━━━━━━━━━━━━━\u001b[0m \u001b[32m177.6/177.6 kB\u001b[0m \u001b[31m14.9 MB/s\u001b[0m eta \u001b[36m0:00:00\u001b[0m\n",
            "\u001b[?25hDownloading multiprocess-0.70.16-py311-none-any.whl (143 kB)\n",
            "\u001b[2K   \u001b[90m━━━━━━━━━━━━━━━━━━━━━━━━━━━━━━━━━━━━━━━━\u001b[0m \u001b[32m143.5/143.5 kB\u001b[0m \u001b[31m12.4 MB/s\u001b[0m eta \u001b[36m0:00:00\u001b[0m\n",
            "\u001b[?25hDownloading xxhash-3.5.0-cp311-cp311-manylinux_2_17_x86_64.manylinux2014_x86_64.whl (194 kB)\n",
            "\u001b[2K   \u001b[90m━━━━━━━━━━━━━━━━━━━━━━━━━━━━━━━━━━━━━━━━\u001b[0m \u001b[32m194.8/194.8 kB\u001b[0m \u001b[31m14.6 MB/s\u001b[0m eta \u001b[36m0:00:00\u001b[0m\n",
            "\u001b[?25hBuilding wheels for collected packages: chronos-forecasting\n",
            "  Building wheel for chronos-forecasting (pyproject.toml) ... \u001b[?25l\u001b[?25hdone\n",
            "  Created wheel for chronos-forecasting: filename=chronos_forecasting-1.4.1-py3-none-any.whl size=29154 sha256=0ddca36d3ab7c326aa669577503c52cb129ae029cab17162867aeeda02cdaa08\n",
            "  Stored in directory: /tmp/pip-ephem-wheel-cache-sa048h40/wheels/ba/7f/47/c8e535215a6b02669af6db36392beef76752951c59bf8b5e74\n",
            "Successfully built chronos-forecasting\n",
            "Installing collected packages: xxhash, fsspec, dill, multiprocess, gluonts, typer-config, datasets, accelerate, chronos-forecasting\n",
            "  Attempting uninstall: fsspec\n",
            "    Found existing installation: fsspec 2024.10.0\n",
            "    Uninstalling fsspec-2024.10.0:\n",
            "      Successfully uninstalled fsspec-2024.10.0\n",
            "  Attempting uninstall: accelerate\n",
            "    Found existing installation: accelerate 1.2.1\n",
            "    Uninstalling accelerate-1.2.1:\n",
            "      Successfully uninstalled accelerate-1.2.1\n",
            "\u001b[31mERROR: pip's dependency resolver does not currently take into account all the packages that are installed. This behaviour is the source of the following dependency conflicts.\n",
            "gcsfs 2024.10.0 requires fsspec==2024.10.0, but you have fsspec 2024.6.1 which is incompatible.\u001b[0m\u001b[31m\n",
            "\u001b[0mSuccessfully installed accelerate-0.34.2 chronos-forecasting-1.4.1 datasets-2.21.0 dill-0.3.8 fsspec-2024.6.1 gluonts-0.16.0 multiprocess-0.70.16 typer-config-1.4.2 xxhash-3.5.0\n"
          ]
        }
      ],
      "source": [
        "! pip install \"chronos-forecasting[training] @ git+https://github.com/amazon-science/chronos-forecasting.git\""
      ]
    },
    {
      "cell_type": "code",
      "execution_count": null,
      "metadata": {
        "colab": {
          "base_uri": "https://localhost:8080/"
        },
        "id": "uUMZtRL0d5bP",
        "outputId": "d9deb405-db3e-4740-af50-a7ecf97d6a77"
      },
      "outputs": [
        {
          "name": "stdout",
          "output_type": "stream",
          "text": [
            "/content/drive/MyDrive/Colab Notebooks/chronos-forecasting\n"
          ]
        }
      ],
      "source": [
        "! pwd"
      ]
    },
    {
      "cell_type": "code",
      "execution_count": null,
      "metadata": {
        "colab": {
          "base_uri": "https://localhost:8080/"
        },
        "id": "hLeR9vlhdzSr",
        "outputId": "542e7d0d-9738-420c-e90f-0601208cc258"
      },
      "outputs": [
        {
          "name": "stdout",
          "output_type": "stream",
          "text": [
            "python3: can't open file '/content/scripts/training/train.py': [Errno 2] No such file or directory\n"
          ]
        }
      ],
      "source": [
        "! CUDA_VISIBLE_DEVICES=0 python scripts/training/train.py --config scripts/training/configs/chronos_domain_adp.yaml"
      ]
    },
    {
      "cell_type": "markdown",
      "metadata": {},
      "source": [
        "lh: low + high"
      ]
    },
    {
      "cell_type": "code",
      "execution_count": null,
      "metadata": {
        "colab": {
          "base_uri": "https://localhost:8080/"
        },
        "id": "UfUaYDitssHg",
        "outputId": "d799884e-981f-46d3-9c15-7ad4dbbdfeca"
      },
      "outputs": [
        {
          "name": "stdout",
          "output_type": "stream",
          "text": [
            "2025-01-26 22:20:25.882889: E external/local_xla/xla/stream_executor/cuda/cuda_fft.cc:485] Unable to register cuFFT factory: Attempting to register factory for plugin cuFFT when one has already been registered\n",
            "2025-01-26 22:20:25.902974: E external/local_xla/xla/stream_executor/cuda/cuda_dnn.cc:8454] Unable to register cuDNN factory: Attempting to register factory for plugin cuDNN when one has already been registered\n",
            "2025-01-26 22:20:25.908843: E external/local_xla/xla/stream_executor/cuda/cuda_blas.cc:1452] Unable to register cuBLAS factory: Attempting to register factory for plugin cuBLAS when one has already been registered\n",
            "2025-01-26 22:20:25.923168: I tensorflow/core/platform/cpu_feature_guard.cc:210] This TensorFlow binary is optimized to use available CPU instructions in performance-critical operations.\n",
            "To enable the following instructions: AVX2 AVX512F FMA, in other operations, rebuild TensorFlow with the appropriate compiler flags.\n",
            "2025-01-26 22:20:27.104183: W tensorflow/compiler/tf2tensorrt/utils/py_utils.cc:38] TF-TRT Warning: Could not find TensorRT\n",
            "2025-01-26 22:20:30,496 - /content/drive/MyDrive/Colab Notebooks/chronos-forecasting/scripts/training/train.py - INFO - TF32 format is only available on devices with compute capability >= 8. Setting tf32 to False.\n",
            "2025-01-26 22:20:30,496 - /content/drive/MyDrive/Colab Notebooks/chronos-forecasting/scripts/training/train.py - INFO - Using SEED: 2475977139\n",
            "2025-01-26 22:20:30,504 - /content/drive/MyDrive/Colab Notebooks/chronos-forecasting/scripts/training/train.py - INFO - Logging dir: output/run-1\n",
            "2025-01-26 22:20:30,504 - /content/drive/MyDrive/Colab Notebooks/chronos-forecasting/scripts/training/train.py - INFO - Loading and filtering 1 datasets for training: ['./data/bitcoin-highlow-train.arrow']\n",
            "2025-01-26 22:20:30,504 - /content/drive/MyDrive/Colab Notebooks/chronos-forecasting/scripts/training/train.py - INFO - Mixing probabilities: [0.1]\n",
            "2025-01-26 22:20:31,538 - /content/drive/MyDrive/Colab Notebooks/chronos-forecasting/scripts/training/train.py - INFO - Initializing model\n",
            "2025-01-26 22:20:31,538 - /content/drive/MyDrive/Colab Notebooks/chronos-forecasting/scripts/training/train.py - INFO - Using pretrained initialization from amazon/chronos-t5-small\n",
            "config.json: 100% 1.11k/1.11k [00:00<00:00, 8.35MB/s]\n",
            "model.safetensors: 100% 185M/185M [00:04<00:00, 42.2MB/s]\n",
            "generation_config.json: 100% 142/142 [00:00<00:00, 1.10MB/s]\n",
            "The speedups for torchdynamo mostly come wih GPU Ampere or higher and which is not detected here.\n",
            "2025-01-26 22:20:37,460 - /content/drive/MyDrive/Colab Notebooks/chronos-forecasting/scripts/training/train.py - INFO - Training\n",
            "  0% 0/1000 [00:00<?, ?it/s]Passing a tuple of `past_key_values` is deprecated and will be removed in Transformers v4.48.0. You should pass an instance of `EncoderDecoderCache` instead, e.g. `past_key_values=EncoderDecoderCache.from_legacy_cache(past_key_values)`.\n",
            "{'loss': 0.7878, 'grad_norm': 0.045535191893577576, 'learning_rate': 0.0005, 'epoch': 0.5}\n",
            "{'loss': 0.7818, 'grad_norm': 0.050575774163007736, 'learning_rate': 0.0, 'epoch': 1.0}\n",
            "{'train_runtime': 1268.3502, 'train_samples_per_second': 25.23, 'train_steps_per_second': 0.788, 'train_loss': 0.7848025817871094, 'epoch': 1.0}\n",
            "100% 1000/1000 [21:08<00:00,  1.27s/it]\n"
          ]
        }
      ],
      "source": [
        "! CUDA_VISIBLE_DEVICES=0 python scripts/training/train.py --config scripts/training/configs/chronos_domain_adp_lh.yaml \\\n",
        "    --model-id amazon/chronos-t5-small \\\n",
        "    --no-random-init \\\n",
        "    --max-steps 1000 \\\n",
        "    --learning-rate 0.001"
      ]
    },
    {
      "cell_type": "markdown",
      "metadata": {},
      "source": [
        "oc: open + close"
      ]
    },
    {
      "cell_type": "code",
      "execution_count": null,
      "metadata": {
        "colab": {
          "base_uri": "https://localhost:8080/"
        },
        "id": "Br6s27pnx2Sk",
        "outputId": "a273f0b5-0153-4877-9d01-c00651533e69"
      },
      "outputs": [
        {
          "name": "stdout",
          "output_type": "stream",
          "text": [
            "2025-01-26 22:42:17.969665: E external/local_xla/xla/stream_executor/cuda/cuda_fft.cc:485] Unable to register cuFFT factory: Attempting to register factory for plugin cuFFT when one has already been registered\n",
            "2025-01-26 22:42:17.988762: E external/local_xla/xla/stream_executor/cuda/cuda_dnn.cc:8454] Unable to register cuDNN factory: Attempting to register factory for plugin cuDNN when one has already been registered\n",
            "2025-01-26 22:42:17.995200: E external/local_xla/xla/stream_executor/cuda/cuda_blas.cc:1452] Unable to register cuBLAS factory: Attempting to register factory for plugin cuBLAS when one has already been registered\n",
            "2025-01-26 22:42:18.009234: I tensorflow/core/platform/cpu_feature_guard.cc:210] This TensorFlow binary is optimized to use available CPU instructions in performance-critical operations.\n",
            "To enable the following instructions: AVX2 AVX512F FMA, in other operations, rebuild TensorFlow with the appropriate compiler flags.\n",
            "2025-01-26 22:42:19.231483: W tensorflow/compiler/tf2tensorrt/utils/py_utils.cc:38] TF-TRT Warning: Could not find TensorRT\n",
            "2025-01-26 22:42:21,198 - /content/drive/MyDrive/Colab Notebooks/chronos-forecasting/scripts/training/train.py - INFO - TF32 format is only available on devices with compute capability >= 8. Setting tf32 to False.\n",
            "2025-01-26 22:42:21,198 - /content/drive/MyDrive/Colab Notebooks/chronos-forecasting/scripts/training/train.py - INFO - Using SEED: 1360976576\n",
            "2025-01-26 22:42:21,203 - /content/drive/MyDrive/Colab Notebooks/chronos-forecasting/scripts/training/train.py - INFO - Logging dir: output/run-2\n",
            "2025-01-26 22:42:21,203 - /content/drive/MyDrive/Colab Notebooks/chronos-forecasting/scripts/training/train.py - INFO - Loading and filtering 1 datasets for training: ['./data/bitcoin-openclose-train.arrow']\n",
            "2025-01-26 22:42:21,203 - /content/drive/MyDrive/Colab Notebooks/chronos-forecasting/scripts/training/train.py - INFO - Mixing probabilities: [0.1]\n",
            "2025-01-26 22:42:22,210 - /content/drive/MyDrive/Colab Notebooks/chronos-forecasting/scripts/training/train.py - INFO - Initializing model\n",
            "2025-01-26 22:42:22,210 - /content/drive/MyDrive/Colab Notebooks/chronos-forecasting/scripts/training/train.py - INFO - Using pretrained initialization from amazon/chronos-t5-small\n",
            "The speedups for torchdynamo mostly come wih GPU Ampere or higher and which is not detected here.\n",
            "2025-01-26 22:42:22,850 - /content/drive/MyDrive/Colab Notebooks/chronos-forecasting/scripts/training/train.py - INFO - Training\n",
            "  0% 0/1000 [00:00<?, ?it/s]Passing a tuple of `past_key_values` is deprecated and will be removed in Transformers v4.48.0. You should pass an instance of `EncoderDecoderCache` instead, e.g. `past_key_values=EncoderDecoderCache.from_legacy_cache(past_key_values)`.\n",
            "{'loss': 0.8135, 'grad_norm': 0.05241101607680321, 'learning_rate': 0.0005, 'epoch': 0.5}\n",
            "{'loss': 0.8031, 'grad_norm': 0.05681772157549858, 'learning_rate': 0.0, 'epoch': 1.0}\n",
            "{'train_runtime': 1199.322, 'train_samples_per_second': 26.682, 'train_steps_per_second': 0.834, 'train_loss': 0.8082828063964844, 'epoch': 1.0}\n",
            "100% 1000/1000 [19:59<00:00,  1.20s/it]\n"
          ]
        }
      ],
      "source": [
        "! CUDA_VISIBLE_DEVICES=0 python scripts/training/train.py --config scripts/training/configs/chronos_domain_adp_oc.yaml \\\n",
        "    --model-id amazon/chronos-t5-small \\\n",
        "    --no-random-init \\\n",
        "    --max-steps 1000 \\\n",
        "    --learning-rate 0.001"
      ]
    }
  ],
  "metadata": {
    "accelerator": "GPU",
    "colab": {
      "gpuType": "T4",
      "provenance": []
    },
    "kernelspec": {
      "display_name": "Python 3",
      "name": "python3"
    },
    "language_info": {
      "name": "python"
    }
  },
  "nbformat": 4,
  "nbformat_minor": 0
}
